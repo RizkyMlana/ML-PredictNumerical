{
  "cells": [
    {
      "cell_type": "markdown",
      "id": "21adf398",
      "metadata": {
        "id": "21adf398"
      },
      "source": [
        "# **Predict Stroke**"
      ]
    },
    {
      "cell_type": "markdown",
      "id": "64df329e",
      "metadata": {
        "id": "64df329e"
      },
      "source": [
        "- Import Library"
      ]
    },
    {
      "cell_type": "code",
      "execution_count": 122,
      "id": "fb8cd3a6",
      "metadata": {
        "id": "fb8cd3a6"
      },
      "outputs": [],
      "source": [
        "import pandas as pd\n",
        "import numpy as np\n",
        "import tensorflow as tf\n",
        "import matplotlib.pyplot as plt\n",
        "from sklearn.model_selection import train_test_split\n",
        "from sklearn.preprocessing import StandardScaler, LabelEncoder\n",
        "from sklearn.metrics import classification_report, confusion_matrix\n",
        "from tensorflow.keras.models import Sequential\n",
        "from tensorflow.keras.layers import Dense, Conv1D, MaxPooling1D, GlobalAveragePooling1D, Dropout, BatchNormalization\n",
        "from tensorflow.keras.callbacks import EarlyStopping\n",
        "from scipy.stats import skew\n",
        "from sklearn.preprocessing import OneHotEncoder\n",
        "from sklearn.model_selection import train_test_split"
      ]
    },
    {
      "cell_type": "markdown",
      "id": "da69341e",
      "metadata": {
        "id": "da69341e"
      },
      "source": [
        "- Load Data"
      ]
    },
    {
      "cell_type": "code",
      "execution_count": 91,
      "id": "22602dc2",
      "metadata": {
        "id": "22602dc2"
      },
      "outputs": [],
      "source": [
        "df = pd.read_csv('../dataset/housing.csv')"
      ]
    },
    {
      "cell_type": "code",
      "execution_count": 92,
      "id": "a351de0e",
      "metadata": {
        "colab": {
          "base_uri": "https://localhost:8080/",
          "height": 206
        },
        "id": "a351de0e",
        "outputId": "46fc7e70-1e9b-4483-d153-d5e5f657b3c5"
      },
      "outputs": [
        {
          "data": {
            "application/vnd.microsoft.datawrangler.viewer.v0+json": {
              "columns": [
                {
                  "name": "index",
                  "rawType": "int64",
                  "type": "integer"
                },
                {
                  "name": "longitude",
                  "rawType": "float64",
                  "type": "float"
                },
                {
                  "name": "latitude",
                  "rawType": "float64",
                  "type": "float"
                },
                {
                  "name": "housing_median_age",
                  "rawType": "float64",
                  "type": "float"
                },
                {
                  "name": "total_rooms",
                  "rawType": "float64",
                  "type": "float"
                },
                {
                  "name": "total_bedrooms",
                  "rawType": "float64",
                  "type": "float"
                },
                {
                  "name": "population",
                  "rawType": "float64",
                  "type": "float"
                },
                {
                  "name": "households",
                  "rawType": "float64",
                  "type": "float"
                },
                {
                  "name": "median_income",
                  "rawType": "float64",
                  "type": "float"
                },
                {
                  "name": "median_house_value",
                  "rawType": "float64",
                  "type": "float"
                },
                {
                  "name": "ocean_proximity",
                  "rawType": "object",
                  "type": "string"
                }
              ],
              "conversionMethod": "pd.DataFrame",
              "ref": "2c8ee381-0377-44a6-b44c-2d60388a1996",
              "rows": [
                [
                  "0",
                  "-122.23",
                  "37.88",
                  "41.0",
                  "880.0",
                  "129.0",
                  "322.0",
                  "126.0",
                  "8.3252",
                  "452600.0",
                  "NEAR BAY"
                ],
                [
                  "1",
                  "-122.22",
                  "37.86",
                  "21.0",
                  "7099.0",
                  "1106.0",
                  "2401.0",
                  "1138.0",
                  "8.3014",
                  "358500.0",
                  "NEAR BAY"
                ],
                [
                  "2",
                  "-122.24",
                  "37.85",
                  "52.0",
                  "1467.0",
                  "190.0",
                  "496.0",
                  "177.0",
                  "7.2574",
                  "352100.0",
                  "NEAR BAY"
                ],
                [
                  "3",
                  "-122.25",
                  "37.85",
                  "52.0",
                  "1274.0",
                  "235.0",
                  "558.0",
                  "219.0",
                  "5.6431",
                  "341300.0",
                  "NEAR BAY"
                ],
                [
                  "4",
                  "-122.25",
                  "37.85",
                  "52.0",
                  "1627.0",
                  "280.0",
                  "565.0",
                  "259.0",
                  "3.8462",
                  "342200.0",
                  "NEAR BAY"
                ]
              ],
              "shape": {
                "columns": 10,
                "rows": 5
              }
            },
            "text/html": [
              "<div>\n",
              "<style scoped>\n",
              "    .dataframe tbody tr th:only-of-type {\n",
              "        vertical-align: middle;\n",
              "    }\n",
              "\n",
              "    .dataframe tbody tr th {\n",
              "        vertical-align: top;\n",
              "    }\n",
              "\n",
              "    .dataframe thead th {\n",
              "        text-align: right;\n",
              "    }\n",
              "</style>\n",
              "<table border=\"1\" class=\"dataframe\">\n",
              "  <thead>\n",
              "    <tr style=\"text-align: right;\">\n",
              "      <th></th>\n",
              "      <th>longitude</th>\n",
              "      <th>latitude</th>\n",
              "      <th>housing_median_age</th>\n",
              "      <th>total_rooms</th>\n",
              "      <th>total_bedrooms</th>\n",
              "      <th>population</th>\n",
              "      <th>households</th>\n",
              "      <th>median_income</th>\n",
              "      <th>median_house_value</th>\n",
              "      <th>ocean_proximity</th>\n",
              "    </tr>\n",
              "  </thead>\n",
              "  <tbody>\n",
              "    <tr>\n",
              "      <th>0</th>\n",
              "      <td>-122.23</td>\n",
              "      <td>37.88</td>\n",
              "      <td>41.0</td>\n",
              "      <td>880.0</td>\n",
              "      <td>129.0</td>\n",
              "      <td>322.0</td>\n",
              "      <td>126.0</td>\n",
              "      <td>8.3252</td>\n",
              "      <td>452600.0</td>\n",
              "      <td>NEAR BAY</td>\n",
              "    </tr>\n",
              "    <tr>\n",
              "      <th>1</th>\n",
              "      <td>-122.22</td>\n",
              "      <td>37.86</td>\n",
              "      <td>21.0</td>\n",
              "      <td>7099.0</td>\n",
              "      <td>1106.0</td>\n",
              "      <td>2401.0</td>\n",
              "      <td>1138.0</td>\n",
              "      <td>8.3014</td>\n",
              "      <td>358500.0</td>\n",
              "      <td>NEAR BAY</td>\n",
              "    </tr>\n",
              "    <tr>\n",
              "      <th>2</th>\n",
              "      <td>-122.24</td>\n",
              "      <td>37.85</td>\n",
              "      <td>52.0</td>\n",
              "      <td>1467.0</td>\n",
              "      <td>190.0</td>\n",
              "      <td>496.0</td>\n",
              "      <td>177.0</td>\n",
              "      <td>7.2574</td>\n",
              "      <td>352100.0</td>\n",
              "      <td>NEAR BAY</td>\n",
              "    </tr>\n",
              "    <tr>\n",
              "      <th>3</th>\n",
              "      <td>-122.25</td>\n",
              "      <td>37.85</td>\n",
              "      <td>52.0</td>\n",
              "      <td>1274.0</td>\n",
              "      <td>235.0</td>\n",
              "      <td>558.0</td>\n",
              "      <td>219.0</td>\n",
              "      <td>5.6431</td>\n",
              "      <td>341300.0</td>\n",
              "      <td>NEAR BAY</td>\n",
              "    </tr>\n",
              "    <tr>\n",
              "      <th>4</th>\n",
              "      <td>-122.25</td>\n",
              "      <td>37.85</td>\n",
              "      <td>52.0</td>\n",
              "      <td>1627.0</td>\n",
              "      <td>280.0</td>\n",
              "      <td>565.0</td>\n",
              "      <td>259.0</td>\n",
              "      <td>3.8462</td>\n",
              "      <td>342200.0</td>\n",
              "      <td>NEAR BAY</td>\n",
              "    </tr>\n",
              "  </tbody>\n",
              "</table>\n",
              "</div>"
            ],
            "text/plain": [
              "   longitude  latitude  housing_median_age  total_rooms  total_bedrooms  \\\n",
              "0    -122.23     37.88                41.0        880.0           129.0   \n",
              "1    -122.22     37.86                21.0       7099.0          1106.0   \n",
              "2    -122.24     37.85                52.0       1467.0           190.0   \n",
              "3    -122.25     37.85                52.0       1274.0           235.0   \n",
              "4    -122.25     37.85                52.0       1627.0           280.0   \n",
              "\n",
              "   population  households  median_income  median_house_value ocean_proximity  \n",
              "0       322.0       126.0         8.3252            452600.0        NEAR BAY  \n",
              "1      2401.0      1138.0         8.3014            358500.0        NEAR BAY  \n",
              "2       496.0       177.0         7.2574            352100.0        NEAR BAY  \n",
              "3       558.0       219.0         5.6431            341300.0        NEAR BAY  \n",
              "4       565.0       259.0         3.8462            342200.0        NEAR BAY  "
            ]
          },
          "execution_count": 92,
          "metadata": {},
          "output_type": "execute_result"
        }
      ],
      "source": [
        "df.head()"
      ]
    },
    {
      "cell_type": "markdown",
      "id": "40103346",
      "metadata": {
        "id": "40103346"
      },
      "source": [
        "## Data Preprocessing"
      ]
    },
    {
      "cell_type": "markdown",
      "id": "f4b4e028",
      "metadata": {
        "id": "f4b4e028"
      },
      "source": [
        "- Handling Missing & Duplicated Values"
      ]
    },
    {
      "cell_type": "code",
      "execution_count": 93,
      "id": "1c7977ed",
      "metadata": {
        "colab": {
          "base_uri": "https://localhost:8080/"
        },
        "id": "1c7977ed",
        "outputId": "911ff2d4-fc52-4a33-9e56-661d88d8143c"
      },
      "outputs": [
        {
          "data": {
            "text/plain": [
              "np.int64(0)"
            ]
          },
          "execution_count": 93,
          "metadata": {},
          "output_type": "execute_result"
        }
      ],
      "source": [
        "df.duplicated().sum()"
      ]
    },
    {
      "cell_type": "code",
      "execution_count": 94,
      "id": "R6pP_ldu8GIy",
      "metadata": {
        "colab": {
          "base_uri": "https://localhost:8080/"
        },
        "id": "R6pP_ldu8GIy",
        "outputId": "75fb2069-4681-4508-80c4-1007beb5eda3"
      },
      "outputs": [
        {
          "name": "stdout",
          "output_type": "stream",
          "text": [
            "<class 'pandas.core.frame.DataFrame'>\n",
            "RangeIndex: 20640 entries, 0 to 20639\n",
            "Data columns (total 10 columns):\n",
            " #   Column              Non-Null Count  Dtype  \n",
            "---  ------              --------------  -----  \n",
            " 0   longitude           20640 non-null  float64\n",
            " 1   latitude            20640 non-null  float64\n",
            " 2   housing_median_age  20640 non-null  float64\n",
            " 3   total_rooms         20640 non-null  float64\n",
            " 4   total_bedrooms      20433 non-null  float64\n",
            " 5   population          20640 non-null  float64\n",
            " 6   households          20640 non-null  float64\n",
            " 7   median_income       20640 non-null  float64\n",
            " 8   median_house_value  20640 non-null  float64\n",
            " 9   ocean_proximity     20640 non-null  object \n",
            "dtypes: float64(9), object(1)\n",
            "memory usage: 1.6+ MB\n"
          ]
        }
      ],
      "source": [
        "df.info()"
      ]
    },
    {
      "cell_type": "code",
      "execution_count": 95,
      "id": "25904148",
      "metadata": {
        "colab": {
          "base_uri": "https://localhost:8080/",
          "height": 398
        },
        "id": "25904148",
        "outputId": "3f149fce-beb5-43f8-d97c-3c1816307fb2"
      },
      "outputs": [
        {
          "data": {
            "text/plain": [
              "longitude               0\n",
              "latitude                0\n",
              "housing_median_age      0\n",
              "total_rooms             0\n",
              "total_bedrooms        207\n",
              "population              0\n",
              "households              0\n",
              "median_income           0\n",
              "median_house_value      0\n",
              "ocean_proximity         0\n",
              "dtype: int64"
            ]
          },
          "execution_count": 95,
          "metadata": {},
          "output_type": "execute_result"
        }
      ],
      "source": [
        "df.isna().sum()"
      ]
    },
    {
      "cell_type": "code",
      "execution_count": 96,
      "id": "cab433f2",
      "metadata": {},
      "outputs": [],
      "source": [
        "df = df.dropna()"
      ]
    },
    {
      "cell_type": "code",
      "execution_count": 97,
      "id": "ad821367",
      "metadata": {
        "colab": {
          "base_uri": "https://localhost:8080/",
          "height": 300
        },
        "id": "ad821367",
        "outputId": "70881007-5308-459e-f3fd-444e8e3b14df"
      },
      "outputs": [
        {
          "data": {
            "application/vnd.microsoft.datawrangler.viewer.v0+json": {
              "columns": [
                {
                  "name": "index",
                  "rawType": "object",
                  "type": "string"
                },
                {
                  "name": "longitude",
                  "rawType": "float64",
                  "type": "float"
                },
                {
                  "name": "latitude",
                  "rawType": "float64",
                  "type": "float"
                },
                {
                  "name": "housing_median_age",
                  "rawType": "float64",
                  "type": "float"
                },
                {
                  "name": "total_rooms",
                  "rawType": "float64",
                  "type": "float"
                },
                {
                  "name": "total_bedrooms",
                  "rawType": "float64",
                  "type": "float"
                },
                {
                  "name": "population",
                  "rawType": "float64",
                  "type": "float"
                },
                {
                  "name": "households",
                  "rawType": "float64",
                  "type": "float"
                },
                {
                  "name": "median_income",
                  "rawType": "float64",
                  "type": "float"
                },
                {
                  "name": "median_house_value",
                  "rawType": "float64",
                  "type": "float"
                }
              ],
              "conversionMethod": "pd.DataFrame",
              "ref": "6ce0c0f3-3cb1-424b-9269-e4fadf112bc4",
              "rows": [
                [
                  "count",
                  "20433.0",
                  "20433.0",
                  "20433.0",
                  "20433.0",
                  "20433.0",
                  "20433.0",
                  "20433.0",
                  "20433.0",
                  "20433.0"
                ],
                [
                  "mean",
                  "-119.57068859198355",
                  "35.63322125972691",
                  "28.633093525179856",
                  "2636.5042333480155",
                  "537.8705525375618",
                  "1424.9469485635982",
                  "499.43346547251997",
                  "3.8711616013311794",
                  "206864.41315519012"
                ],
                [
                  "std",
                  "2.003577890751073",
                  "2.1363476663780268",
                  "12.591805202182874",
                  "2185.2695669775953",
                  "421.3850700740323",
                  "1133.2084897449556",
                  "382.2992258828495",
                  "1.8992912493062482",
                  "115435.6670985836"
                ],
                [
                  "min",
                  "-124.35",
                  "32.54",
                  "1.0",
                  "2.0",
                  "1.0",
                  "3.0",
                  "1.0",
                  "0.4999",
                  "14999.0"
                ],
                [
                  "25%",
                  "-121.8",
                  "33.93",
                  "18.0",
                  "1450.0",
                  "296.0",
                  "787.0",
                  "280.0",
                  "2.5637",
                  "119500.0"
                ],
                [
                  "50%",
                  "-118.49",
                  "34.26",
                  "29.0",
                  "2127.0",
                  "435.0",
                  "1166.0",
                  "409.0",
                  "3.5365",
                  "179700.0"
                ],
                [
                  "75%",
                  "-118.01",
                  "37.72",
                  "37.0",
                  "3143.0",
                  "647.0",
                  "1722.0",
                  "604.0",
                  "4.744",
                  "264700.0"
                ],
                [
                  "max",
                  "-114.31",
                  "41.95",
                  "52.0",
                  "39320.0",
                  "6445.0",
                  "35682.0",
                  "6082.0",
                  "15.0001",
                  "500001.0"
                ]
              ],
              "shape": {
                "columns": 9,
                "rows": 8
              }
            },
            "text/html": [
              "<div>\n",
              "<style scoped>\n",
              "    .dataframe tbody tr th:only-of-type {\n",
              "        vertical-align: middle;\n",
              "    }\n",
              "\n",
              "    .dataframe tbody tr th {\n",
              "        vertical-align: top;\n",
              "    }\n",
              "\n",
              "    .dataframe thead th {\n",
              "        text-align: right;\n",
              "    }\n",
              "</style>\n",
              "<table border=\"1\" class=\"dataframe\">\n",
              "  <thead>\n",
              "    <tr style=\"text-align: right;\">\n",
              "      <th></th>\n",
              "      <th>longitude</th>\n",
              "      <th>latitude</th>\n",
              "      <th>housing_median_age</th>\n",
              "      <th>total_rooms</th>\n",
              "      <th>total_bedrooms</th>\n",
              "      <th>population</th>\n",
              "      <th>households</th>\n",
              "      <th>median_income</th>\n",
              "      <th>median_house_value</th>\n",
              "    </tr>\n",
              "  </thead>\n",
              "  <tbody>\n",
              "    <tr>\n",
              "      <th>count</th>\n",
              "      <td>20433.000000</td>\n",
              "      <td>20433.000000</td>\n",
              "      <td>20433.000000</td>\n",
              "      <td>20433.000000</td>\n",
              "      <td>20433.000000</td>\n",
              "      <td>20433.000000</td>\n",
              "      <td>20433.000000</td>\n",
              "      <td>20433.000000</td>\n",
              "      <td>20433.000000</td>\n",
              "    </tr>\n",
              "    <tr>\n",
              "      <th>mean</th>\n",
              "      <td>-119.570689</td>\n",
              "      <td>35.633221</td>\n",
              "      <td>28.633094</td>\n",
              "      <td>2636.504233</td>\n",
              "      <td>537.870553</td>\n",
              "      <td>1424.946949</td>\n",
              "      <td>499.433465</td>\n",
              "      <td>3.871162</td>\n",
              "      <td>206864.413155</td>\n",
              "    </tr>\n",
              "    <tr>\n",
              "      <th>std</th>\n",
              "      <td>2.003578</td>\n",
              "      <td>2.136348</td>\n",
              "      <td>12.591805</td>\n",
              "      <td>2185.269567</td>\n",
              "      <td>421.385070</td>\n",
              "      <td>1133.208490</td>\n",
              "      <td>382.299226</td>\n",
              "      <td>1.899291</td>\n",
              "      <td>115435.667099</td>\n",
              "    </tr>\n",
              "    <tr>\n",
              "      <th>min</th>\n",
              "      <td>-124.350000</td>\n",
              "      <td>32.540000</td>\n",
              "      <td>1.000000</td>\n",
              "      <td>2.000000</td>\n",
              "      <td>1.000000</td>\n",
              "      <td>3.000000</td>\n",
              "      <td>1.000000</td>\n",
              "      <td>0.499900</td>\n",
              "      <td>14999.000000</td>\n",
              "    </tr>\n",
              "    <tr>\n",
              "      <th>25%</th>\n",
              "      <td>-121.800000</td>\n",
              "      <td>33.930000</td>\n",
              "      <td>18.000000</td>\n",
              "      <td>1450.000000</td>\n",
              "      <td>296.000000</td>\n",
              "      <td>787.000000</td>\n",
              "      <td>280.000000</td>\n",
              "      <td>2.563700</td>\n",
              "      <td>119500.000000</td>\n",
              "    </tr>\n",
              "    <tr>\n",
              "      <th>50%</th>\n",
              "      <td>-118.490000</td>\n",
              "      <td>34.260000</td>\n",
              "      <td>29.000000</td>\n",
              "      <td>2127.000000</td>\n",
              "      <td>435.000000</td>\n",
              "      <td>1166.000000</td>\n",
              "      <td>409.000000</td>\n",
              "      <td>3.536500</td>\n",
              "      <td>179700.000000</td>\n",
              "    </tr>\n",
              "    <tr>\n",
              "      <th>75%</th>\n",
              "      <td>-118.010000</td>\n",
              "      <td>37.720000</td>\n",
              "      <td>37.000000</td>\n",
              "      <td>3143.000000</td>\n",
              "      <td>647.000000</td>\n",
              "      <td>1722.000000</td>\n",
              "      <td>604.000000</td>\n",
              "      <td>4.744000</td>\n",
              "      <td>264700.000000</td>\n",
              "    </tr>\n",
              "    <tr>\n",
              "      <th>max</th>\n",
              "      <td>-114.310000</td>\n",
              "      <td>41.950000</td>\n",
              "      <td>52.000000</td>\n",
              "      <td>39320.000000</td>\n",
              "      <td>6445.000000</td>\n",
              "      <td>35682.000000</td>\n",
              "      <td>6082.000000</td>\n",
              "      <td>15.000100</td>\n",
              "      <td>500001.000000</td>\n",
              "    </tr>\n",
              "  </tbody>\n",
              "</table>\n",
              "</div>"
            ],
            "text/plain": [
              "          longitude      latitude  housing_median_age   total_rooms  \\\n",
              "count  20433.000000  20433.000000        20433.000000  20433.000000   \n",
              "mean    -119.570689     35.633221           28.633094   2636.504233   \n",
              "std        2.003578      2.136348           12.591805   2185.269567   \n",
              "min     -124.350000     32.540000            1.000000      2.000000   \n",
              "25%     -121.800000     33.930000           18.000000   1450.000000   \n",
              "50%     -118.490000     34.260000           29.000000   2127.000000   \n",
              "75%     -118.010000     37.720000           37.000000   3143.000000   \n",
              "max     -114.310000     41.950000           52.000000  39320.000000   \n",
              "\n",
              "       total_bedrooms    population    households  median_income  \\\n",
              "count    20433.000000  20433.000000  20433.000000   20433.000000   \n",
              "mean       537.870553   1424.946949    499.433465       3.871162   \n",
              "std        421.385070   1133.208490    382.299226       1.899291   \n",
              "min          1.000000      3.000000      1.000000       0.499900   \n",
              "25%        296.000000    787.000000    280.000000       2.563700   \n",
              "50%        435.000000   1166.000000    409.000000       3.536500   \n",
              "75%        647.000000   1722.000000    604.000000       4.744000   \n",
              "max       6445.000000  35682.000000   6082.000000      15.000100   \n",
              "\n",
              "       median_house_value  \n",
              "count        20433.000000  \n",
              "mean        206864.413155  \n",
              "std         115435.667099  \n",
              "min          14999.000000  \n",
              "25%         119500.000000  \n",
              "50%         179700.000000  \n",
              "75%         264700.000000  \n",
              "max         500001.000000  "
            ]
          },
          "execution_count": 97,
          "metadata": {},
          "output_type": "execute_result"
        }
      ],
      "source": [
        "df.describe()"
      ]
    },
    {
      "cell_type": "code",
      "execution_count": 98,
      "id": "7942190e",
      "metadata": {
        "colab": {
          "base_uri": "https://localhost:8080/"
        },
        "id": "7942190e",
        "outputId": "2b2ed44f-2dae-429d-96f1-7c70a0a6ee33"
      },
      "outputs": [
        {
          "name": "stdout",
          "output_type": "stream",
          "text": [
            "Kolom 'longitude': 0 outlier\n",
            "Kolom 'latitude': 0 outlier\n",
            "Kolom 'housing_median_age': 0 outlier\n",
            "Kolom 'total_rooms': 1290 outlier\n",
            "Kolom 'total_bedrooms': 1271 outlier\n",
            "Kolom 'population': 1190 outlier\n",
            "Kolom 'households': 1210 outlier\n",
            "Kolom 'median_income': 670 outlier\n",
            "Kolom 'median_house_value': 1064 outlier\n"
          ]
        }
      ],
      "source": [
        "numeric = df.select_dtypes(include=['number']).columns\n",
        "for i in numeric:\n",
        "    Q1 = df[i].quantile(0.25)\n",
        "    Q3 = df[i].quantile(0.75)\n",
        "    IQR = Q3 - Q1\n",
        "    lower = Q1 - 1.5 * IQR\n",
        "    upper = Q3 + 1.5 * IQR\n",
        "\n",
        "    outliers = df[(df[i] < lower) | (df[i] > upper)]\n",
        "    print(f\"Kolom '{i}': {len(outliers)} outlier\")"
      ]
    },
    {
      "cell_type": "markdown",
      "id": "10ed782d",
      "metadata": {
        "id": "10ed782d"
      },
      "source": [
        "- Outliers Handling"
      ]
    },
    {
      "cell_type": "code",
      "execution_count": 99,
      "id": "bbf7a9d2",
      "metadata": {
        "colab": {
          "base_uri": "https://localhost:8080/",
          "height": 272
        },
        "id": "bbf7a9d2",
        "outputId": "20beba9e-7084-4e87-86b9-407a0822e8fb"
      },
      "outputs": [
        {
          "data": {
            "text/plain": [
              "ocean_proximity\n",
              "<1H OCEAN     9034\n",
              "INLAND        6496\n",
              "NEAR OCEAN    2628\n",
              "NEAR BAY      2270\n",
              "ISLAND           5\n",
              "Name: count, dtype: int64"
            ]
          },
          "execution_count": 99,
          "metadata": {},
          "output_type": "execute_result"
        }
      ],
      "source": [
        "df['ocean_proximity'].value_counts()"
      ]
    },
    {
      "cell_type": "code",
      "execution_count": 100,
      "id": "6Jx07llU8py8",
      "metadata": {
        "id": "6Jx07llU8py8"
      },
      "outputs": [],
      "source": [
        "\n",
        "def outliersHandling(series):\n",
        "  Q1 = df[series].quantile(0.25)\n",
        "  Q3 = df[series].quantile(0.75)\n",
        "  IQR = Q3 - Q1\n",
        "  lower_bound = Q1 - 1.5 * IQR\n",
        "  upper_bound = Q3 + 1.5 * IQR\n",
        "  df.loc[df[series] > upper_bound, series] = upper_bound\n",
        "  df.loc[df[series] < lower_bound, series] = lower_bound\n",
        "  return df\n"
      ]
    },
    {
      "cell_type": "code",
      "execution_count": 101,
      "id": "FcsnZV_9ES0O",
      "metadata": {
        "colab": {
          "base_uri": "https://localhost:8080/"
        },
        "id": "FcsnZV_9ES0O",
        "outputId": "01a04855-1d7f-4de0-d584-2e95847d79c1"
      },
      "outputs": [
        {
          "name": "stdout",
          "output_type": "stream",
          "text": [
            "Kolom 'longitude': 0 outlier\n",
            "Kolom 'latitude': 0 outlier\n",
            "Kolom 'housing_median_age': 0 outlier\n",
            "Kolom 'total_rooms': 0 outlier\n",
            "Kolom 'total_bedrooms': 0 outlier\n",
            "Kolom 'population': 0 outlier\n",
            "Kolom 'households': 0 outlier\n",
            "Kolom 'median_income': 0 outlier\n",
            "Kolom 'median_house_value': 0 outlier\n"
          ]
        }
      ],
      "source": [
        "numeric = df.select_dtypes(include=['number']).columns\n",
        "\n",
        "for i in numeric:\n",
        "  df = outliersHandling(i)\n",
        "\n",
        "for i in numeric:\n",
        "    Q1 = df[i].quantile(0.25)\n",
        "    Q3 = df[i].quantile(0.75)\n",
        "    IQR = Q3 - Q1\n",
        "    lower = Q1 - 1.5 * IQR\n",
        "    upper = Q3 + 1.5 * IQR\n",
        "\n",
        "    outliers = df[(df[i] < lower) | (df[i] > upper)]\n",
        "    print(f\"Kolom '{i}': {len(outliers)} outlier\")"
      ]
    },
    {
      "cell_type": "markdown",
      "id": "StgKSRjSFKd2",
      "metadata": {
        "id": "StgKSRjSFKd2"
      },
      "source": [
        "- Feature Engineering"
      ]
    },
    {
      "cell_type": "code",
      "execution_count": null,
      "id": "1nDAq5NnFGRL",
      "metadata": {
        "id": "1nDAq5NnFGRL"
      },
      "outputs": [],
      "source": [
        "ohe = OneHotEncoder(sparse_output=False)\n",
        "encoded_data = ohe.fit_transform(df[['ocean_proximity']])\n",
        "encoded_df = pd.DataFrame(encoded_data, columns=ohe.get_feature_names_out(['ocean_proximity']))"
      ]
    },
    {
      "cell_type": "markdown",
      "id": "de373a86",
      "metadata": {},
      "source": [
        "- Data Splitting"
      ]
    },
    {
      "cell_type": "code",
      "execution_count": 112,
      "id": "135acd81",
      "metadata": {},
      "outputs": [],
      "source": [
        "X = encoded_df\n",
        "y = df['median_house_value']\n",
        "\n",
        "X_train, X_test, y_train, y_test = train_test_split(X, y, test_size=0.2, random_state=42)"
      ]
    },
    {
      "cell_type": "code",
      "execution_count": 113,
      "id": "afb24971",
      "metadata": {},
      "outputs": [],
      "source": [
        "scaler = StandardScaler()\n",
        "X_train = scaler.fit_transform(X_train)\n",
        "X_test = scaler.transform(X_test)"
      ]
    },
    {
      "cell_type": "markdown",
      "id": "80b4104c",
      "metadata": {
        "id": "80b4104c"
      },
      "source": [
        "## Modelling & Evaluation"
      ]
    },
    {
      "cell_type": "code",
      "execution_count": 118,
      "id": "cec31fb9",
      "metadata": {
        "colab": {
          "base_uri": "https://localhost:8080/",
          "height": 211
        },
        "id": "cec31fb9",
        "outputId": "b38b8df5-0b21-4808-fc0d-494a7db390f6"
      },
      "outputs": [
        {
          "name": "stdout",
          "output_type": "stream",
          "text": [
            "Epoch 1/20\n"
          ]
        },
        {
          "name": "stderr",
          "output_type": "stream",
          "text": [
            "d:\\ML\\ML-PredictNumerical\\.venv\\lib\\site-packages\\keras\\src\\layers\\core\\dense.py:87: UserWarning: Do not pass an `input_shape`/`input_dim` argument to a layer. When using Sequential models, prefer using an `Input(shape)` object as the first layer in the model instead.\n",
            "  super().__init__(activity_regularizer=activity_regularizer, **kwargs)\n"
          ]
        },
        {
          "name": "stdout",
          "output_type": "stream",
          "text": [
            "\u001b[1m511/511\u001b[0m \u001b[32m━━━━━━━━━━━━━━━━━━━━\u001b[0m\u001b[37m\u001b[0m \u001b[1m3s\u001b[0m 3ms/step - loss: 52819877888.0000 - mae: 199615.0156 - val_loss: 16087198720.0000 - val_mae: 88387.7891\n",
            "Epoch 2/20\n",
            "\u001b[1m511/511\u001b[0m \u001b[32m━━━━━━━━━━━━━━━━━━━━\u001b[0m\u001b[37m\u001b[0m \u001b[1m2s\u001b[0m 3ms/step - loss: 12181000192.0000 - mae: 81235.2969 - val_loss: 9985990656.0000 - val_mae: 76061.5859\n",
            "Epoch 3/20\n",
            "\u001b[1m511/511\u001b[0m \u001b[32m━━━━━━━━━━━━━━━━━━━━\u001b[0m\u001b[37m\u001b[0m \u001b[1m2s\u001b[0m 3ms/step - loss: 10738295808.0000 - mae: 78490.6016 - val_loss: 9922265088.0000 - val_mae: 76346.6250\n",
            "Epoch 4/20\n",
            "\u001b[1m511/511\u001b[0m \u001b[32m━━━━━━━━━━━━━━━━━━━━\u001b[0m\u001b[37m\u001b[0m \u001b[1m2s\u001b[0m 3ms/step - loss: 10970929152.0000 - mae: 79309.4141 - val_loss: 9936456704.0000 - val_mae: 76171.1641\n",
            "Epoch 5/20\n",
            "\u001b[1m511/511\u001b[0m \u001b[32m━━━━━━━━━━━━━━━━━━━━\u001b[0m\u001b[37m\u001b[0m \u001b[1m2s\u001b[0m 3ms/step - loss: 10900899840.0000 - mae: 79555.3438 - val_loss: 9969283072.0000 - val_mae: 75959.1406\n",
            "Epoch 6/20\n",
            "\u001b[1m511/511\u001b[0m \u001b[32m━━━━━━━━━━━━━━━━━━━━\u001b[0m\u001b[37m\u001b[0m \u001b[1m2s\u001b[0m 3ms/step - loss: 11148991488.0000 - mae: 79671.7031 - val_loss: 9957997568.0000 - val_mae: 76064.2812\n",
            "Epoch 7/20\n",
            "\u001b[1m511/511\u001b[0m \u001b[32m━━━━━━━━━━━━━━━━━━━━\u001b[0m\u001b[37m\u001b[0m \u001b[1m2s\u001b[0m 3ms/step - loss: 10927975424.0000 - mae: 79137.3438 - val_loss: 9974274048.0000 - val_mae: 75878.5234\n",
            "Epoch 8/20\n",
            "\u001b[1m511/511\u001b[0m \u001b[32m━━━━━━━━━━━━━━━━━━━━\u001b[0m\u001b[37m\u001b[0m \u001b[1m2s\u001b[0m 3ms/step - loss: 10899998720.0000 - mae: 78898.1797 - val_loss: 9948427264.0000 - val_mae: 76268.8828\n"
          ]
        }
      ],
      "source": [
        "model = Sequential([\n",
        "    Dense(128, activation='relu', input_shape=(X_train.shape[1],)),\n",
        "    Dense(64, activation='relu'),\n",
        "    Dropout(0.3),\n",
        "    Dense(32, activation='relu'),\n",
        "    Dropout(0.2),\n",
        "    Dense(1)  # Output layer untuk regresi\n",
        "])\n",
        "\n",
        "# Kompilasi model dengan optimizer dan loss function untuk regresi\n",
        "model.compile(optimizer='adam', loss='mean_squared_error', metrics=['mae'])\n",
        "\n",
        "# Menggunakan EarlyStopping untuk menghentikan training jika model tidak mengalami peningkatan\n",
        "early = EarlyStopping(patience=5, restore_best_weights=True)\n",
        "\n",
        "# Melatih model\n",
        "history = model.fit(X_train, y_train, validation_data=(X_test, y_test), epochs=20, batch_size=32, callbacks=[early])"
      ]
    },
    {
      "cell_type": "code",
      "execution_count": 120,
      "id": "813376c2",
      "metadata": {},
      "outputs": [
        {
          "name": "stdout",
          "output_type": "stream",
          "text": [
            "MAE sekitar 36.87% dari rata-rata harga rumah.\n"
          ]
        }
      ],
      "source": [
        "val_mae = history.history['val_mae'][-1]\n",
        "mae_percent = (val_mae / y_test.mean()) * 100\n",
        "print(f\"MAE sekitar {mae_percent:.2f}% dari rata-rata harga rumah.\")"
      ]
    },
    {
      "cell_type": "code",
      "execution_count": 129,
      "id": "83fd920f",
      "metadata": {
        "colab": {
          "base_uri": "https://localhost:8080/",
          "height": 211
        },
        "id": "83fd920f",
        "outputId": "1c260ab8-3cbc-4b4d-9d57-a4b5781c1c22"
      },
      "outputs": [
        {
          "name": "stdout",
          "output_type": "stream",
          "text": [
            "Epoch 1/20\n"
          ]
        },
        {
          "name": "stderr",
          "output_type": "stream",
          "text": [
            "d:\\ML\\ML-PredictNumerical\\.venv\\lib\\site-packages\\keras\\src\\layers\\convolutional\\base_conv.py:107: UserWarning: Do not pass an `input_shape`/`input_dim` argument to a layer. When using Sequential models, prefer using an `Input(shape)` object as the first layer in the model instead.\n",
            "  super().__init__(activity_regularizer=activity_regularizer, **kwargs)\n"
          ]
        },
        {
          "name": "stdout",
          "output_type": "stream",
          "text": [
            "\u001b[1m409/409\u001b[0m \u001b[32m━━━━━━━━━━━━━━━━━━━━\u001b[0m\u001b[37m\u001b[0m \u001b[1m4s\u001b[0m 5ms/step - loss: 55026593792.0000 - mae: 205572.5000 - val_loss: 45253390336.0000 - val_mae: 179941.1094\n",
            "Epoch 2/20\n",
            "\u001b[1m409/409\u001b[0m \u001b[32m━━━━━━━━━━━━━━━━━━━━\u001b[0m\u001b[37m\u001b[0m \u001b[1m2s\u001b[0m 4ms/step - loss: 33408432128.0000 - mae: 144439.1875 - val_loss: 15396417536.0000 - val_mae: 85321.2500\n",
            "Epoch 3/20\n",
            "\u001b[1m409/409\u001b[0m \u001b[32m━━━━━━━━━━━━━━━━━━━━\u001b[0m\u001b[37m\u001b[0m \u001b[1m2s\u001b[0m 4ms/step - loss: 11896930304.0000 - mae: 82310.7891 - val_loss: 12895101952.0000 - val_mae: 77109.6406\n",
            "Epoch 4/20\n",
            "\u001b[1m409/409\u001b[0m \u001b[32m━━━━━━━━━━━━━━━━━━━━\u001b[0m\u001b[37m\u001b[0m \u001b[1m2s\u001b[0m 5ms/step - loss: 10653019136.0000 - mae: 78051.5391 - val_loss: 11447840768.0000 - val_mae: 75582.0547\n",
            "Epoch 5/20\n",
            "\u001b[1m409/409\u001b[0m \u001b[32m━━━━━━━━━━━━━━━━━━━━\u001b[0m\u001b[37m\u001b[0m \u001b[1m2s\u001b[0m 4ms/step - loss: 10681857024.0000 - mae: 78246.3750 - val_loss: 11163105280.0000 - val_mae: 75357.8750\n",
            "Epoch 6/20\n",
            "\u001b[1m409/409\u001b[0m \u001b[32m━━━━━━━━━━━━━━━━━━━━\u001b[0m\u001b[37m\u001b[0m \u001b[1m2s\u001b[0m 4ms/step - loss: 10714515456.0000 - mae: 78529.1562 - val_loss: 11036517376.0000 - val_mae: 75205.2969\n",
            "Epoch 7/20\n",
            "\u001b[1m409/409\u001b[0m \u001b[32m━━━━━━━━━━━━━━━━━━━━\u001b[0m\u001b[37m\u001b[0m \u001b[1m2s\u001b[0m 4ms/step - loss: 10251044864.0000 - mae: 77096.0078 - val_loss: 10950552576.0000 - val_mae: 74706.3672\n",
            "Epoch 8/20\n",
            "\u001b[1m409/409\u001b[0m \u001b[32m━━━━━━━━━━━━━━━━━━━━\u001b[0m\u001b[37m\u001b[0m \u001b[1m2s\u001b[0m 5ms/step - loss: 10848379904.0000 - mae: 78992.8516 - val_loss: 10702921728.0000 - val_mae: 76342.4609\n",
            "Epoch 9/20\n",
            "\u001b[1m409/409\u001b[0m \u001b[32m━━━━━━━━━━━━━━━━━━━━\u001b[0m\u001b[37m\u001b[0m \u001b[1m2s\u001b[0m 4ms/step - loss: 10283816960.0000 - mae: 77006.4844 - val_loss: 10720294912.0000 - val_mae: 74877.3594\n",
            "Epoch 10/20\n",
            "\u001b[1m409/409\u001b[0m \u001b[32m━━━━━━━━━━━━━━━━━━━━\u001b[0m\u001b[37m\u001b[0m \u001b[1m2s\u001b[0m 5ms/step - loss: 10547631104.0000 - mae: 77812.0938 - val_loss: 10587456512.0000 - val_mae: 74888.2344\n",
            "Epoch 11/20\n",
            "\u001b[1m409/409\u001b[0m \u001b[32m━━━━━━━━━━━━━━━━━━━━\u001b[0m\u001b[37m\u001b[0m \u001b[1m2s\u001b[0m 5ms/step - loss: 10684896256.0000 - mae: 78260.8906 - val_loss: 10920953856.0000 - val_mae: 75603.3438\n",
            "Epoch 12/20\n",
            "\u001b[1m409/409\u001b[0m \u001b[32m━━━━━━━━━━━━━━━━━━━━\u001b[0m\u001b[37m\u001b[0m \u001b[1m2s\u001b[0m 5ms/step - loss: 10557744128.0000 - mae: 77973.2266 - val_loss: 10846063616.0000 - val_mae: 75886.8984\n",
            "Epoch 13/20\n",
            "\u001b[1m409/409\u001b[0m \u001b[32m━━━━━━━━━━━━━━━━━━━━\u001b[0m\u001b[37m\u001b[0m \u001b[1m2s\u001b[0m 5ms/step - loss: 10574731264.0000 - mae: 78460.3203 - val_loss: 11082492928.0000 - val_mae: 75162.8203\n",
            "Epoch 14/20\n",
            "\u001b[1m409/409\u001b[0m \u001b[32m━━━━━━━━━━━━━━━━━━━━\u001b[0m\u001b[37m\u001b[0m \u001b[1m3s\u001b[0m 4ms/step - loss: 10701713408.0000 - mae: 78606.6016 - val_loss: 10852526080.0000 - val_mae: 74497.9453\n",
            "Epoch 15/20\n",
            "\u001b[1m409/409\u001b[0m \u001b[32m━━━━━━━━━━━━━━━━━━━━\u001b[0m\u001b[37m\u001b[0m \u001b[1m2s\u001b[0m 4ms/step - loss: 10393366528.0000 - mae: 77197.3203 - val_loss: 11151560704.0000 - val_mae: 75021.2578\n"
          ]
        }
      ],
      "source": [
        "X_train_cnn = X_train.reshape(X_train.shape[0], X_train.shape[1], 1)\n",
        "X_test_cnn = X_test.reshape(X_test.shape[0], X_test.shape[1], 1)\n",
        "\n",
        "cnn_model = Sequential([\n",
        "    Conv1D(64, kernel_size=2, activation='relu', padding='same', input_shape=(X_train.shape[1], 1)),\n",
        "    MaxPooling1D(pool_size=2),\n",
        "    BatchNormalization(),\n",
        "    Conv1D(32, kernel_size=2, activation='relu', padding='same'),\n",
        "    GlobalAveragePooling1D(),\n",
        "    Dense(64, activation='relu'),\n",
        "    Dropout(0.3),\n",
        "    Dense(1)\n",
        "])\n",
        "\n",
        "cnn_model.compile(optimizer='adam', loss='mean_squared_error', metrics=['mae'])\n",
        "early = EarlyStopping(patience=5, restore_best_weights=True)\n",
        "history_cnn = cnn_model.fit(X_train_cnn, y_train, epochs=20, validation_split=0.2, verbose=1, callbacks=[early])\n"
      ]
    },
    {
      "cell_type": "code",
      "execution_count": 132,
      "id": "69a1a598",
      "metadata": {},
      "outputs": [
        {
          "name": "stdout",
          "output_type": "stream",
          "text": [
            "MAE sekitar 36.27% dari rata-rata harga rumah.\n"
          ]
        }
      ],
      "source": [
        "val_mae = history_cnn.history['val_mae'][-1]\n",
        "mae_percent = (val_mae / y_test.mean()) * 100\n",
        "print(f\"MAE sekitar {mae_percent:.2f}% dari rata-rata harga rumah.\")"
      ]
    },
    {
      "cell_type": "markdown",
      "id": "7b60c7ec",
      "metadata": {
        "id": "7b60c7ec"
      },
      "source": [
        "## Predict"
      ]
    },
    {
      "cell_type": "code",
      "execution_count": 137,
      "id": "9581732b",
      "metadata": {},
      "outputs": [
        {
          "data": {
            "text/plain": [
              "longitude             float64\n",
              "latitude              float64\n",
              "housing_median_age    float64\n",
              "total_rooms           float64\n",
              "total_bedrooms        float64\n",
              "population            float64\n",
              "households            float64\n",
              "median_income         float64\n",
              "median_house_value    float64\n",
              "ocean_proximity        object\n",
              "dtype: object"
            ]
          },
          "execution_count": 137,
          "metadata": {},
          "output_type": "execute_result"
        }
      ],
      "source": [
        "df.dtypes"
      ]
    },
    {
      "cell_type": "code",
      "execution_count": null,
      "id": "61c22f4f",
      "metadata": {},
      "outputs": [],
      "source": [
        "sample = pd.DataFrame([[-122.23, 37.88, 41.0, 880.0, 129.0, 322.0, 126.0, 3.0, 4]], columns=X.columns)\n",
        "sample_scaled = scaler.transform(sample)\n",
        "\n",
        "print(model.predict(sample_scaled)[0])"
      ]
    },
    {
      "cell_type": "code",
      "execution_count": null,
      "id": "e0c5a956",
      "metadata": {},
      "outputs": [],
      "source": []
    }
  ],
  "metadata": {
    "colab": {
      "provenance": []
    },
    "kernelspec": {
      "display_name": ".venv",
      "language": "python",
      "name": "python3"
    },
    "language_info": {
      "codemirror_mode": {
        "name": "ipython",
        "version": 3
      },
      "file_extension": ".py",
      "mimetype": "text/x-python",
      "name": "python",
      "nbconvert_exporter": "python",
      "pygments_lexer": "ipython3",
      "version": "3.10.0"
    }
  },
  "nbformat": 4,
  "nbformat_minor": 5
}
