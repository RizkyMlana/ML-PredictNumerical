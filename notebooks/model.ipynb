{
  "cells": [
    {
      "cell_type": "markdown",
      "id": "21adf398",
      "metadata": {
        "id": "21adf398"
      },
      "source": [
        "# **Predict Stroke**"
      ]
    },
    {
      "cell_type": "markdown",
      "id": "64df329e",
      "metadata": {
        "id": "64df329e"
      },
      "source": [
        "- Import Library"
      ]
    },
    {
      "cell_type": "code",
      "execution_count": 213,
      "id": "fb8cd3a6",
      "metadata": {
        "id": "fb8cd3a6"
      },
      "outputs": [],
      "source": [
        "import pandas as pd\n",
        "import numpy as np\n",
        "import tensorflow as tf\n",
        "import matplotlib.pyplot as plt\n",
        "from sklearn.model_selection import train_test_split\n",
        "from sklearn.preprocessing import StandardScaler, LabelEncoder\n",
        "from sklearn.metrics import classification_report, confusion_matrix\n",
        "from tensorflow.keras.models import Sequential\n",
        "from tensorflow.keras.layers import Dense, Conv1D, MaxPooling1D, GlobalAveragePooling1D, Dropout, BatchNormalization\n",
        "from tensorflow.keras.callbacks import EarlyStopping\n",
        "from scipy.stats import skew\n",
        "from sklearn.preprocessing import OneHotEncoder\n",
        "from sklearn.model_selection import train_test_split"
      ]
    },
    {
      "cell_type": "markdown",
      "id": "da69341e",
      "metadata": {
        "id": "da69341e"
      },
      "source": [
        "- Load Data"
      ]
    },
    {
      "cell_type": "code",
      "execution_count": 214,
      "id": "22602dc2",
      "metadata": {
        "id": "22602dc2"
      },
      "outputs": [],
      "source": [
        "df = pd.read_csv('../dataset/housing.csv')"
      ]
    },
    {
      "cell_type": "code",
      "execution_count": 215,
      "id": "a351de0e",
      "metadata": {
        "colab": {
          "base_uri": "https://localhost:8080/",
          "height": 206
        },
        "id": "a351de0e",
        "outputId": "46fc7e70-1e9b-4483-d153-d5e5f657b3c5"
      },
      "outputs": [
        {
          "data": {
            "application/vnd.microsoft.datawrangler.viewer.v0+json": {
              "columns": [
                {
                  "name": "index",
                  "rawType": "int64",
                  "type": "integer"
                },
                {
                  "name": "longitude",
                  "rawType": "float64",
                  "type": "float"
                },
                {
                  "name": "latitude",
                  "rawType": "float64",
                  "type": "float"
                },
                {
                  "name": "housing_median_age",
                  "rawType": "float64",
                  "type": "float"
                },
                {
                  "name": "total_rooms",
                  "rawType": "float64",
                  "type": "float"
                },
                {
                  "name": "total_bedrooms",
                  "rawType": "float64",
                  "type": "float"
                },
                {
                  "name": "population",
                  "rawType": "float64",
                  "type": "float"
                },
                {
                  "name": "households",
                  "rawType": "float64",
                  "type": "float"
                },
                {
                  "name": "median_income",
                  "rawType": "float64",
                  "type": "float"
                },
                {
                  "name": "median_house_value",
                  "rawType": "float64",
                  "type": "float"
                },
                {
                  "name": "ocean_proximity",
                  "rawType": "object",
                  "type": "string"
                }
              ],
              "conversionMethod": "pd.DataFrame",
              "ref": "731f9a99-1619-4656-b566-b6e87d58da56",
              "rows": [
                [
                  "0",
                  "-122.23",
                  "37.88",
                  "41.0",
                  "880.0",
                  "129.0",
                  "322.0",
                  "126.0",
                  "8.3252",
                  "452600.0",
                  "NEAR BAY"
                ],
                [
                  "1",
                  "-122.22",
                  "37.86",
                  "21.0",
                  "7099.0",
                  "1106.0",
                  "2401.0",
                  "1138.0",
                  "8.3014",
                  "358500.0",
                  "NEAR BAY"
                ],
                [
                  "2",
                  "-122.24",
                  "37.85",
                  "52.0",
                  "1467.0",
                  "190.0",
                  "496.0",
                  "177.0",
                  "7.2574",
                  "352100.0",
                  "NEAR BAY"
                ],
                [
                  "3",
                  "-122.25",
                  "37.85",
                  "52.0",
                  "1274.0",
                  "235.0",
                  "558.0",
                  "219.0",
                  "5.6431",
                  "341300.0",
                  "NEAR BAY"
                ],
                [
                  "4",
                  "-122.25",
                  "37.85",
                  "52.0",
                  "1627.0",
                  "280.0",
                  "565.0",
                  "259.0",
                  "3.8462",
                  "342200.0",
                  "NEAR BAY"
                ]
              ],
              "shape": {
                "columns": 10,
                "rows": 5
              }
            },
            "text/html": [
              "<div>\n",
              "<style scoped>\n",
              "    .dataframe tbody tr th:only-of-type {\n",
              "        vertical-align: middle;\n",
              "    }\n",
              "\n",
              "    .dataframe tbody tr th {\n",
              "        vertical-align: top;\n",
              "    }\n",
              "\n",
              "    .dataframe thead th {\n",
              "        text-align: right;\n",
              "    }\n",
              "</style>\n",
              "<table border=\"1\" class=\"dataframe\">\n",
              "  <thead>\n",
              "    <tr style=\"text-align: right;\">\n",
              "      <th></th>\n",
              "      <th>longitude</th>\n",
              "      <th>latitude</th>\n",
              "      <th>housing_median_age</th>\n",
              "      <th>total_rooms</th>\n",
              "      <th>total_bedrooms</th>\n",
              "      <th>population</th>\n",
              "      <th>households</th>\n",
              "      <th>median_income</th>\n",
              "      <th>median_house_value</th>\n",
              "      <th>ocean_proximity</th>\n",
              "    </tr>\n",
              "  </thead>\n",
              "  <tbody>\n",
              "    <tr>\n",
              "      <th>0</th>\n",
              "      <td>-122.23</td>\n",
              "      <td>37.88</td>\n",
              "      <td>41.0</td>\n",
              "      <td>880.0</td>\n",
              "      <td>129.0</td>\n",
              "      <td>322.0</td>\n",
              "      <td>126.0</td>\n",
              "      <td>8.3252</td>\n",
              "      <td>452600.0</td>\n",
              "      <td>NEAR BAY</td>\n",
              "    </tr>\n",
              "    <tr>\n",
              "      <th>1</th>\n",
              "      <td>-122.22</td>\n",
              "      <td>37.86</td>\n",
              "      <td>21.0</td>\n",
              "      <td>7099.0</td>\n",
              "      <td>1106.0</td>\n",
              "      <td>2401.0</td>\n",
              "      <td>1138.0</td>\n",
              "      <td>8.3014</td>\n",
              "      <td>358500.0</td>\n",
              "      <td>NEAR BAY</td>\n",
              "    </tr>\n",
              "    <tr>\n",
              "      <th>2</th>\n",
              "      <td>-122.24</td>\n",
              "      <td>37.85</td>\n",
              "      <td>52.0</td>\n",
              "      <td>1467.0</td>\n",
              "      <td>190.0</td>\n",
              "      <td>496.0</td>\n",
              "      <td>177.0</td>\n",
              "      <td>7.2574</td>\n",
              "      <td>352100.0</td>\n",
              "      <td>NEAR BAY</td>\n",
              "    </tr>\n",
              "    <tr>\n",
              "      <th>3</th>\n",
              "      <td>-122.25</td>\n",
              "      <td>37.85</td>\n",
              "      <td>52.0</td>\n",
              "      <td>1274.0</td>\n",
              "      <td>235.0</td>\n",
              "      <td>558.0</td>\n",
              "      <td>219.0</td>\n",
              "      <td>5.6431</td>\n",
              "      <td>341300.0</td>\n",
              "      <td>NEAR BAY</td>\n",
              "    </tr>\n",
              "    <tr>\n",
              "      <th>4</th>\n",
              "      <td>-122.25</td>\n",
              "      <td>37.85</td>\n",
              "      <td>52.0</td>\n",
              "      <td>1627.0</td>\n",
              "      <td>280.0</td>\n",
              "      <td>565.0</td>\n",
              "      <td>259.0</td>\n",
              "      <td>3.8462</td>\n",
              "      <td>342200.0</td>\n",
              "      <td>NEAR BAY</td>\n",
              "    </tr>\n",
              "  </tbody>\n",
              "</table>\n",
              "</div>"
            ],
            "text/plain": [
              "   longitude  latitude  housing_median_age  total_rooms  total_bedrooms  \\\n",
              "0    -122.23     37.88                41.0        880.0           129.0   \n",
              "1    -122.22     37.86                21.0       7099.0          1106.0   \n",
              "2    -122.24     37.85                52.0       1467.0           190.0   \n",
              "3    -122.25     37.85                52.0       1274.0           235.0   \n",
              "4    -122.25     37.85                52.0       1627.0           280.0   \n",
              "\n",
              "   population  households  median_income  median_house_value ocean_proximity  \n",
              "0       322.0       126.0         8.3252            452600.0        NEAR BAY  \n",
              "1      2401.0      1138.0         8.3014            358500.0        NEAR BAY  \n",
              "2       496.0       177.0         7.2574            352100.0        NEAR BAY  \n",
              "3       558.0       219.0         5.6431            341300.0        NEAR BAY  \n",
              "4       565.0       259.0         3.8462            342200.0        NEAR BAY  "
            ]
          },
          "execution_count": 215,
          "metadata": {},
          "output_type": "execute_result"
        }
      ],
      "source": [
        "df.head()"
      ]
    },
    {
      "cell_type": "markdown",
      "id": "40103346",
      "metadata": {
        "id": "40103346"
      },
      "source": [
        "## Data Preprocessing"
      ]
    },
    {
      "cell_type": "markdown",
      "id": "f4b4e028",
      "metadata": {
        "id": "f4b4e028"
      },
      "source": [
        "- Handling Missing & Duplicated Values"
      ]
    },
    {
      "cell_type": "code",
      "execution_count": 216,
      "id": "1c7977ed",
      "metadata": {
        "colab": {
          "base_uri": "https://localhost:8080/"
        },
        "id": "1c7977ed",
        "outputId": "911ff2d4-fc52-4a33-9e56-661d88d8143c"
      },
      "outputs": [
        {
          "data": {
            "text/plain": [
              "np.int64(0)"
            ]
          },
          "execution_count": 216,
          "metadata": {},
          "output_type": "execute_result"
        }
      ],
      "source": [
        "df.duplicated().sum()"
      ]
    },
    {
      "cell_type": "code",
      "execution_count": 217,
      "id": "R6pP_ldu8GIy",
      "metadata": {
        "colab": {
          "base_uri": "https://localhost:8080/"
        },
        "id": "R6pP_ldu8GIy",
        "outputId": "75fb2069-4681-4508-80c4-1007beb5eda3"
      },
      "outputs": [
        {
          "name": "stdout",
          "output_type": "stream",
          "text": [
            "<class 'pandas.core.frame.DataFrame'>\n",
            "RangeIndex: 20640 entries, 0 to 20639\n",
            "Data columns (total 10 columns):\n",
            " #   Column              Non-Null Count  Dtype  \n",
            "---  ------              --------------  -----  \n",
            " 0   longitude           20640 non-null  float64\n",
            " 1   latitude            20640 non-null  float64\n",
            " 2   housing_median_age  20640 non-null  float64\n",
            " 3   total_rooms         20640 non-null  float64\n",
            " 4   total_bedrooms      20433 non-null  float64\n",
            " 5   population          20640 non-null  float64\n",
            " 6   households          20640 non-null  float64\n",
            " 7   median_income       20640 non-null  float64\n",
            " 8   median_house_value  20640 non-null  float64\n",
            " 9   ocean_proximity     20640 non-null  object \n",
            "dtypes: float64(9), object(1)\n",
            "memory usage: 1.6+ MB\n"
          ]
        }
      ],
      "source": [
        "df.info()"
      ]
    },
    {
      "cell_type": "code",
      "execution_count": 218,
      "id": "25904148",
      "metadata": {
        "colab": {
          "base_uri": "https://localhost:8080/",
          "height": 398
        },
        "id": "25904148",
        "outputId": "3f149fce-beb5-43f8-d97c-3c1816307fb2"
      },
      "outputs": [
        {
          "data": {
            "text/plain": [
              "longitude               0\n",
              "latitude                0\n",
              "housing_median_age      0\n",
              "total_rooms             0\n",
              "total_bedrooms        207\n",
              "population              0\n",
              "households              0\n",
              "median_income           0\n",
              "median_house_value      0\n",
              "ocean_proximity         0\n",
              "dtype: int64"
            ]
          },
          "execution_count": 218,
          "metadata": {},
          "output_type": "execute_result"
        }
      ],
      "source": [
        "df.isna().sum()"
      ]
    },
    {
      "cell_type": "code",
      "execution_count": 219,
      "id": "cab433f2",
      "metadata": {},
      "outputs": [],
      "source": [
        "df['total_bedrooms'] = df['total_bedrooms'].fillna(df['total_bedrooms'].median())"
      ]
    },
    {
      "cell_type": "code",
      "execution_count": 220,
      "id": "9fd2e102",
      "metadata": {},
      "outputs": [
        {
          "data": {
            "text/plain": [
              "longitude             0\n",
              "latitude              0\n",
              "housing_median_age    0\n",
              "total_rooms           0\n",
              "total_bedrooms        0\n",
              "population            0\n",
              "households            0\n",
              "median_income         0\n",
              "median_house_value    0\n",
              "ocean_proximity       0\n",
              "dtype: int64"
            ]
          },
          "execution_count": 220,
          "metadata": {},
          "output_type": "execute_result"
        }
      ],
      "source": [
        "df.isna().sum()"
      ]
    },
    {
      "cell_type": "code",
      "execution_count": 221,
      "id": "ad821367",
      "metadata": {
        "colab": {
          "base_uri": "https://localhost:8080/",
          "height": 300
        },
        "id": "ad821367",
        "outputId": "70881007-5308-459e-f3fd-444e8e3b14df"
      },
      "outputs": [
        {
          "data": {
            "application/vnd.microsoft.datawrangler.viewer.v0+json": {
              "columns": [
                {
                  "name": "index",
                  "rawType": "object",
                  "type": "string"
                },
                {
                  "name": "longitude",
                  "rawType": "float64",
                  "type": "float"
                },
                {
                  "name": "latitude",
                  "rawType": "float64",
                  "type": "float"
                },
                {
                  "name": "housing_median_age",
                  "rawType": "float64",
                  "type": "float"
                },
                {
                  "name": "total_rooms",
                  "rawType": "float64",
                  "type": "float"
                },
                {
                  "name": "total_bedrooms",
                  "rawType": "float64",
                  "type": "float"
                },
                {
                  "name": "population",
                  "rawType": "float64",
                  "type": "float"
                },
                {
                  "name": "households",
                  "rawType": "float64",
                  "type": "float"
                },
                {
                  "name": "median_income",
                  "rawType": "float64",
                  "type": "float"
                },
                {
                  "name": "median_house_value",
                  "rawType": "float64",
                  "type": "float"
                }
              ],
              "conversionMethod": "pd.DataFrame",
              "ref": "c92a082d-49e0-43d6-8611-46bb68abed84",
              "rows": [
                [
                  "count",
                  "20640.0",
                  "20640.0",
                  "20640.0",
                  "20640.0",
                  "20640.0",
                  "20640.0",
                  "20640.0",
                  "20640.0",
                  "20640.0"
                ],
                [
                  "mean",
                  "-119.56970445736432",
                  "35.63186143410853",
                  "28.639486434108527",
                  "2635.7630813953488",
                  "536.8388565891473",
                  "1425.4767441860465",
                  "499.5396802325581",
                  "3.8706710029069766",
                  "206855.81690891474"
                ],
                [
                  "std",
                  "2.0035317235025882",
                  "2.1359523974571153",
                  "12.58555761211165",
                  "2181.615251582795",
                  "419.3918779216883",
                  "1132.462121765341",
                  "382.32975283161073",
                  "1.8998217179452688",
                  "115395.61587441387"
                ],
                [
                  "min",
                  "-124.35",
                  "32.54",
                  "1.0",
                  "2.0",
                  "1.0",
                  "3.0",
                  "1.0",
                  "0.4999",
                  "14999.0"
                ],
                [
                  "25%",
                  "-121.8",
                  "33.93",
                  "18.0",
                  "1447.75",
                  "297.0",
                  "787.0",
                  "280.0",
                  "2.5633999999999997",
                  "119600.0"
                ],
                [
                  "50%",
                  "-118.49",
                  "34.26",
                  "29.0",
                  "2127.0",
                  "435.0",
                  "1166.0",
                  "409.0",
                  "3.5347999999999997",
                  "179700.0"
                ],
                [
                  "75%",
                  "-118.01",
                  "37.71",
                  "37.0",
                  "3148.0",
                  "643.25",
                  "1725.0",
                  "605.0",
                  "4.74325",
                  "264725.0"
                ],
                [
                  "max",
                  "-114.31",
                  "41.95",
                  "52.0",
                  "39320.0",
                  "6445.0",
                  "35682.0",
                  "6082.0",
                  "15.0001",
                  "500001.0"
                ]
              ],
              "shape": {
                "columns": 9,
                "rows": 8
              }
            },
            "text/html": [
              "<div>\n",
              "<style scoped>\n",
              "    .dataframe tbody tr th:only-of-type {\n",
              "        vertical-align: middle;\n",
              "    }\n",
              "\n",
              "    .dataframe tbody tr th {\n",
              "        vertical-align: top;\n",
              "    }\n",
              "\n",
              "    .dataframe thead th {\n",
              "        text-align: right;\n",
              "    }\n",
              "</style>\n",
              "<table border=\"1\" class=\"dataframe\">\n",
              "  <thead>\n",
              "    <tr style=\"text-align: right;\">\n",
              "      <th></th>\n",
              "      <th>longitude</th>\n",
              "      <th>latitude</th>\n",
              "      <th>housing_median_age</th>\n",
              "      <th>total_rooms</th>\n",
              "      <th>total_bedrooms</th>\n",
              "      <th>population</th>\n",
              "      <th>households</th>\n",
              "      <th>median_income</th>\n",
              "      <th>median_house_value</th>\n",
              "    </tr>\n",
              "  </thead>\n",
              "  <tbody>\n",
              "    <tr>\n",
              "      <th>count</th>\n",
              "      <td>20640.000000</td>\n",
              "      <td>20640.000000</td>\n",
              "      <td>20640.000000</td>\n",
              "      <td>20640.000000</td>\n",
              "      <td>20640.000000</td>\n",
              "      <td>20640.000000</td>\n",
              "      <td>20640.000000</td>\n",
              "      <td>20640.000000</td>\n",
              "      <td>20640.000000</td>\n",
              "    </tr>\n",
              "    <tr>\n",
              "      <th>mean</th>\n",
              "      <td>-119.569704</td>\n",
              "      <td>35.631861</td>\n",
              "      <td>28.639486</td>\n",
              "      <td>2635.763081</td>\n",
              "      <td>536.838857</td>\n",
              "      <td>1425.476744</td>\n",
              "      <td>499.539680</td>\n",
              "      <td>3.870671</td>\n",
              "      <td>206855.816909</td>\n",
              "    </tr>\n",
              "    <tr>\n",
              "      <th>std</th>\n",
              "      <td>2.003532</td>\n",
              "      <td>2.135952</td>\n",
              "      <td>12.585558</td>\n",
              "      <td>2181.615252</td>\n",
              "      <td>419.391878</td>\n",
              "      <td>1132.462122</td>\n",
              "      <td>382.329753</td>\n",
              "      <td>1.899822</td>\n",
              "      <td>115395.615874</td>\n",
              "    </tr>\n",
              "    <tr>\n",
              "      <th>min</th>\n",
              "      <td>-124.350000</td>\n",
              "      <td>32.540000</td>\n",
              "      <td>1.000000</td>\n",
              "      <td>2.000000</td>\n",
              "      <td>1.000000</td>\n",
              "      <td>3.000000</td>\n",
              "      <td>1.000000</td>\n",
              "      <td>0.499900</td>\n",
              "      <td>14999.000000</td>\n",
              "    </tr>\n",
              "    <tr>\n",
              "      <th>25%</th>\n",
              "      <td>-121.800000</td>\n",
              "      <td>33.930000</td>\n",
              "      <td>18.000000</td>\n",
              "      <td>1447.750000</td>\n",
              "      <td>297.000000</td>\n",
              "      <td>787.000000</td>\n",
              "      <td>280.000000</td>\n",
              "      <td>2.563400</td>\n",
              "      <td>119600.000000</td>\n",
              "    </tr>\n",
              "    <tr>\n",
              "      <th>50%</th>\n",
              "      <td>-118.490000</td>\n",
              "      <td>34.260000</td>\n",
              "      <td>29.000000</td>\n",
              "      <td>2127.000000</td>\n",
              "      <td>435.000000</td>\n",
              "      <td>1166.000000</td>\n",
              "      <td>409.000000</td>\n",
              "      <td>3.534800</td>\n",
              "      <td>179700.000000</td>\n",
              "    </tr>\n",
              "    <tr>\n",
              "      <th>75%</th>\n",
              "      <td>-118.010000</td>\n",
              "      <td>37.710000</td>\n",
              "      <td>37.000000</td>\n",
              "      <td>3148.000000</td>\n",
              "      <td>643.250000</td>\n",
              "      <td>1725.000000</td>\n",
              "      <td>605.000000</td>\n",
              "      <td>4.743250</td>\n",
              "      <td>264725.000000</td>\n",
              "    </tr>\n",
              "    <tr>\n",
              "      <th>max</th>\n",
              "      <td>-114.310000</td>\n",
              "      <td>41.950000</td>\n",
              "      <td>52.000000</td>\n",
              "      <td>39320.000000</td>\n",
              "      <td>6445.000000</td>\n",
              "      <td>35682.000000</td>\n",
              "      <td>6082.000000</td>\n",
              "      <td>15.000100</td>\n",
              "      <td>500001.000000</td>\n",
              "    </tr>\n",
              "  </tbody>\n",
              "</table>\n",
              "</div>"
            ],
            "text/plain": [
              "          longitude      latitude  housing_median_age   total_rooms  \\\n",
              "count  20640.000000  20640.000000        20640.000000  20640.000000   \n",
              "mean    -119.569704     35.631861           28.639486   2635.763081   \n",
              "std        2.003532      2.135952           12.585558   2181.615252   \n",
              "min     -124.350000     32.540000            1.000000      2.000000   \n",
              "25%     -121.800000     33.930000           18.000000   1447.750000   \n",
              "50%     -118.490000     34.260000           29.000000   2127.000000   \n",
              "75%     -118.010000     37.710000           37.000000   3148.000000   \n",
              "max     -114.310000     41.950000           52.000000  39320.000000   \n",
              "\n",
              "       total_bedrooms    population    households  median_income  \\\n",
              "count    20640.000000  20640.000000  20640.000000   20640.000000   \n",
              "mean       536.838857   1425.476744    499.539680       3.870671   \n",
              "std        419.391878   1132.462122    382.329753       1.899822   \n",
              "min          1.000000      3.000000      1.000000       0.499900   \n",
              "25%        297.000000    787.000000    280.000000       2.563400   \n",
              "50%        435.000000   1166.000000    409.000000       3.534800   \n",
              "75%        643.250000   1725.000000    605.000000       4.743250   \n",
              "max       6445.000000  35682.000000   6082.000000      15.000100   \n",
              "\n",
              "       median_house_value  \n",
              "count        20640.000000  \n",
              "mean        206855.816909  \n",
              "std         115395.615874  \n",
              "min          14999.000000  \n",
              "25%         119600.000000  \n",
              "50%         179700.000000  \n",
              "75%         264725.000000  \n",
              "max         500001.000000  "
            ]
          },
          "execution_count": 221,
          "metadata": {},
          "output_type": "execute_result"
        }
      ],
      "source": [
        "df.describe()"
      ]
    },
    {
      "cell_type": "code",
      "execution_count": 222,
      "id": "7942190e",
      "metadata": {
        "colab": {
          "base_uri": "https://localhost:8080/"
        },
        "id": "7942190e",
        "outputId": "2b2ed44f-2dae-429d-96f1-7c70a0a6ee33"
      },
      "outputs": [
        {
          "name": "stdout",
          "output_type": "stream",
          "text": [
            "Kolom 'longitude': 0 outlier\n",
            "Kolom 'latitude': 0 outlier\n",
            "Kolom 'housing_median_age': 0 outlier\n",
            "Kolom 'total_rooms': 1287 outlier\n",
            "Kolom 'total_bedrooms': 1306 outlier\n",
            "Kolom 'population': 1196 outlier\n",
            "Kolom 'households': 1220 outlier\n",
            "Kolom 'median_income': 681 outlier\n",
            "Kolom 'median_house_value': 1071 outlier\n"
          ]
        }
      ],
      "source": [
        "numeric = df.select_dtypes(include=['number']).columns\n",
        "for i in numeric:\n",
        "    Q1 = df[i].quantile(0.25)\n",
        "    Q3 = df[i].quantile(0.75)\n",
        "    IQR = Q3 - Q1\n",
        "    lower = Q1 - 1.5 * IQR\n",
        "    upper = Q3 + 1.5 * IQR\n",
        "\n",
        "    outliers = df[(df[i] < lower) | (df[i] > upper)]\n",
        "    print(f\"Kolom '{i}': {len(outliers)} outlier\")"
      ]
    },
    {
      "cell_type": "markdown",
      "id": "10ed782d",
      "metadata": {
        "id": "10ed782d"
      },
      "source": [
        "- Outliers Handling"
      ]
    },
    {
      "cell_type": "code",
      "execution_count": 223,
      "id": "cda2ee1a",
      "metadata": {},
      "outputs": [
        {
          "data": {
            "text/plain": [
              "np.float64(206855.81690891474)"
            ]
          },
          "execution_count": 223,
          "metadata": {},
          "output_type": "execute_result"
        }
      ],
      "source": [
        "df['median_house_value'].mean()"
      ]
    },
    {
      "cell_type": "code",
      "execution_count": 224,
      "id": "bbf7a9d2",
      "metadata": {
        "colab": {
          "base_uri": "https://localhost:8080/",
          "height": 272
        },
        "id": "bbf7a9d2",
        "outputId": "20beba9e-7084-4e87-86b9-407a0822e8fb"
      },
      "outputs": [
        {
          "data": {
            "text/plain": [
              "ocean_proximity\n",
              "<1H OCEAN     9136\n",
              "INLAND        6551\n",
              "NEAR OCEAN    2658\n",
              "NEAR BAY      2290\n",
              "ISLAND           5\n",
              "Name: count, dtype: int64"
            ]
          },
          "execution_count": 224,
          "metadata": {},
          "output_type": "execute_result"
        }
      ],
      "source": [
        "df['ocean_proximity'].value_counts()"
      ]
    },
    {
      "cell_type": "code",
      "execution_count": 225,
      "id": "6Jx07llU8py8",
      "metadata": {
        "id": "6Jx07llU8py8"
      },
      "outputs": [],
      "source": [
        "\n",
        "def outliersHandling(series):\n",
        "  Q1 = df[series].quantile(0.25)\n",
        "  Q3 = df[series].quantile(0.75)\n",
        "  IQR = Q3 - Q1\n",
        "  lower_bound = Q1 - 1.5 * IQR\n",
        "  upper_bound = Q3 + 1.5 * IQR\n",
        "  df.loc[df[series] > upper_bound, series] = upper_bound\n",
        "  df.loc[df[series] < lower_bound, series] = lower_bound\n",
        "  return df\n"
      ]
    },
    {
      "cell_type": "code",
      "execution_count": 226,
      "id": "FcsnZV_9ES0O",
      "metadata": {
        "colab": {
          "base_uri": "https://localhost:8080/"
        },
        "id": "FcsnZV_9ES0O",
        "outputId": "01a04855-1d7f-4de0-d584-2e95847d79c1"
      },
      "outputs": [
        {
          "name": "stdout",
          "output_type": "stream",
          "text": [
            "Kolom 'longitude': 0 outlier\n",
            "Kolom 'latitude': 0 outlier\n",
            "Kolom 'housing_median_age': 0 outlier\n",
            "Kolom 'total_rooms': 0 outlier\n",
            "Kolom 'total_bedrooms': 0 outlier\n",
            "Kolom 'population': 0 outlier\n",
            "Kolom 'households': 0 outlier\n",
            "Kolom 'median_income': 0 outlier\n",
            "Kolom 'median_house_value': 0 outlier\n"
          ]
        }
      ],
      "source": [
        "numeric = df.select_dtypes(include=['number']).columns\n",
        "\n",
        "for i in numeric:\n",
        "  df = outliersHandling(i)\n",
        "\n",
        "for i in numeric:\n",
        "    Q1 = df[i].quantile(0.25)\n",
        "    Q3 = df[i].quantile(0.75)\n",
        "    IQR = Q3 - Q1\n",
        "    lower = Q1 - 1.5 * IQR\n",
        "    upper = Q3 + 1.5 * IQR\n",
        "\n",
        "    outliers = df[(df[i] < lower) | (df[i] > upper)]\n",
        "    print(f\"Kolom '{i}': {len(outliers)} outlier\")"
      ]
    },
    {
      "cell_type": "markdown",
      "id": "StgKSRjSFKd2",
      "metadata": {
        "id": "StgKSRjSFKd2"
      },
      "source": [
        "- Feature Engineering"
      ]
    },
    {
      "cell_type": "code",
      "execution_count": 227,
      "id": "1nDAq5NnFGRL",
      "metadata": {
        "id": "1nDAq5NnFGRL"
      },
      "outputs": [],
      "source": [
        "ohe = OneHotEncoder(sparse_output=False)\n",
        "encoded_data = ohe.fit_transform(df[['ocean_proximity']])\n",
        "encoded_df = pd.DataFrame(encoded_data, columns=ohe.get_feature_names_out(['ocean_proximity']))\n",
        "df = pd.concat([df.drop(\"ocean_proximity\", axis=1), encoded_df],axis=1)"
      ]
    },
    {
      "cell_type": "markdown",
      "id": "de373a86",
      "metadata": {},
      "source": [
        "- Data Splitting"
      ]
    },
    {
      "cell_type": "code",
      "execution_count": 228,
      "id": "135acd81",
      "metadata": {},
      "outputs": [],
      "source": [
        "X = df.drop('median_house_value', axis=1)\n",
        "y = df['median_house_value']\n",
        "\n",
        "scaler = StandardScaler()\n",
        "X = scaler.fit_transform(X)\n",
        "\n",
        "X_train, X_test, y_train, y_test = train_test_split(X, y, test_size=0.2, random_state=42)"
      ]
    },
    {
      "cell_type": "markdown",
      "id": "80b4104c",
      "metadata": {
        "id": "80b4104c"
      },
      "source": [
        "## Modelling & Evaluation"
      ]
    },
    {
      "cell_type": "code",
      "execution_count": 229,
      "id": "cec31fb9",
      "metadata": {
        "colab": {
          "base_uri": "https://localhost:8080/",
          "height": 211
        },
        "id": "cec31fb9",
        "outputId": "b38b8df5-0b21-4808-fc0d-494a7db390f6"
      },
      "outputs": [
        {
          "name": "stdout",
          "output_type": "stream",
          "text": [
            "Epoch 1/50\n"
          ]
        },
        {
          "name": "stderr",
          "output_type": "stream",
          "text": [
            "d:\\ML\\ML-PredictNumerical\\.venv\\lib\\site-packages\\keras\\src\\layers\\core\\dense.py:87: UserWarning: Do not pass an `input_shape`/`input_dim` argument to a layer. When using Sequential models, prefer using an `Input(shape)` object as the first layer in the model instead.\n",
            "  super().__init__(activity_regularizer=activity_regularizer, **kwargs)\n"
          ]
        },
        {
          "name": "stdout",
          "output_type": "stream",
          "text": [
            "\u001b[1m413/413\u001b[0m \u001b[32m━━━━━━━━━━━━━━━━━━━━\u001b[0m\u001b[37m\u001b[0m \u001b[1m3s\u001b[0m 3ms/step - loss: 52980609024.0000 - mae: 200833.8906 - val_loss: 14168747008.0000 - val_mae: 89844.0312\n",
            "Epoch 2/50\n",
            "\u001b[1m413/413\u001b[0m \u001b[32m━━━━━━━━━━━━━━━━━━━━\u001b[0m\u001b[37m\u001b[0m \u001b[1m1s\u001b[0m 3ms/step - loss: 9796457472.0000 - mae: 75600.6406 - val_loss: 6338671616.0000 - val_mae: 60039.6055\n",
            "Epoch 3/50\n",
            "\u001b[1m413/413\u001b[0m \u001b[32m━━━━━━━━━━━━━━━━━━━━\u001b[0m\u001b[37m\u001b[0m \u001b[1m1s\u001b[0m 3ms/step - loss: 7154902016.0000 - mae: 63611.8438 - val_loss: 5415436800.0000 - val_mae: 53730.7109\n",
            "Epoch 4/50\n",
            "\u001b[1m413/413\u001b[0m \u001b[32m━━━━━━━━━━━━━━━━━━━━\u001b[0m\u001b[37m\u001b[0m \u001b[1m1s\u001b[0m 3ms/step - loss: 5976381952.0000 - mae: 57316.2148 - val_loss: 4943138816.0000 - val_mae: 50614.0508\n",
            "Epoch 5/50\n",
            "\u001b[1m413/413\u001b[0m \u001b[32m━━━━━━━━━━━━━━━━━━━━\u001b[0m\u001b[37m\u001b[0m \u001b[1m1s\u001b[0m 3ms/step - loss: 5441240576.0000 - mae: 54023.9102 - val_loss: 4670499840.0000 - val_mae: 48908.9492\n",
            "Epoch 6/50\n",
            "\u001b[1m413/413\u001b[0m \u001b[32m━━━━━━━━━━━━━━━━━━━━\u001b[0m\u001b[37m\u001b[0m \u001b[1m1s\u001b[0m 3ms/step - loss: 5340549632.0000 - mae: 53044.3516 - val_loss: 4523272704.0000 - val_mae: 47733.1680\n",
            "Epoch 7/50\n",
            "\u001b[1m413/413\u001b[0m \u001b[32m━━━━━━━━━━━━━━━━━━━━\u001b[0m\u001b[37m\u001b[0m \u001b[1m1s\u001b[0m 3ms/step - loss: 5168104960.0000 - mae: 52263.2148 - val_loss: 4397667328.0000 - val_mae: 47080.7930\n",
            "Epoch 8/50\n",
            "\u001b[1m413/413\u001b[0m \u001b[32m━━━━━━━━━━━━━━━━━━━━\u001b[0m\u001b[37m\u001b[0m \u001b[1m1s\u001b[0m 3ms/step - loss: 5125362688.0000 - mae: 51662.3047 - val_loss: 4309047296.0000 - val_mae: 46638.1914\n",
            "Epoch 9/50\n",
            "\u001b[1m413/413\u001b[0m \u001b[32m━━━━━━━━━━━━━━━━━━━━\u001b[0m\u001b[37m\u001b[0m \u001b[1m1s\u001b[0m 3ms/step - loss: 5074558976.0000 - mae: 51745.9180 - val_loss: 4261647360.0000 - val_mae: 46084.9414\n",
            "Epoch 10/50\n",
            "\u001b[1m413/413\u001b[0m \u001b[32m━━━━━━━━━━━━━━━━━━━━\u001b[0m\u001b[37m\u001b[0m \u001b[1m1s\u001b[0m 3ms/step - loss: 4882921984.0000 - mae: 50896.7344 - val_loss: 4255918848.0000 - val_mae: 45744.1172\n",
            "Epoch 11/50\n",
            "\u001b[1m413/413\u001b[0m \u001b[32m━━━━━━━━━━━━━━━━━━━━\u001b[0m\u001b[37m\u001b[0m \u001b[1m1s\u001b[0m 3ms/step - loss: 4973582336.0000 - mae: 50791.7344 - val_loss: 4189894144.0000 - val_mae: 45448.0273\n",
            "Epoch 12/50\n",
            "\u001b[1m413/413\u001b[0m \u001b[32m━━━━━━━━━━━━━━━━━━━━\u001b[0m\u001b[37m\u001b[0m \u001b[1m1s\u001b[0m 3ms/step - loss: 4764204032.0000 - mae: 49957.4922 - val_loss: 4144067072.0000 - val_mae: 45300.1602\n",
            "Epoch 13/50\n",
            "\u001b[1m413/413\u001b[0m \u001b[32m━━━━━━━━━━━━━━━━━━━━\u001b[0m\u001b[37m\u001b[0m \u001b[1m1s\u001b[0m 3ms/step - loss: 4813993472.0000 - mae: 50332.7070 - val_loss: 4134540800.0000 - val_mae: 45133.4570\n",
            "Epoch 14/50\n",
            "\u001b[1m413/413\u001b[0m \u001b[32m━━━━━━━━━━━━━━━━━━━━\u001b[0m\u001b[37m\u001b[0m \u001b[1m1s\u001b[0m 3ms/step - loss: 4749120000.0000 - mae: 49569.6641 - val_loss: 4113932800.0000 - val_mae: 45040.5469\n",
            "Epoch 15/50\n",
            "\u001b[1m413/413\u001b[0m \u001b[32m━━━━━━━━━━━━━━━━━━━━\u001b[0m\u001b[37m\u001b[0m \u001b[1m1s\u001b[0m 3ms/step - loss: 4784689152.0000 - mae: 49963.4258 - val_loss: 4115903744.0000 - val_mae: 44614.9375\n",
            "Epoch 16/50\n",
            "\u001b[1m413/413\u001b[0m \u001b[32m━━━━━━━━━━━━━━━━━━━━\u001b[0m\u001b[37m\u001b[0m \u001b[1m1s\u001b[0m 3ms/step - loss: 4625243136.0000 - mae: 48674.6602 - val_loss: 4095659520.0000 - val_mae: 44636.2070\n",
            "Epoch 17/50\n",
            "\u001b[1m413/413\u001b[0m \u001b[32m━━━━━━━━━━━━━━━━━━━━\u001b[0m\u001b[37m\u001b[0m \u001b[1m1s\u001b[0m 3ms/step - loss: 4769338368.0000 - mae: 49596.5312 - val_loss: 4042448128.0000 - val_mae: 44818.3672\n",
            "Epoch 18/50\n",
            "\u001b[1m413/413\u001b[0m \u001b[32m━━━━━━━━━━━━━━━━━━━━\u001b[0m\u001b[37m\u001b[0m \u001b[1m1s\u001b[0m 3ms/step - loss: 4392836096.0000 - mae: 48018.2031 - val_loss: 4047249408.0000 - val_mae: 44517.4297\n",
            "Epoch 19/50\n",
            "\u001b[1m413/413\u001b[0m \u001b[32m━━━━━━━━━━━━━━━━━━━━\u001b[0m\u001b[37m\u001b[0m \u001b[1m1s\u001b[0m 3ms/step - loss: 4542933504.0000 - mae: 48952.8906 - val_loss: 4025175296.0000 - val_mae: 44337.6875\n",
            "Epoch 20/50\n",
            "\u001b[1m413/413\u001b[0m \u001b[32m━━━━━━━━━━━━━━━━━━━━\u001b[0m\u001b[37m\u001b[0m \u001b[1m1s\u001b[0m 3ms/step - loss: 4649978880.0000 - mae: 49192.3086 - val_loss: 4048176640.0000 - val_mae: 44318.5664\n",
            "Epoch 21/50\n",
            "\u001b[1m413/413\u001b[0m \u001b[32m━━━━━━━━━━━━━━━━━━━━\u001b[0m\u001b[37m\u001b[0m \u001b[1m1s\u001b[0m 3ms/step - loss: 4597967360.0000 - mae: 48771.4492 - val_loss: 4019025152.0000 - val_mae: 44332.4844\n",
            "Epoch 22/50\n",
            "\u001b[1m413/413\u001b[0m \u001b[32m━━━━━━━━━━━━━━━━━━━━\u001b[0m\u001b[37m\u001b[0m \u001b[1m1s\u001b[0m 3ms/step - loss: 4648565248.0000 - mae: 49264.6367 - val_loss: 4023798528.0000 - val_mae: 43992.3398\n",
            "Epoch 23/50\n",
            "\u001b[1m413/413\u001b[0m \u001b[32m━━━━━━━━━━━━━━━━━━━━\u001b[0m\u001b[37m\u001b[0m \u001b[1m1s\u001b[0m 3ms/step - loss: 4693584896.0000 - mae: 49016.5430 - val_loss: 4001309184.0000 - val_mae: 43979.9023\n",
            "Epoch 24/50\n",
            "\u001b[1m413/413\u001b[0m \u001b[32m━━━━━━━━━━━━━━━━━━━━\u001b[0m\u001b[37m\u001b[0m \u001b[1m1s\u001b[0m 3ms/step - loss: 4755703808.0000 - mae: 49551.0117 - val_loss: 3990342400.0000 - val_mae: 43865.3789\n",
            "Epoch 25/50\n",
            "\u001b[1m413/413\u001b[0m \u001b[32m━━━━━━━━━━━━━━━━━━━━\u001b[0m\u001b[37m\u001b[0m \u001b[1m1s\u001b[0m 3ms/step - loss: 4536082944.0000 - mae: 48169.3398 - val_loss: 3992724736.0000 - val_mae: 43783.1406\n",
            "Epoch 26/50\n",
            "\u001b[1m413/413\u001b[0m \u001b[32m━━━━━━━━━━━━━━━━━━━━\u001b[0m\u001b[37m\u001b[0m \u001b[1m1s\u001b[0m 3ms/step - loss: 4634449408.0000 - mae: 49038.8633 - val_loss: 3951631616.0000 - val_mae: 43718.0898\n",
            "Epoch 27/50\n",
            "\u001b[1m413/413\u001b[0m \u001b[32m━━━━━━━━━━━━━━━━━━━━\u001b[0m\u001b[37m\u001b[0m \u001b[1m1s\u001b[0m 3ms/step - loss: 4656422400.0000 - mae: 48643.7891 - val_loss: 3950410240.0000 - val_mae: 43735.9766\n",
            "Epoch 28/50\n",
            "\u001b[1m413/413\u001b[0m \u001b[32m━━━━━━━━━━━━━━━━━━━━\u001b[0m\u001b[37m\u001b[0m \u001b[1m1s\u001b[0m 3ms/step - loss: 4579497984.0000 - mae: 48455.4141 - val_loss: 3937923840.0000 - val_mae: 43789.5508\n",
            "Epoch 29/50\n",
            "\u001b[1m413/413\u001b[0m \u001b[32m━━━━━━━━━━━━━━━━━━━━\u001b[0m\u001b[37m\u001b[0m \u001b[1m1s\u001b[0m 3ms/step - loss: 4547368448.0000 - mae: 48541.4883 - val_loss: 3975223552.0000 - val_mae: 43490.7031\n",
            "Epoch 30/50\n",
            "\u001b[1m413/413\u001b[0m \u001b[32m━━━━━━━━━━━━━━━━━━━━\u001b[0m\u001b[37m\u001b[0m \u001b[1m1s\u001b[0m 3ms/step - loss: 4646701568.0000 - mae: 48217.4453 - val_loss: 3919087872.0000 - val_mae: 43637.4922\n",
            "Epoch 31/50\n",
            "\u001b[1m413/413\u001b[0m \u001b[32m━━━━━━━━━━━━━━━━━━━━\u001b[0m\u001b[37m\u001b[0m \u001b[1m1s\u001b[0m 3ms/step - loss: 4614511616.0000 - mae: 48932.7305 - val_loss: 3926961664.0000 - val_mae: 43595.7383\n",
            "Epoch 32/50\n",
            "\u001b[1m413/413\u001b[0m \u001b[32m━━━━━━━━━━━━━━━━━━━━\u001b[0m\u001b[37m\u001b[0m \u001b[1m1s\u001b[0m 3ms/step - loss: 4587563520.0000 - mae: 48394.8516 - val_loss: 3896907776.0000 - val_mae: 43461.0664\n",
            "Epoch 33/50\n",
            "\u001b[1m413/413\u001b[0m \u001b[32m━━━━━━━━━━━━━━━━━━━━\u001b[0m\u001b[37m\u001b[0m \u001b[1m1s\u001b[0m 3ms/step - loss: 4486542336.0000 - mae: 48146.6133 - val_loss: 3923604480.0000 - val_mae: 43294.4727\n",
            "Epoch 34/50\n",
            "\u001b[1m413/413\u001b[0m \u001b[32m━━━━━━━━━━━━━━━━━━━━\u001b[0m\u001b[37m\u001b[0m \u001b[1m1s\u001b[0m 3ms/step - loss: 4537419264.0000 - mae: 48274.3164 - val_loss: 3903774720.0000 - val_mae: 43347.6562\n",
            "Epoch 35/50\n",
            "\u001b[1m413/413\u001b[0m \u001b[32m━━━━━━━━━━━━━━━━━━━━\u001b[0m\u001b[37m\u001b[0m \u001b[1m1s\u001b[0m 3ms/step - loss: 4604226048.0000 - mae: 48457.8086 - val_loss: 3892378112.0000 - val_mae: 43335.9922\n",
            "Epoch 36/50\n",
            "\u001b[1m413/413\u001b[0m \u001b[32m━━━━━━━━━━━━━━━━━━━━\u001b[0m\u001b[37m\u001b[0m \u001b[1m1s\u001b[0m 3ms/step - loss: 4374590464.0000 - mae: 47591.7188 - val_loss: 3935145728.0000 - val_mae: 43236.6484\n",
            "Epoch 37/50\n",
            "\u001b[1m413/413\u001b[0m \u001b[32m━━━━━━━━━━━━━━━━━━━━\u001b[0m\u001b[37m\u001b[0m \u001b[1m1s\u001b[0m 3ms/step - loss: 4409748992.0000 - mae: 47423.6680 - val_loss: 3891761664.0000 - val_mae: 43165.5508\n",
            "Epoch 38/50\n",
            "\u001b[1m413/413\u001b[0m \u001b[32m━━━━━━━━━━━━━━━━━━━━\u001b[0m\u001b[37m\u001b[0m \u001b[1m1s\u001b[0m 3ms/step - loss: 4531765248.0000 - mae: 48743.0273 - val_loss: 3870072320.0000 - val_mae: 43241.7617\n",
            "Epoch 39/50\n",
            "\u001b[1m413/413\u001b[0m \u001b[32m━━━━━━━━━━━━━━━━━━━━\u001b[0m\u001b[37m\u001b[0m \u001b[1m1s\u001b[0m 3ms/step - loss: 4654359040.0000 - mae: 48981.5156 - val_loss: 3869848064.0000 - val_mae: 43086.7695\n",
            "Epoch 40/50\n",
            "\u001b[1m413/413\u001b[0m \u001b[32m━━━━━━━━━━━━━━━━━━━━\u001b[0m\u001b[37m\u001b[0m \u001b[1m1s\u001b[0m 3ms/step - loss: 4458679808.0000 - mae: 47587.7656 - val_loss: 3854731520.0000 - val_mae: 43253.3906\n",
            "Epoch 41/50\n",
            "\u001b[1m413/413\u001b[0m \u001b[32m━━━━━━━━━━━━━━━━━━━━\u001b[0m\u001b[37m\u001b[0m \u001b[1m1s\u001b[0m 3ms/step - loss: 4434121216.0000 - mae: 47758.7383 - val_loss: 3853931520.0000 - val_mae: 43049.9297\n",
            "Epoch 42/50\n",
            "\u001b[1m413/413\u001b[0m \u001b[32m━━━━━━━━━━━━━━━━━━━━\u001b[0m\u001b[37m\u001b[0m \u001b[1m1s\u001b[0m 3ms/step - loss: 4591824896.0000 - mae: 48522.2930 - val_loss: 3846732544.0000 - val_mae: 42991.4531\n",
            "Epoch 43/50\n",
            "\u001b[1m413/413\u001b[0m \u001b[32m━━━━━━━━━━━━━━━━━━━━\u001b[0m\u001b[37m\u001b[0m \u001b[1m1s\u001b[0m 3ms/step - loss: 4477919744.0000 - mae: 48155.3477 - val_loss: 3851456768.0000 - val_mae: 43130.1484\n",
            "Epoch 44/50\n",
            "\u001b[1m413/413\u001b[0m \u001b[32m━━━━━━━━━━━━━━━━━━━━\u001b[0m\u001b[37m\u001b[0m \u001b[1m1s\u001b[0m 3ms/step - loss: 4632634368.0000 - mae: 48547.0742 - val_loss: 3842603520.0000 - val_mae: 42764.3906\n",
            "Epoch 45/50\n",
            "\u001b[1m413/413\u001b[0m \u001b[32m━━━━━━━━━━━━━━━━━━━━\u001b[0m\u001b[37m\u001b[0m \u001b[1m1s\u001b[0m 3ms/step - loss: 4427573760.0000 - mae: 47801.0234 - val_loss: 3822830592.0000 - val_mae: 43004.8320\n",
            "Epoch 46/50\n",
            "\u001b[1m413/413\u001b[0m \u001b[32m━━━━━━━━━━━━━━━━━━━━\u001b[0m\u001b[37m\u001b[0m \u001b[1m1s\u001b[0m 3ms/step - loss: 4458490880.0000 - mae: 47800.5391 - val_loss: 3810998272.0000 - val_mae: 43075.5234\n",
            "Epoch 47/50\n",
            "\u001b[1m413/413\u001b[0m \u001b[32m━━━━━━━━━━━━━━━━━━━━\u001b[0m\u001b[37m\u001b[0m \u001b[1m1s\u001b[0m 3ms/step - loss: 4554188800.0000 - mae: 48364.9023 - val_loss: 3794213632.0000 - val_mae: 42865.9375\n",
            "Epoch 48/50\n",
            "\u001b[1m413/413\u001b[0m \u001b[32m━━━━━━━━━━━━━━━━━━━━\u001b[0m\u001b[37m\u001b[0m \u001b[1m1s\u001b[0m 3ms/step - loss: 4488297984.0000 - mae: 48227.1680 - val_loss: 3842113792.0000 - val_mae: 42643.7656\n",
            "Epoch 49/50\n",
            "\u001b[1m413/413\u001b[0m \u001b[32m━━━━━━━━━━━━━━━━━━━━\u001b[0m\u001b[37m\u001b[0m \u001b[1m1s\u001b[0m 3ms/step - loss: 4346813440.0000 - mae: 47684.0000 - val_loss: 3816430080.0000 - val_mae: 42726.4609\n",
            "Epoch 50/50\n",
            "\u001b[1m413/413\u001b[0m \u001b[32m━━━━━━━━━━━━━━━━━━━━\u001b[0m\u001b[37m\u001b[0m \u001b[1m1s\u001b[0m 3ms/step - loss: 4409679360.0000 - mae: 47558.9961 - val_loss: 3778730496.0000 - val_mae: 42734.0781\n"
          ]
        }
      ],
      "source": [
        "model = Sequential([\n",
        "    Dense(128, activation='relu', input_shape=(X_train.shape[1],)),\n",
        "    Dense(64, activation='relu'),\n",
        "    Dropout(0.3),\n",
        "    Dense(32, activation='relu'),\n",
        "    Dropout(0.2),\n",
        "    Dense(1)\n",
        "])\n",
        "\n",
        "model.compile(optimizer='adam', loss='mean_squared_error', metrics=['mae'])\n",
        "early = EarlyStopping(patience=5, restore_best_weights=True)\n",
        "history = model.fit(X_train, y_train, validation_split=0.2, epochs=50, batch_size=32, callbacks=[early])"
      ]
    },
    {
      "cell_type": "code",
      "execution_count": 230,
      "id": "813376c2",
      "metadata": {},
      "outputs": [
        {
          "name": "stdout",
          "output_type": "stream",
          "text": [
            "MAE sekitar 20.88% dari rata-rata harga rumah.\n"
          ]
        }
      ],
      "source": [
        "val_mae = history.history['val_mae'][-1]\n",
        "mae_percent = (val_mae / y_test.mean()) * 100\n",
        "print(f\"MAE sekitar {mae_percent:.2f}% dari rata-rata harga rumah.\")"
      ]
    },
    {
      "cell_type": "code",
      "execution_count": 231,
      "id": "83fd920f",
      "metadata": {
        "colab": {
          "base_uri": "https://localhost:8080/",
          "height": 211
        },
        "id": "83fd920f",
        "outputId": "1c260ab8-3cbc-4b4d-9d57-a4b5781c1c22"
      },
      "outputs": [
        {
          "name": "stdout",
          "output_type": "stream",
          "text": [
            "Epoch 1/50\n"
          ]
        },
        {
          "name": "stderr",
          "output_type": "stream",
          "text": [
            "d:\\ML\\ML-PredictNumerical\\.venv\\lib\\site-packages\\keras\\src\\layers\\convolutional\\base_conv.py:107: UserWarning: Do not pass an `input_shape`/`input_dim` argument to a layer. When using Sequential models, prefer using an `Input(shape)` object as the first layer in the model instead.\n",
            "  super().__init__(activity_regularizer=activity_regularizer, **kwargs)\n"
          ]
        },
        {
          "name": "stdout",
          "output_type": "stream",
          "text": [
            "\u001b[1m413/413\u001b[0m \u001b[32m━━━━━━━━━━━━━━━━━━━━\u001b[0m\u001b[37m\u001b[0m \u001b[1m4s\u001b[0m 5ms/step - loss: 53874413568.0000 - mae: 202658.4219 - val_loss: 35161767936.0000 - val_mae: 152436.4375\n",
            "Epoch 2/50\n",
            "\u001b[1m413/413\u001b[0m \u001b[32m━━━━━━━━━━━━━━━━━━━━\u001b[0m\u001b[37m\u001b[0m \u001b[1m2s\u001b[0m 5ms/step - loss: 24276021248.0000 - mae: 119806.8281 - val_loss: 13937758208.0000 - val_mae: 100525.5312\n",
            "Epoch 3/50\n",
            "\u001b[1m413/413\u001b[0m \u001b[32m━━━━━━━━━━━━━━━━━━━━\u001b[0m\u001b[37m\u001b[0m \u001b[1m2s\u001b[0m 5ms/step - loss: 11100487680.0000 - mae: 81597.2656 - val_loss: 11055761408.0000 - val_mae: 81228.2578\n",
            "Epoch 4/50\n",
            "\u001b[1m413/413\u001b[0m \u001b[32m━━━━━━━━━━━━━━━━━━━━\u001b[0m\u001b[37m\u001b[0m \u001b[1m2s\u001b[0m 5ms/step - loss: 10858724352.0000 - mae: 81095.3516 - val_loss: 10979983360.0000 - val_mae: 81213.3828\n",
            "Epoch 5/50\n",
            "\u001b[1m413/413\u001b[0m \u001b[32m━━━━━━━━━━━━━━━━━━━━\u001b[0m\u001b[37m\u001b[0m \u001b[1m2s\u001b[0m 5ms/step - loss: 10697913344.0000 - mae: 80645.3828 - val_loss: 10709961728.0000 - val_mae: 80396.8984\n",
            "Epoch 6/50\n",
            "\u001b[1m413/413\u001b[0m \u001b[32m━━━━━━━━━━━━━━━━━━━━\u001b[0m\u001b[37m\u001b[0m \u001b[1m2s\u001b[0m 5ms/step - loss: 10280708096.0000 - mae: 79239.3906 - val_loss: 10587202560.0000 - val_mae: 80610.2109\n",
            "Epoch 7/50\n",
            "\u001b[1m413/413\u001b[0m \u001b[32m━━━━━━━━━━━━━━━━━━━━\u001b[0m\u001b[37m\u001b[0m \u001b[1m2s\u001b[0m 4ms/step - loss: 10500543488.0000 - mae: 80048.6328 - val_loss: 10469684224.0000 - val_mae: 79270.3203\n",
            "Epoch 8/50\n",
            "\u001b[1m413/413\u001b[0m \u001b[32m━━━━━━━━━━━━━━━━━━━━\u001b[0m\u001b[37m\u001b[0m \u001b[1m2s\u001b[0m 5ms/step - loss: 10396360704.0000 - mae: 79758.8359 - val_loss: 10431959040.0000 - val_mae: 78501.7812\n",
            "Epoch 9/50\n",
            "\u001b[1m413/413\u001b[0m \u001b[32m━━━━━━━━━━━━━━━━━━━━\u001b[0m\u001b[37m\u001b[0m \u001b[1m2s\u001b[0m 4ms/step - loss: 10128684032.0000 - mae: 78826.2656 - val_loss: 10316253184.0000 - val_mae: 78847.7578\n",
            "Epoch 10/50\n",
            "\u001b[1m413/413\u001b[0m \u001b[32m━━━━━━━━━━━━━━━━━━━━\u001b[0m\u001b[37m\u001b[0m \u001b[1m2s\u001b[0m 5ms/step - loss: 10519554048.0000 - mae: 80444.7969 - val_loss: 10301292544.0000 - val_mae: 78076.1172\n",
            "Epoch 11/50\n",
            "\u001b[1m413/413\u001b[0m \u001b[32m━━━━━━━━━━━━━━━━━━━━\u001b[0m\u001b[37m\u001b[0m \u001b[1m2s\u001b[0m 5ms/step - loss: 10077243392.0000 - mae: 78518.1094 - val_loss: 10205750272.0000 - val_mae: 78647.9375\n",
            "Epoch 12/50\n",
            "\u001b[1m413/413\u001b[0m \u001b[32m━━━━━━━━━━━━━━━━━━━━\u001b[0m\u001b[37m\u001b[0m \u001b[1m2s\u001b[0m 4ms/step - loss: 10147403776.0000 - mae: 78822.4609 - val_loss: 10235783168.0000 - val_mae: 77718.7891\n",
            "Epoch 13/50\n",
            "\u001b[1m413/413\u001b[0m \u001b[32m━━━━━━━━━━━━━━━━━━━━\u001b[0m\u001b[37m\u001b[0m \u001b[1m2s\u001b[0m 5ms/step - loss: 10213760000.0000 - mae: 78468.7734 - val_loss: 10257600512.0000 - val_mae: 76913.2656\n",
            "Epoch 14/50\n",
            "\u001b[1m413/413\u001b[0m \u001b[32m━━━━━━━━━━━━━━━━━━━━\u001b[0m\u001b[37m\u001b[0m \u001b[1m2s\u001b[0m 5ms/step - loss: 10380163072.0000 - mae: 78784.7812 - val_loss: 10127270912.0000 - val_mae: 77128.1562\n",
            "Epoch 15/50\n",
            "\u001b[1m413/413\u001b[0m \u001b[32m━━━━━━━━━━━━━━━━━━━━\u001b[0m\u001b[37m\u001b[0m \u001b[1m2s\u001b[0m 4ms/step - loss: 9937862656.0000 - mae: 77577.6094 - val_loss: 10114113536.0000 - val_mae: 77101.6641\n",
            "Epoch 16/50\n",
            "\u001b[1m413/413\u001b[0m \u001b[32m━━━━━━━━━━━━━━━━━━━━\u001b[0m\u001b[37m\u001b[0m \u001b[1m2s\u001b[0m 4ms/step - loss: 10275847168.0000 - mae: 78858.5938 - val_loss: 10135516160.0000 - val_mae: 77284.2891\n",
            "Epoch 17/50\n",
            "\u001b[1m413/413\u001b[0m \u001b[32m━━━━━━━━━━━━━━━━━━━━\u001b[0m\u001b[37m\u001b[0m \u001b[1m2s\u001b[0m 5ms/step - loss: 10112337920.0000 - mae: 78194.2188 - val_loss: 10094577664.0000 - val_mae: 76964.4141\n",
            "Epoch 18/50\n",
            "\u001b[1m413/413\u001b[0m \u001b[32m━━━━━━━━━━━━━━━━━━━━\u001b[0m\u001b[37m\u001b[0m \u001b[1m2s\u001b[0m 5ms/step - loss: 10099228672.0000 - mae: 78307.5781 - val_loss: 10108828672.0000 - val_mae: 76208.1875\n",
            "Epoch 19/50\n",
            "\u001b[1m413/413\u001b[0m \u001b[32m━━━━━━━━━━━━━━━━━━━━\u001b[0m\u001b[37m\u001b[0m \u001b[1m2s\u001b[0m 5ms/step - loss: 10032467968.0000 - mae: 78048.0859 - val_loss: 10018765824.0000 - val_mae: 77006.1172\n",
            "Epoch 20/50\n",
            "\u001b[1m413/413\u001b[0m \u001b[32m━━━━━━━━━━━━━━━━━━━━\u001b[0m\u001b[37m\u001b[0m \u001b[1m2s\u001b[0m 4ms/step - loss: 9893936128.0000 - mae: 77291.4766 - val_loss: 10007589888.0000 - val_mae: 77812.3906\n",
            "Epoch 21/50\n",
            "\u001b[1m413/413\u001b[0m \u001b[32m━━━━━━━━━━━━━━━━━━━━\u001b[0m\u001b[37m\u001b[0m \u001b[1m2s\u001b[0m 5ms/step - loss: 10060201984.0000 - mae: 78243.1641 - val_loss: 9971033088.0000 - val_mae: 76701.3281\n",
            "Epoch 22/50\n",
            "\u001b[1m413/413\u001b[0m \u001b[32m━━━━━━━━━━━━━━━━━━━━\u001b[0m\u001b[37m\u001b[0m \u001b[1m2s\u001b[0m 5ms/step - loss: 10085316608.0000 - mae: 78214.5547 - val_loss: 9969127424.0000 - val_mae: 75944.1719\n",
            "Epoch 23/50\n",
            "\u001b[1m413/413\u001b[0m \u001b[32m━━━━━━━━━━━━━━━━━━━━\u001b[0m\u001b[37m\u001b[0m \u001b[1m2s\u001b[0m 5ms/step - loss: 9801879552.0000 - mae: 77115.5156 - val_loss: 9951042560.0000 - val_mae: 75977.9375\n",
            "Epoch 24/50\n",
            "\u001b[1m413/413\u001b[0m \u001b[32m━━━━━━━━━━━━━━━━━━━━\u001b[0m\u001b[37m\u001b[0m \u001b[1m2s\u001b[0m 5ms/step - loss: 9812163584.0000 - mae: 77147.2656 - val_loss: 9946396672.0000 - val_mae: 75804.8359\n",
            "Epoch 25/50\n",
            "\u001b[1m413/413\u001b[0m \u001b[32m━━━━━━━━━━━━━━━━━━━━\u001b[0m\u001b[37m\u001b[0m \u001b[1m2s\u001b[0m 5ms/step - loss: 10058806272.0000 - mae: 78016.0547 - val_loss: 9951373312.0000 - val_mae: 75394.4141\n",
            "Epoch 26/50\n",
            "\u001b[1m413/413\u001b[0m \u001b[32m━━━━━━━━━━━━━━━━━━━━\u001b[0m\u001b[37m\u001b[0m \u001b[1m2s\u001b[0m 5ms/step - loss: 9781191680.0000 - mae: 76922.6875 - val_loss: 9885445120.0000 - val_mae: 76059.1328\n",
            "Epoch 27/50\n",
            "\u001b[1m413/413\u001b[0m \u001b[32m━━━━━━━━━━━━━━━━━━━━\u001b[0m\u001b[37m\u001b[0m \u001b[1m2s\u001b[0m 4ms/step - loss: 9618123776.0000 - mae: 76313.2656 - val_loss: 9972032512.0000 - val_mae: 75608.0312\n",
            "Epoch 28/50\n",
            "\u001b[1m413/413\u001b[0m \u001b[32m━━━━━━━━━━━━━━━━━━━━\u001b[0m\u001b[37m\u001b[0m \u001b[1m2s\u001b[0m 4ms/step - loss: 9917067264.0000 - mae: 78011.7656 - val_loss: 9859345408.0000 - val_mae: 76392.9453\n",
            "Epoch 29/50\n",
            "\u001b[1m413/413\u001b[0m \u001b[32m━━━━━━━━━━━━━━━━━━━━\u001b[0m\u001b[37m\u001b[0m \u001b[1m2s\u001b[0m 5ms/step - loss: 9639495680.0000 - mae: 76343.7656 - val_loss: 9896987648.0000 - val_mae: 74911.2344\n",
            "Epoch 30/50\n",
            "\u001b[1m413/413\u001b[0m \u001b[32m━━━━━━━━━━━━━━━━━━━━\u001b[0m\u001b[37m\u001b[0m \u001b[1m2s\u001b[0m 5ms/step - loss: 9529459712.0000 - mae: 75598.7578 - val_loss: 9843499008.0000 - val_mae: 75201.4766\n",
            "Epoch 31/50\n",
            "\u001b[1m413/413\u001b[0m \u001b[32m━━━━━━━━━━━━━━━━━━━━\u001b[0m\u001b[37m\u001b[0m \u001b[1m2s\u001b[0m 5ms/step - loss: 9684491264.0000 - mae: 76406.0000 - val_loss: 9896911872.0000 - val_mae: 74319.8203\n",
            "Epoch 32/50\n",
            "\u001b[1m413/413\u001b[0m \u001b[32m━━━━━━━━━━━━━━━━━━━━\u001b[0m\u001b[37m\u001b[0m \u001b[1m2s\u001b[0m 4ms/step - loss: 9801171968.0000 - mae: 76780.7734 - val_loss: 9914043392.0000 - val_mae: 75524.9922\n",
            "Epoch 33/50\n",
            "\u001b[1m413/413\u001b[0m \u001b[32m━━━━━━━━━━━━━━━━━━━━\u001b[0m\u001b[37m\u001b[0m \u001b[1m2s\u001b[0m 5ms/step - loss: 9730979840.0000 - mae: 76659.3828 - val_loss: 9954788352.0000 - val_mae: 75518.4375\n",
            "Epoch 34/50\n",
            "\u001b[1m413/413\u001b[0m \u001b[32m━━━━━━━━━━━━━━━━━━━━\u001b[0m\u001b[37m\u001b[0m \u001b[1m2s\u001b[0m 5ms/step - loss: 9692709888.0000 - mae: 76163.9609 - val_loss: 9981151232.0000 - val_mae: 74669.3281\n",
            "Epoch 35/50\n",
            "\u001b[1m413/413\u001b[0m \u001b[32m━━━━━━━━━━━━━━━━━━━━\u001b[0m\u001b[37m\u001b[0m \u001b[1m2s\u001b[0m 5ms/step - loss: 9688403968.0000 - mae: 76203.8594 - val_loss: 10201283584.0000 - val_mae: 74307.0781\n"
          ]
        }
      ],
      "source": [
        "X_train_cnn = X_train.reshape(X_train.shape[0], X_train.shape[1], 1)\n",
        "X_test_cnn = X_test.reshape(X_test.shape[0], X_test.shape[1], 1)\n",
        "\n",
        "cnn_model = Sequential([\n",
        "    Conv1D(64, kernel_size=2, activation='relu', padding='same', input_shape=(X_train.shape[1], 1)),\n",
        "    MaxPooling1D(pool_size=2),\n",
        "    BatchNormalization(),\n",
        "    Conv1D(32, kernel_size=2, activation='relu', padding='same'),\n",
        "    GlobalAveragePooling1D(),\n",
        "    Dense(64, activation='relu'),\n",
        "    Dropout(0.3),\n",
        "    Dense(1)\n",
        "])\n",
        "\n",
        "cnn_model.compile(optimizer='adam', loss='mean_squared_error', metrics=['mae'])\n",
        "early = EarlyStopping(patience=5, restore_best_weights=True)\n",
        "history_cnn = cnn_model.fit(X_train_cnn, y_train, epochs=50, validation_split=0.2, verbose=1, callbacks=[early])\n"
      ]
    },
    {
      "cell_type": "code",
      "execution_count": 232,
      "id": "69a1a598",
      "metadata": {},
      "outputs": [
        {
          "name": "stdout",
          "output_type": "stream",
          "text": [
            "MAE sekitar 36.30% dari rata-rata harga rumah.\n"
          ]
        }
      ],
      "source": [
        "val_mae = history_cnn.history['val_mae'][-1]\n",
        "mae_percent = (val_mae / y_test.mean()) * 100\n",
        "print(f\"MAE sekitar {mae_percent:.2f}% dari rata-rata harga rumah.\")"
      ]
    },
    {
      "cell_type": "markdown",
      "id": "7b60c7ec",
      "metadata": {
        "id": "7b60c7ec"
      },
      "source": [
        "## Predict"
      ]
    },
    {
      "cell_type": "code",
      "execution_count": 235,
      "id": "e0c5a956",
      "metadata": {},
      "outputs": [
        {
          "name": "stdout",
          "output_type": "stream",
          "text": [
            "\u001b[1m1/1\u001b[0m \u001b[32m━━━━━━━━━━━━━━━━━━━━\u001b[0m\u001b[37m\u001b[0m \u001b[1m0s\u001b[0m 74ms/step\n",
            "Prediksi harga rumah: $271,288.72\n"
          ]
        }
      ],
      "source": [
        "data_baru = {\n",
        "    'longitude': -122.23,\n",
        "    'latitude': 40.88,\n",
        "    'housing_median_age': 41.0,\n",
        "    'total_rooms': 882.0,\n",
        "    'total_bedrooms': 129.0,\n",
        "    'population': 352.0,\n",
        "    'households': 136.0,\n",
        "    'median_income': 8.3252,\n",
        "    'ocean_proximity': 'NEAR BAY'\n",
        "}\n",
        "data_baru_df = pd.DataFrame([data_baru])\n",
        "\n",
        "encoded_baru = ohe.transform(data_baru_df[[\"ocean_proximity\"]])\n",
        "encoded_baru_df = pd.DataFrame(encoded_baru, columns=ohe.get_feature_names_out([\"ocean_proximity\"]))\n",
        "\n",
        "# 4. Gabungkan semua fitur\n",
        "data_baru_numeric = data_baru_df.drop(\"ocean_proximity\", axis=1)\n",
        "data_baru_final = pd.concat([data_baru_numeric, encoded_baru_df], axis=1)\n",
        "\n",
        "# 5. Standarisasi fitur numerik\n",
        "data_baru_scaled = scaler.transform(data_baru_final)\n",
        "\n",
        "# 6. Prediksi harga\n",
        "prediksi_harga = cnn_model.predict(data_baru_scaled)\n",
        "print(f\"Prediksi harga rumah: ${prediksi_harga[0][0]:,.2f}\")"
      ]
    },
    {
      "cell_type": "code",
      "execution_count": null,
      "id": "729a9e54",
      "metadata": {},
      "outputs": [],
      "source": []
    }
  ],
  "metadata": {
    "colab": {
      "provenance": []
    },
    "kernelspec": {
      "display_name": ".venv",
      "language": "python",
      "name": "python3"
    },
    "language_info": {
      "codemirror_mode": {
        "name": "ipython",
        "version": 3
      },
      "file_extension": ".py",
      "mimetype": "text/x-python",
      "name": "python",
      "nbconvert_exporter": "python",
      "pygments_lexer": "ipython3",
      "version": "3.10.0"
    }
  },
  "nbformat": 4,
  "nbformat_minor": 5
}
