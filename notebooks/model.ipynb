{
  "cells": [
    {
      "cell_type": "markdown",
      "id": "21adf398",
      "metadata": {
        "id": "21adf398"
      },
      "source": [
        "# **Predict Stroke**"
      ]
    },
    {
      "cell_type": "markdown",
      "id": "64df329e",
      "metadata": {
        "id": "64df329e"
      },
      "source": [
        "- Import Library"
      ]
    },
    {
      "cell_type": "code",
      "execution_count": 23,
      "id": "fb8cd3a6",
      "metadata": {
        "id": "fb8cd3a6"
      },
      "outputs": [],
      "source": [
        "import pandas as pd\n",
        "import numpy as np\n",
        "import tensorflow as tf\n",
        "import matplotlib.pyplot as plt\n",
        "from sklearn.model_selection import train_test_split\n",
        "from sklearn.preprocessing import StandardScaler, LabelEncoder\n",
        "from sklearn.metrics import classification_report, confusion_matrix\n",
        "from tensorflow.keras.models import Sequential\n",
        "from tensorflow.keras.layers import Dense, Conv1D, MaxPooling1D, GlobalAveragePooling1D, Dropout, BatchNormalization\n",
        "from tensorflow.keras.callbacks import EarlyStopping\n",
        "from scipy.stats import skew\n",
        "from sklearn.preprocessing import OneHotEncoder\n",
        "from sklearn.model_selection import train_test_split"
      ]
    },
    {
      "cell_type": "markdown",
      "id": "da69341e",
      "metadata": {
        "id": "da69341e"
      },
      "source": [
        "- Load Data"
      ]
    },
    {
      "cell_type": "code",
      "execution_count": 24,
      "id": "22602dc2",
      "metadata": {
        "id": "22602dc2"
      },
      "outputs": [],
      "source": [
        "df = pd.read_csv('../dataset/housing.csv')"
      ]
    },
    {
      "cell_type": "code",
      "execution_count": 25,
      "id": "a351de0e",
      "metadata": {
        "colab": {
          "base_uri": "https://localhost:8080/",
          "height": 206
        },
        "id": "a351de0e",
        "outputId": "46fc7e70-1e9b-4483-d153-d5e5f657b3c5"
      },
      "outputs": [
        {
          "data": {
            "application/vnd.microsoft.datawrangler.viewer.v0+json": {
              "columns": [
                {
                  "name": "index",
                  "rawType": "int64",
                  "type": "integer"
                },
                {
                  "name": "longitude",
                  "rawType": "float64",
                  "type": "float"
                },
                {
                  "name": "latitude",
                  "rawType": "float64",
                  "type": "float"
                },
                {
                  "name": "housing_median_age",
                  "rawType": "float64",
                  "type": "float"
                },
                {
                  "name": "total_rooms",
                  "rawType": "float64",
                  "type": "float"
                },
                {
                  "name": "total_bedrooms",
                  "rawType": "float64",
                  "type": "float"
                },
                {
                  "name": "population",
                  "rawType": "float64",
                  "type": "float"
                },
                {
                  "name": "households",
                  "rawType": "float64",
                  "type": "float"
                },
                {
                  "name": "median_income",
                  "rawType": "float64",
                  "type": "float"
                },
                {
                  "name": "median_house_value",
                  "rawType": "float64",
                  "type": "float"
                },
                {
                  "name": "ocean_proximity",
                  "rawType": "object",
                  "type": "string"
                }
              ],
              "conversionMethod": "pd.DataFrame",
              "ref": "b29a8d7d-a88d-44a0-aeca-ba3d4acee5e0",
              "rows": [
                [
                  "0",
                  "-122.23",
                  "37.88",
                  "41.0",
                  "880.0",
                  "129.0",
                  "322.0",
                  "126.0",
                  "8.3252",
                  "452600.0",
                  "NEAR BAY"
                ],
                [
                  "1",
                  "-122.22",
                  "37.86",
                  "21.0",
                  "7099.0",
                  "1106.0",
                  "2401.0",
                  "1138.0",
                  "8.3014",
                  "358500.0",
                  "NEAR BAY"
                ],
                [
                  "2",
                  "-122.24",
                  "37.85",
                  "52.0",
                  "1467.0",
                  "190.0",
                  "496.0",
                  "177.0",
                  "7.2574",
                  "352100.0",
                  "NEAR BAY"
                ],
                [
                  "3",
                  "-122.25",
                  "37.85",
                  "52.0",
                  "1274.0",
                  "235.0",
                  "558.0",
                  "219.0",
                  "5.6431",
                  "341300.0",
                  "NEAR BAY"
                ],
                [
                  "4",
                  "-122.25",
                  "37.85",
                  "52.0",
                  "1627.0",
                  "280.0",
                  "565.0",
                  "259.0",
                  "3.8462",
                  "342200.0",
                  "NEAR BAY"
                ]
              ],
              "shape": {
                "columns": 10,
                "rows": 5
              }
            },
            "text/html": [
              "<div>\n",
              "<style scoped>\n",
              "    .dataframe tbody tr th:only-of-type {\n",
              "        vertical-align: middle;\n",
              "    }\n",
              "\n",
              "    .dataframe tbody tr th {\n",
              "        vertical-align: top;\n",
              "    }\n",
              "\n",
              "    .dataframe thead th {\n",
              "        text-align: right;\n",
              "    }\n",
              "</style>\n",
              "<table border=\"1\" class=\"dataframe\">\n",
              "  <thead>\n",
              "    <tr style=\"text-align: right;\">\n",
              "      <th></th>\n",
              "      <th>longitude</th>\n",
              "      <th>latitude</th>\n",
              "      <th>housing_median_age</th>\n",
              "      <th>total_rooms</th>\n",
              "      <th>total_bedrooms</th>\n",
              "      <th>population</th>\n",
              "      <th>households</th>\n",
              "      <th>median_income</th>\n",
              "      <th>median_house_value</th>\n",
              "      <th>ocean_proximity</th>\n",
              "    </tr>\n",
              "  </thead>\n",
              "  <tbody>\n",
              "    <tr>\n",
              "      <th>0</th>\n",
              "      <td>-122.23</td>\n",
              "      <td>37.88</td>\n",
              "      <td>41.0</td>\n",
              "      <td>880.0</td>\n",
              "      <td>129.0</td>\n",
              "      <td>322.0</td>\n",
              "      <td>126.0</td>\n",
              "      <td>8.3252</td>\n",
              "      <td>452600.0</td>\n",
              "      <td>NEAR BAY</td>\n",
              "    </tr>\n",
              "    <tr>\n",
              "      <th>1</th>\n",
              "      <td>-122.22</td>\n",
              "      <td>37.86</td>\n",
              "      <td>21.0</td>\n",
              "      <td>7099.0</td>\n",
              "      <td>1106.0</td>\n",
              "      <td>2401.0</td>\n",
              "      <td>1138.0</td>\n",
              "      <td>8.3014</td>\n",
              "      <td>358500.0</td>\n",
              "      <td>NEAR BAY</td>\n",
              "    </tr>\n",
              "    <tr>\n",
              "      <th>2</th>\n",
              "      <td>-122.24</td>\n",
              "      <td>37.85</td>\n",
              "      <td>52.0</td>\n",
              "      <td>1467.0</td>\n",
              "      <td>190.0</td>\n",
              "      <td>496.0</td>\n",
              "      <td>177.0</td>\n",
              "      <td>7.2574</td>\n",
              "      <td>352100.0</td>\n",
              "      <td>NEAR BAY</td>\n",
              "    </tr>\n",
              "    <tr>\n",
              "      <th>3</th>\n",
              "      <td>-122.25</td>\n",
              "      <td>37.85</td>\n",
              "      <td>52.0</td>\n",
              "      <td>1274.0</td>\n",
              "      <td>235.0</td>\n",
              "      <td>558.0</td>\n",
              "      <td>219.0</td>\n",
              "      <td>5.6431</td>\n",
              "      <td>341300.0</td>\n",
              "      <td>NEAR BAY</td>\n",
              "    </tr>\n",
              "    <tr>\n",
              "      <th>4</th>\n",
              "      <td>-122.25</td>\n",
              "      <td>37.85</td>\n",
              "      <td>52.0</td>\n",
              "      <td>1627.0</td>\n",
              "      <td>280.0</td>\n",
              "      <td>565.0</td>\n",
              "      <td>259.0</td>\n",
              "      <td>3.8462</td>\n",
              "      <td>342200.0</td>\n",
              "      <td>NEAR BAY</td>\n",
              "    </tr>\n",
              "  </tbody>\n",
              "</table>\n",
              "</div>"
            ],
            "text/plain": [
              "   longitude  latitude  housing_median_age  total_rooms  total_bedrooms  \\\n",
              "0    -122.23     37.88                41.0        880.0           129.0   \n",
              "1    -122.22     37.86                21.0       7099.0          1106.0   \n",
              "2    -122.24     37.85                52.0       1467.0           190.0   \n",
              "3    -122.25     37.85                52.0       1274.0           235.0   \n",
              "4    -122.25     37.85                52.0       1627.0           280.0   \n",
              "\n",
              "   population  households  median_income  median_house_value ocean_proximity  \n",
              "0       322.0       126.0         8.3252            452600.0        NEAR BAY  \n",
              "1      2401.0      1138.0         8.3014            358500.0        NEAR BAY  \n",
              "2       496.0       177.0         7.2574            352100.0        NEAR BAY  \n",
              "3       558.0       219.0         5.6431            341300.0        NEAR BAY  \n",
              "4       565.0       259.0         3.8462            342200.0        NEAR BAY  "
            ]
          },
          "execution_count": 25,
          "metadata": {},
          "output_type": "execute_result"
        }
      ],
      "source": [
        "df.head()"
      ]
    },
    {
      "cell_type": "markdown",
      "id": "40103346",
      "metadata": {
        "id": "40103346"
      },
      "source": [
        "## Data Preprocessing"
      ]
    },
    {
      "cell_type": "markdown",
      "id": "f4b4e028",
      "metadata": {
        "id": "f4b4e028"
      },
      "source": [
        "- Handling Missing & Duplicated Values"
      ]
    },
    {
      "cell_type": "code",
      "execution_count": 26,
      "id": "1c7977ed",
      "metadata": {
        "colab": {
          "base_uri": "https://localhost:8080/"
        },
        "id": "1c7977ed",
        "outputId": "911ff2d4-fc52-4a33-9e56-661d88d8143c"
      },
      "outputs": [
        {
          "data": {
            "text/plain": [
              "np.int64(0)"
            ]
          },
          "execution_count": 26,
          "metadata": {},
          "output_type": "execute_result"
        }
      ],
      "source": [
        "df.duplicated().sum()"
      ]
    },
    {
      "cell_type": "code",
      "execution_count": 27,
      "id": "R6pP_ldu8GIy",
      "metadata": {
        "colab": {
          "base_uri": "https://localhost:8080/"
        },
        "id": "R6pP_ldu8GIy",
        "outputId": "75fb2069-4681-4508-80c4-1007beb5eda3"
      },
      "outputs": [
        {
          "name": "stdout",
          "output_type": "stream",
          "text": [
            "<class 'pandas.core.frame.DataFrame'>\n",
            "RangeIndex: 20640 entries, 0 to 20639\n",
            "Data columns (total 10 columns):\n",
            " #   Column              Non-Null Count  Dtype  \n",
            "---  ------              --------------  -----  \n",
            " 0   longitude           20640 non-null  float64\n",
            " 1   latitude            20640 non-null  float64\n",
            " 2   housing_median_age  20640 non-null  float64\n",
            " 3   total_rooms         20640 non-null  float64\n",
            " 4   total_bedrooms      20433 non-null  float64\n",
            " 5   population          20640 non-null  float64\n",
            " 6   households          20640 non-null  float64\n",
            " 7   median_income       20640 non-null  float64\n",
            " 8   median_house_value  20640 non-null  float64\n",
            " 9   ocean_proximity     20640 non-null  object \n",
            "dtypes: float64(9), object(1)\n",
            "memory usage: 1.6+ MB\n"
          ]
        }
      ],
      "source": [
        "df.info()"
      ]
    },
    {
      "cell_type": "code",
      "execution_count": 28,
      "id": "25904148",
      "metadata": {
        "colab": {
          "base_uri": "https://localhost:8080/",
          "height": 398
        },
        "id": "25904148",
        "outputId": "3f149fce-beb5-43f8-d97c-3c1816307fb2"
      },
      "outputs": [
        {
          "data": {
            "text/plain": [
              "longitude               0\n",
              "latitude                0\n",
              "housing_median_age      0\n",
              "total_rooms             0\n",
              "total_bedrooms        207\n",
              "population              0\n",
              "households              0\n",
              "median_income           0\n",
              "median_house_value      0\n",
              "ocean_proximity         0\n",
              "dtype: int64"
            ]
          },
          "execution_count": 28,
          "metadata": {},
          "output_type": "execute_result"
        }
      ],
      "source": [
        "df.isna().sum()"
      ]
    },
    {
      "cell_type": "code",
      "execution_count": 29,
      "id": "9fd2e102",
      "metadata": {},
      "outputs": [
        {
          "data": {
            "text/plain": [
              "longitude               0\n",
              "latitude                0\n",
              "housing_median_age      0\n",
              "total_rooms             0\n",
              "total_bedrooms        207\n",
              "population              0\n",
              "households              0\n",
              "median_income           0\n",
              "median_house_value      0\n",
              "ocean_proximity         0\n",
              "dtype: int64"
            ]
          },
          "execution_count": 29,
          "metadata": {},
          "output_type": "execute_result"
        }
      ],
      "source": [
        "df.isna().sum()"
      ]
    },
    {
      "cell_type": "code",
      "execution_count": 30,
      "id": "ad821367",
      "metadata": {
        "colab": {
          "base_uri": "https://localhost:8080/",
          "height": 300
        },
        "id": "ad821367",
        "outputId": "70881007-5308-459e-f3fd-444e8e3b14df"
      },
      "outputs": [
        {
          "data": {
            "application/vnd.microsoft.datawrangler.viewer.v0+json": {
              "columns": [
                {
                  "name": "index",
                  "rawType": "object",
                  "type": "string"
                },
                {
                  "name": "longitude",
                  "rawType": "float64",
                  "type": "float"
                },
                {
                  "name": "latitude",
                  "rawType": "float64",
                  "type": "float"
                },
                {
                  "name": "housing_median_age",
                  "rawType": "float64",
                  "type": "float"
                },
                {
                  "name": "total_rooms",
                  "rawType": "float64",
                  "type": "float"
                },
                {
                  "name": "total_bedrooms",
                  "rawType": "float64",
                  "type": "float"
                },
                {
                  "name": "population",
                  "rawType": "float64",
                  "type": "float"
                },
                {
                  "name": "households",
                  "rawType": "float64",
                  "type": "float"
                },
                {
                  "name": "median_income",
                  "rawType": "float64",
                  "type": "float"
                },
                {
                  "name": "median_house_value",
                  "rawType": "float64",
                  "type": "float"
                }
              ],
              "conversionMethod": "pd.DataFrame",
              "ref": "c9f29a15-140a-4fd1-be73-3a69a253aa48",
              "rows": [
                [
                  "count",
                  "20640.0",
                  "20640.0",
                  "20640.0",
                  "20640.0",
                  "20433.0",
                  "20640.0",
                  "20640.0",
                  "20640.0",
                  "20640.0"
                ],
                [
                  "mean",
                  "-119.56970445736432",
                  "35.63186143410853",
                  "28.639486434108527",
                  "2635.7630813953488",
                  "537.8705525375618",
                  "1425.4767441860465",
                  "499.5396802325581",
                  "3.8706710029069766",
                  "206855.81690891474"
                ],
                [
                  "std",
                  "2.0035317235025882",
                  "2.1359523974571153",
                  "12.58555761211165",
                  "2181.615251582795",
                  "421.3850700740323",
                  "1132.462121765341",
                  "382.32975283161073",
                  "1.8998217179452688",
                  "115395.61587441387"
                ],
                [
                  "min",
                  "-124.35",
                  "32.54",
                  "1.0",
                  "2.0",
                  "1.0",
                  "3.0",
                  "1.0",
                  "0.4999",
                  "14999.0"
                ],
                [
                  "25%",
                  "-121.8",
                  "33.93",
                  "18.0",
                  "1447.75",
                  "296.0",
                  "787.0",
                  "280.0",
                  "2.5633999999999997",
                  "119600.0"
                ],
                [
                  "50%",
                  "-118.49",
                  "34.26",
                  "29.0",
                  "2127.0",
                  "435.0",
                  "1166.0",
                  "409.0",
                  "3.5347999999999997",
                  "179700.0"
                ],
                [
                  "75%",
                  "-118.01",
                  "37.71",
                  "37.0",
                  "3148.0",
                  "647.0",
                  "1725.0",
                  "605.0",
                  "4.74325",
                  "264725.0"
                ],
                [
                  "max",
                  "-114.31",
                  "41.95",
                  "52.0",
                  "39320.0",
                  "6445.0",
                  "35682.0",
                  "6082.0",
                  "15.0001",
                  "500001.0"
                ]
              ],
              "shape": {
                "columns": 9,
                "rows": 8
              }
            },
            "text/html": [
              "<div>\n",
              "<style scoped>\n",
              "    .dataframe tbody tr th:only-of-type {\n",
              "        vertical-align: middle;\n",
              "    }\n",
              "\n",
              "    .dataframe tbody tr th {\n",
              "        vertical-align: top;\n",
              "    }\n",
              "\n",
              "    .dataframe thead th {\n",
              "        text-align: right;\n",
              "    }\n",
              "</style>\n",
              "<table border=\"1\" class=\"dataframe\">\n",
              "  <thead>\n",
              "    <tr style=\"text-align: right;\">\n",
              "      <th></th>\n",
              "      <th>longitude</th>\n",
              "      <th>latitude</th>\n",
              "      <th>housing_median_age</th>\n",
              "      <th>total_rooms</th>\n",
              "      <th>total_bedrooms</th>\n",
              "      <th>population</th>\n",
              "      <th>households</th>\n",
              "      <th>median_income</th>\n",
              "      <th>median_house_value</th>\n",
              "    </tr>\n",
              "  </thead>\n",
              "  <tbody>\n",
              "    <tr>\n",
              "      <th>count</th>\n",
              "      <td>20640.000000</td>\n",
              "      <td>20640.000000</td>\n",
              "      <td>20640.000000</td>\n",
              "      <td>20640.000000</td>\n",
              "      <td>20433.000000</td>\n",
              "      <td>20640.000000</td>\n",
              "      <td>20640.000000</td>\n",
              "      <td>20640.000000</td>\n",
              "      <td>20640.000000</td>\n",
              "    </tr>\n",
              "    <tr>\n",
              "      <th>mean</th>\n",
              "      <td>-119.569704</td>\n",
              "      <td>35.631861</td>\n",
              "      <td>28.639486</td>\n",
              "      <td>2635.763081</td>\n",
              "      <td>537.870553</td>\n",
              "      <td>1425.476744</td>\n",
              "      <td>499.539680</td>\n",
              "      <td>3.870671</td>\n",
              "      <td>206855.816909</td>\n",
              "    </tr>\n",
              "    <tr>\n",
              "      <th>std</th>\n",
              "      <td>2.003532</td>\n",
              "      <td>2.135952</td>\n",
              "      <td>12.585558</td>\n",
              "      <td>2181.615252</td>\n",
              "      <td>421.385070</td>\n",
              "      <td>1132.462122</td>\n",
              "      <td>382.329753</td>\n",
              "      <td>1.899822</td>\n",
              "      <td>115395.615874</td>\n",
              "    </tr>\n",
              "    <tr>\n",
              "      <th>min</th>\n",
              "      <td>-124.350000</td>\n",
              "      <td>32.540000</td>\n",
              "      <td>1.000000</td>\n",
              "      <td>2.000000</td>\n",
              "      <td>1.000000</td>\n",
              "      <td>3.000000</td>\n",
              "      <td>1.000000</td>\n",
              "      <td>0.499900</td>\n",
              "      <td>14999.000000</td>\n",
              "    </tr>\n",
              "    <tr>\n",
              "      <th>25%</th>\n",
              "      <td>-121.800000</td>\n",
              "      <td>33.930000</td>\n",
              "      <td>18.000000</td>\n",
              "      <td>1447.750000</td>\n",
              "      <td>296.000000</td>\n",
              "      <td>787.000000</td>\n",
              "      <td>280.000000</td>\n",
              "      <td>2.563400</td>\n",
              "      <td>119600.000000</td>\n",
              "    </tr>\n",
              "    <tr>\n",
              "      <th>50%</th>\n",
              "      <td>-118.490000</td>\n",
              "      <td>34.260000</td>\n",
              "      <td>29.000000</td>\n",
              "      <td>2127.000000</td>\n",
              "      <td>435.000000</td>\n",
              "      <td>1166.000000</td>\n",
              "      <td>409.000000</td>\n",
              "      <td>3.534800</td>\n",
              "      <td>179700.000000</td>\n",
              "    </tr>\n",
              "    <tr>\n",
              "      <th>75%</th>\n",
              "      <td>-118.010000</td>\n",
              "      <td>37.710000</td>\n",
              "      <td>37.000000</td>\n",
              "      <td>3148.000000</td>\n",
              "      <td>647.000000</td>\n",
              "      <td>1725.000000</td>\n",
              "      <td>605.000000</td>\n",
              "      <td>4.743250</td>\n",
              "      <td>264725.000000</td>\n",
              "    </tr>\n",
              "    <tr>\n",
              "      <th>max</th>\n",
              "      <td>-114.310000</td>\n",
              "      <td>41.950000</td>\n",
              "      <td>52.000000</td>\n",
              "      <td>39320.000000</td>\n",
              "      <td>6445.000000</td>\n",
              "      <td>35682.000000</td>\n",
              "      <td>6082.000000</td>\n",
              "      <td>15.000100</td>\n",
              "      <td>500001.000000</td>\n",
              "    </tr>\n",
              "  </tbody>\n",
              "</table>\n",
              "</div>"
            ],
            "text/plain": [
              "          longitude      latitude  housing_median_age   total_rooms  \\\n",
              "count  20640.000000  20640.000000        20640.000000  20640.000000   \n",
              "mean    -119.569704     35.631861           28.639486   2635.763081   \n",
              "std        2.003532      2.135952           12.585558   2181.615252   \n",
              "min     -124.350000     32.540000            1.000000      2.000000   \n",
              "25%     -121.800000     33.930000           18.000000   1447.750000   \n",
              "50%     -118.490000     34.260000           29.000000   2127.000000   \n",
              "75%     -118.010000     37.710000           37.000000   3148.000000   \n",
              "max     -114.310000     41.950000           52.000000  39320.000000   \n",
              "\n",
              "       total_bedrooms    population    households  median_income  \\\n",
              "count    20433.000000  20640.000000  20640.000000   20640.000000   \n",
              "mean       537.870553   1425.476744    499.539680       3.870671   \n",
              "std        421.385070   1132.462122    382.329753       1.899822   \n",
              "min          1.000000      3.000000      1.000000       0.499900   \n",
              "25%        296.000000    787.000000    280.000000       2.563400   \n",
              "50%        435.000000   1166.000000    409.000000       3.534800   \n",
              "75%        647.000000   1725.000000    605.000000       4.743250   \n",
              "max       6445.000000  35682.000000   6082.000000      15.000100   \n",
              "\n",
              "       median_house_value  \n",
              "count        20640.000000  \n",
              "mean        206855.816909  \n",
              "std         115395.615874  \n",
              "min          14999.000000  \n",
              "25%         119600.000000  \n",
              "50%         179700.000000  \n",
              "75%         264725.000000  \n",
              "max         500001.000000  "
            ]
          },
          "execution_count": 30,
          "metadata": {},
          "output_type": "execute_result"
        }
      ],
      "source": [
        "df.describe()"
      ]
    },
    {
      "cell_type": "code",
      "execution_count": 31,
      "id": "7942190e",
      "metadata": {
        "colab": {
          "base_uri": "https://localhost:8080/"
        },
        "id": "7942190e",
        "outputId": "2b2ed44f-2dae-429d-96f1-7c70a0a6ee33"
      },
      "outputs": [
        {
          "name": "stdout",
          "output_type": "stream",
          "text": [
            "Kolom 'longitude': 0 outlier\n",
            "Kolom 'latitude': 0 outlier\n",
            "Kolom 'housing_median_age': 0 outlier\n",
            "Kolom 'total_rooms': 1287 outlier\n",
            "Kolom 'total_bedrooms': 1271 outlier\n",
            "Kolom 'population': 1196 outlier\n",
            "Kolom 'households': 1220 outlier\n",
            "Kolom 'median_income': 681 outlier\n",
            "Kolom 'median_house_value': 1071 outlier\n"
          ]
        }
      ],
      "source": [
        "numeric = df.select_dtypes(include=['number']).columns\n",
        "for i in numeric:\n",
        "    Q1 = df[i].quantile(0.25)\n",
        "    Q3 = df[i].quantile(0.75)\n",
        "    IQR = Q3 - Q1\n",
        "    lower = Q1 - 1.5 * IQR\n",
        "    upper = Q3 + 1.5 * IQR\n",
        "\n",
        "    outliers = df[(df[i] < lower) | (df[i] > upper)]\n",
        "    print(f\"Kolom '{i}': {len(outliers)} outlier\")"
      ]
    },
    {
      "cell_type": "code",
      "execution_count": 32,
      "id": "8f77c041",
      "metadata": {},
      "outputs": [],
      "source": [
        "df['total_bedrooms'] = df['total_bedrooms'].fillna(df['total_bedrooms'].median())"
      ]
    },
    {
      "cell_type": "markdown",
      "id": "10ed782d",
      "metadata": {
        "id": "10ed782d"
      },
      "source": [
        "- Outliers Handling"
      ]
    },
    {
      "cell_type": "code",
      "execution_count": 33,
      "id": "cda2ee1a",
      "metadata": {},
      "outputs": [
        {
          "data": {
            "text/plain": [
              "np.float64(206855.81690891474)"
            ]
          },
          "execution_count": 33,
          "metadata": {},
          "output_type": "execute_result"
        }
      ],
      "source": [
        "df['median_house_value'].mean()"
      ]
    },
    {
      "cell_type": "code",
      "execution_count": 34,
      "id": "bbf7a9d2",
      "metadata": {
        "colab": {
          "base_uri": "https://localhost:8080/",
          "height": 272
        },
        "id": "bbf7a9d2",
        "outputId": "20beba9e-7084-4e87-86b9-407a0822e8fb"
      },
      "outputs": [
        {
          "data": {
            "text/plain": [
              "ocean_proximity\n",
              "<1H OCEAN     9136\n",
              "INLAND        6551\n",
              "NEAR OCEAN    2658\n",
              "NEAR BAY      2290\n",
              "ISLAND           5\n",
              "Name: count, dtype: int64"
            ]
          },
          "execution_count": 34,
          "metadata": {},
          "output_type": "execute_result"
        }
      ],
      "source": [
        "df['ocean_proximity'].value_counts()"
      ]
    },
    {
      "cell_type": "code",
      "execution_count": 35,
      "id": "6Jx07llU8py8",
      "metadata": {
        "id": "6Jx07llU8py8"
      },
      "outputs": [],
      "source": [
        "\n",
        "def outliersHandling(series):\n",
        "  Q1 = df[series].quantile(0.25)\n",
        "  Q3 = df[series].quantile(0.75)\n",
        "  IQR = Q3 - Q1\n",
        "  lower_bound = Q1 - 1.5 * IQR\n",
        "  upper_bound = Q3 + 1.5 * IQR\n",
        "  df.loc[df[series] > upper_bound, series] = upper_bound\n",
        "  df.loc[df[series] < lower_bound, series] = lower_bound\n",
        "  return df\n"
      ]
    },
    {
      "cell_type": "code",
      "execution_count": 36,
      "id": "FcsnZV_9ES0O",
      "metadata": {
        "colab": {
          "base_uri": "https://localhost:8080/"
        },
        "id": "FcsnZV_9ES0O",
        "outputId": "01a04855-1d7f-4de0-d584-2e95847d79c1"
      },
      "outputs": [
        {
          "name": "stdout",
          "output_type": "stream",
          "text": [
            "Kolom 'longitude': 0 outlier\n",
            "Kolom 'latitude': 0 outlier\n",
            "Kolom 'housing_median_age': 0 outlier\n",
            "Kolom 'total_rooms': 0 outlier\n",
            "Kolom 'total_bedrooms': 0 outlier\n",
            "Kolom 'population': 0 outlier\n",
            "Kolom 'households': 0 outlier\n",
            "Kolom 'median_income': 0 outlier\n",
            "Kolom 'median_house_value': 0 outlier\n"
          ]
        }
      ],
      "source": [
        "numeric = df.select_dtypes(include=['number']).columns\n",
        "\n",
        "for i in numeric:\n",
        "  df = outliersHandling(i)\n",
        "\n",
        "for i in numeric:\n",
        "    Q1 = df[i].quantile(0.25)\n",
        "    Q3 = df[i].quantile(0.75)\n",
        "    IQR = Q3 - Q1\n",
        "    lower = Q1 - 1.5 * IQR\n",
        "    upper = Q3 + 1.5 * IQR\n",
        "\n",
        "    outliers = df[(df[i] < lower) | (df[i] > upper)]\n",
        "    print(f\"Kolom '{i}': {len(outliers)} outlier\")"
      ]
    },
    {
      "cell_type": "markdown",
      "id": "StgKSRjSFKd2",
      "metadata": {
        "id": "StgKSRjSFKd2"
      },
      "source": [
        "- Feature Engineering"
      ]
    },
    {
      "cell_type": "code",
      "execution_count": 37,
      "id": "1nDAq5NnFGRL",
      "metadata": {
        "id": "1nDAq5NnFGRL"
      },
      "outputs": [],
      "source": [
        "ohe = OneHotEncoder(sparse_output=False)\n",
        "encoded_data = ohe.fit_transform(df[['ocean_proximity']])\n",
        "encoded_df = pd.DataFrame(encoded_data, columns=ohe.get_feature_names_out(['ocean_proximity']))\n",
        "df = pd.concat([df.drop(\"ocean_proximity\", axis=1), encoded_df],axis=1)"
      ]
    },
    {
      "cell_type": "markdown",
      "id": "de373a86",
      "metadata": {},
      "source": [
        "- Data Splitting"
      ]
    },
    {
      "cell_type": "code",
      "execution_count": 38,
      "id": "135acd81",
      "metadata": {},
      "outputs": [],
      "source": [
        "X = df.drop('median_house_value', axis=1)\n",
        "y = df['median_house_value']\n",
        "\n",
        "scaler = StandardScaler()\n",
        "X = scaler.fit_transform(X)\n",
        "\n",
        "X_train, X_test, y_train, y_test = train_test_split(X, y, test_size=0.2, random_state=42)"
      ]
    },
    {
      "cell_type": "markdown",
      "id": "80b4104c",
      "metadata": {
        "id": "80b4104c"
      },
      "source": [
        "## Modelling & Evaluation"
      ]
    },
    {
      "cell_type": "code",
      "execution_count": 39,
      "id": "cec31fb9",
      "metadata": {
        "colab": {
          "base_uri": "https://localhost:8080/",
          "height": 211
        },
        "id": "cec31fb9",
        "outputId": "b38b8df5-0b21-4808-fc0d-494a7db390f6"
      },
      "outputs": [
        {
          "name": "stdout",
          "output_type": "stream",
          "text": [
            "Epoch 1/50\n"
          ]
        },
        {
          "name": "stderr",
          "output_type": "stream",
          "text": [
            "d:\\ML\\ML-PredictNumerical\\.venv\\lib\\site-packages\\keras\\src\\layers\\core\\dense.py:87: UserWarning: Do not pass an `input_shape`/`input_dim` argument to a layer. When using Sequential models, prefer using an `Input(shape)` object as the first layer in the model instead.\n",
            "  super().__init__(activity_regularizer=activity_regularizer, **kwargs)\n"
          ]
        },
        {
          "name": "stdout",
          "output_type": "stream",
          "text": [
            "\u001b[1m516/516\u001b[0m \u001b[32m━━━━━━━━━━━━━━━━━━━━\u001b[0m\u001b[37m\u001b[0m \u001b[1m3s\u001b[0m 3ms/step - loss: 51702030336.0000 - mae: 197375.7656 - val_loss: 9874092032.0000 - val_mae: 73626.5391\n",
            "Epoch 2/50\n",
            "\u001b[1m516/516\u001b[0m \u001b[32m━━━━━━━━━━━━━━━━━━━━\u001b[0m\u001b[37m\u001b[0m \u001b[1m2s\u001b[0m 3ms/step - loss: 9291984896.0000 - mae: 73452.2188 - val_loss: 6101314560.0000 - val_mae: 57673.8906\n",
            "Epoch 3/50\n",
            "\u001b[1m516/516\u001b[0m \u001b[32m━━━━━━━━━━━━━━━━━━━━\u001b[0m\u001b[37m\u001b[0m \u001b[1m1s\u001b[0m 3ms/step - loss: 7206616064.0000 - mae: 63659.7031 - val_loss: 5322146816.0000 - val_mae: 52705.6211\n",
            "Epoch 4/50\n",
            "\u001b[1m516/516\u001b[0m \u001b[32m━━━━━━━━━━━━━━━━━━━━\u001b[0m\u001b[37m\u001b[0m \u001b[1m1s\u001b[0m 3ms/step - loss: 6581936128.0000 - mae: 59620.5430 - val_loss: 4897669632.0000 - val_mae: 49941.7852\n",
            "Epoch 5/50\n",
            "\u001b[1m516/516\u001b[0m \u001b[32m━━━━━━━━━━━━━━━━━━━━\u001b[0m\u001b[37m\u001b[0m \u001b[1m1s\u001b[0m 3ms/step - loss: 6391576576.0000 - mae: 58346.0625 - val_loss: 4664141312.0000 - val_mae: 48197.5898\n",
            "Epoch 6/50\n",
            "\u001b[1m516/516\u001b[0m \u001b[32m━━━━━━━━━━━━━━━━━━━━\u001b[0m\u001b[37m\u001b[0m \u001b[1m1s\u001b[0m 3ms/step - loss: 6138783744.0000 - mae: 56806.7891 - val_loss: 4521707008.0000 - val_mae: 47137.7812\n",
            "Epoch 7/50\n",
            "\u001b[1m516/516\u001b[0m \u001b[32m━━━━━━━━━━━━━━━━━━━━\u001b[0m\u001b[37m\u001b[0m \u001b[1m1s\u001b[0m 3ms/step - loss: 5786348544.0000 - mae: 55100.4609 - val_loss: 4431233024.0000 - val_mae: 46484.4062\n",
            "Epoch 8/50\n",
            "\u001b[1m516/516\u001b[0m \u001b[32m━━━━━━━━━━━━━━━━━━━━\u001b[0m\u001b[37m\u001b[0m \u001b[1m1s\u001b[0m 3ms/step - loss: 6094280704.0000 - mae: 56269.5820 - val_loss: 4322284032.0000 - val_mae: 46031.3633\n",
            "Epoch 9/50\n",
            "\u001b[1m516/516\u001b[0m \u001b[32m━━━━━━━━━━━━━━━━━━━━\u001b[0m\u001b[37m\u001b[0m \u001b[1m1s\u001b[0m 3ms/step - loss: 5703315456.0000 - mae: 54518.0039 - val_loss: 4267305472.0000 - val_mae: 45641.3516\n",
            "Epoch 10/50\n",
            "\u001b[1m516/516\u001b[0m \u001b[32m━━━━━━━━━━━━━━━━━━━━\u001b[0m\u001b[37m\u001b[0m \u001b[1m3s\u001b[0m 3ms/step - loss: 5513062400.0000 - mae: 53617.5195 - val_loss: 4197117184.0000 - val_mae: 45594.4961\n",
            "Epoch 11/50\n",
            "\u001b[1m516/516\u001b[0m \u001b[32m━━━━━━━━━━━━━━━━━━━━\u001b[0m\u001b[37m\u001b[0m \u001b[1m1s\u001b[0m 3ms/step - loss: 5556681216.0000 - mae: 53721.3633 - val_loss: 4173268736.0000 - val_mae: 45230.2891\n",
            "Epoch 12/50\n",
            "\u001b[1m516/516\u001b[0m \u001b[32m━━━━━━━━━━━━━━━━━━━━\u001b[0m\u001b[37m\u001b[0m \u001b[1m1s\u001b[0m 3ms/step - loss: 5533178368.0000 - mae: 54059.5039 - val_loss: 4239200512.0000 - val_mae: 44970.4727\n",
            "Epoch 13/50\n",
            "\u001b[1m516/516\u001b[0m \u001b[32m━━━━━━━━━━━━━━━━━━━━\u001b[0m\u001b[37m\u001b[0m \u001b[1m1s\u001b[0m 3ms/step - loss: 5599234048.0000 - mae: 53995.7734 - val_loss: 4110388224.0000 - val_mae: 44827.6094\n",
            "Epoch 14/50\n",
            "\u001b[1m516/516\u001b[0m \u001b[32m━━━━━━━━━━━━━━━━━━━━\u001b[0m\u001b[37m\u001b[0m \u001b[1m1s\u001b[0m 2ms/step - loss: 5533146112.0000 - mae: 53874.1094 - val_loss: 4177098752.0000 - val_mae: 44749.2266\n",
            "Epoch 15/50\n",
            "\u001b[1m516/516\u001b[0m \u001b[32m━━━━━━━━━━━━━━━━━━━━\u001b[0m\u001b[37m\u001b[0m \u001b[1m1s\u001b[0m 3ms/step - loss: 5554373120.0000 - mae: 53567.3320 - val_loss: 4076213248.0000 - val_mae: 44540.8672\n",
            "Epoch 16/50\n",
            "\u001b[1m516/516\u001b[0m \u001b[32m━━━━━━━━━━━━━━━━━━━━\u001b[0m\u001b[37m\u001b[0m \u001b[1m1s\u001b[0m 2ms/step - loss: 5490513408.0000 - mae: 53359.0664 - val_loss: 4121224448.0000 - val_mae: 44472.7578\n",
            "Epoch 17/50\n",
            "\u001b[1m516/516\u001b[0m \u001b[32m━━━━━━━━━━━━━━━━━━━━\u001b[0m\u001b[37m\u001b[0m \u001b[1m1s\u001b[0m 3ms/step - loss: 5529637888.0000 - mae: 53406.8711 - val_loss: 4118187264.0000 - val_mae: 44400.1836\n",
            "Epoch 18/50\n",
            "\u001b[1m516/516\u001b[0m \u001b[32m━━━━━━━━━━━━━━━━━━━━\u001b[0m\u001b[37m\u001b[0m \u001b[1m1s\u001b[0m 3ms/step - loss: 5601376256.0000 - mae: 53431.8555 - val_loss: 4178882560.0000 - val_mae: 44489.5938\n",
            "Epoch 19/50\n",
            "\u001b[1m516/516\u001b[0m \u001b[32m━━━━━━━━━━━━━━━━━━━━\u001b[0m\u001b[37m\u001b[0m \u001b[1m1s\u001b[0m 3ms/step - loss: 5316298752.0000 - mae: 52584.2969 - val_loss: 4063950336.0000 - val_mae: 44117.0352\n",
            "Epoch 20/50\n",
            "\u001b[1m516/516\u001b[0m \u001b[32m━━━━━━━━━━━━━━━━━━━━\u001b[0m\u001b[37m\u001b[0m \u001b[1m1s\u001b[0m 3ms/step - loss: 5507367424.0000 - mae: 53494.9805 - val_loss: 4094256384.0000 - val_mae: 44035.4766\n",
            "Epoch 21/50\n",
            "\u001b[1m516/516\u001b[0m \u001b[32m━━━━━━━━━━━━━━━━━━━━\u001b[0m\u001b[37m\u001b[0m \u001b[1m1s\u001b[0m 3ms/step - loss: 5382682112.0000 - mae: 52890.4961 - val_loss: 4097028608.0000 - val_mae: 44197.1992\n",
            "Epoch 22/50\n",
            "\u001b[1m516/516\u001b[0m \u001b[32m━━━━━━━━━━━━━━━━━━━━\u001b[0m\u001b[37m\u001b[0m \u001b[1m2s\u001b[0m 3ms/step - loss: 5328631296.0000 - mae: 52293.9375 - val_loss: 4058300416.0000 - val_mae: 44086.6133\n",
            "Epoch 23/50\n",
            "\u001b[1m516/516\u001b[0m \u001b[32m━━━━━━━━━━━━━━━━━━━━\u001b[0m\u001b[37m\u001b[0m \u001b[1m1s\u001b[0m 3ms/step - loss: 5384617984.0000 - mae: 52877.4414 - val_loss: 4105084416.0000 - val_mae: 44234.4883\n",
            "Epoch 24/50\n",
            "\u001b[1m516/516\u001b[0m \u001b[32m━━━━━━━━━━━━━━━━━━━━\u001b[0m\u001b[37m\u001b[0m \u001b[1m1s\u001b[0m 3ms/step - loss: 5369060352.0000 - mae: 52564.4922 - val_loss: 4031874048.0000 - val_mae: 43849.4453\n",
            "Epoch 25/50\n",
            "\u001b[1m516/516\u001b[0m \u001b[32m━━━━━━━━━━━━━━━━━━━━\u001b[0m\u001b[37m\u001b[0m \u001b[1m1s\u001b[0m 3ms/step - loss: 5334479360.0000 - mae: 52736.3516 - val_loss: 3953754624.0000 - val_mae: 43699.1562\n",
            "Epoch 26/50\n",
            "\u001b[1m516/516\u001b[0m \u001b[32m━━━━━━━━━━━━━━━━━━━━\u001b[0m\u001b[37m\u001b[0m \u001b[1m1s\u001b[0m 3ms/step - loss: 5364739072.0000 - mae: 53041.2188 - val_loss: 3938959360.0000 - val_mae: 43536.3633\n",
            "Epoch 27/50\n",
            "\u001b[1m516/516\u001b[0m \u001b[32m━━━━━━━━━━━━━━━━━━━━\u001b[0m\u001b[37m\u001b[0m \u001b[1m1s\u001b[0m 3ms/step - loss: 5333982720.0000 - mae: 52524.0156 - val_loss: 3954446080.0000 - val_mae: 43601.4844\n",
            "Epoch 28/50\n",
            "\u001b[1m516/516\u001b[0m \u001b[32m━━━━━━━━━━━━━━━━━━━━\u001b[0m\u001b[37m\u001b[0m \u001b[1m1s\u001b[0m 3ms/step - loss: 5519048192.0000 - mae: 53567.7773 - val_loss: 4000507648.0000 - val_mae: 43572.6602\n",
            "Epoch 29/50\n",
            "\u001b[1m516/516\u001b[0m \u001b[32m━━━━━━━━━━━━━━━━━━━━\u001b[0m\u001b[37m\u001b[0m \u001b[1m3s\u001b[0m 3ms/step - loss: 5374617088.0000 - mae: 52551.4609 - val_loss: 4033379584.0000 - val_mae: 43674.8750\n",
            "Epoch 30/50\n",
            "\u001b[1m516/516\u001b[0m \u001b[32m━━━━━━━━━━━━━━━━━━━━\u001b[0m\u001b[37m\u001b[0m \u001b[1m1s\u001b[0m 3ms/step - loss: 5441100800.0000 - mae: 52862.1172 - val_loss: 3933967104.0000 - val_mae: 43398.1953\n",
            "Epoch 31/50\n",
            "\u001b[1m516/516\u001b[0m \u001b[32m━━━━━━━━━━━━━━━━━━━━\u001b[0m\u001b[37m\u001b[0m \u001b[1m1s\u001b[0m 3ms/step - loss: 5420412416.0000 - mae: 53233.5547 - val_loss: 3972873728.0000 - val_mae: 43488.9766\n",
            "Epoch 32/50\n",
            "\u001b[1m516/516\u001b[0m \u001b[32m━━━━━━━━━━━━━━━━━━━━\u001b[0m\u001b[37m\u001b[0m \u001b[1m1s\u001b[0m 3ms/step - loss: 5230984192.0000 - mae: 51863.8711 - val_loss: 3962232576.0000 - val_mae: 43377.5039\n",
            "Epoch 33/50\n",
            "\u001b[1m516/516\u001b[0m \u001b[32m━━━━━━━━━━━━━━━━━━━━\u001b[0m\u001b[37m\u001b[0m \u001b[1m1s\u001b[0m 3ms/step - loss: 5252214272.0000 - mae: 52104.0078 - val_loss: 3892749568.0000 - val_mae: 43206.0547\n",
            "Epoch 34/50\n",
            "\u001b[1m516/516\u001b[0m \u001b[32m━━━━━━━━━━━━━━━━━━━━\u001b[0m\u001b[37m\u001b[0m \u001b[1m1s\u001b[0m 3ms/step - loss: 5269055488.0000 - mae: 52472.0352 - val_loss: 3938499840.0000 - val_mae: 43223.7148\n",
            "Epoch 35/50\n",
            "\u001b[1m516/516\u001b[0m \u001b[32m━━━━━━━━━━━━━━━━━━━━\u001b[0m\u001b[37m\u001b[0m \u001b[1m1s\u001b[0m 3ms/step - loss: 5390363136.0000 - mae: 52255.8008 - val_loss: 3913526528.0000 - val_mae: 43104.0469\n",
            "Epoch 36/50\n",
            "\u001b[1m516/516\u001b[0m \u001b[32m━━━━━━━━━━━━━━━━━━━━\u001b[0m\u001b[37m\u001b[0m \u001b[1m1s\u001b[0m 3ms/step - loss: 5538217984.0000 - mae: 53189.4766 - val_loss: 3933972736.0000 - val_mae: 43129.4883\n",
            "Epoch 37/50\n",
            "\u001b[1m516/516\u001b[0m \u001b[32m━━━━━━━━━━━━━━━━━━━━\u001b[0m\u001b[37m\u001b[0m \u001b[1m2s\u001b[0m 3ms/step - loss: 5427223552.0000 - mae: 53175.2266 - val_loss: 3890147584.0000 - val_mae: 43087.5195\n",
            "Epoch 38/50\n",
            "\u001b[1m516/516\u001b[0m \u001b[32m━━━━━━━━━━━━━━━━━━━━\u001b[0m\u001b[37m\u001b[0m \u001b[1m2s\u001b[0m 3ms/step - loss: 5162103296.0000 - mae: 51736.0586 - val_loss: 3841787136.0000 - val_mae: 43057.2656\n",
            "Epoch 39/50\n",
            "\u001b[1m516/516\u001b[0m \u001b[32m━━━━━━━━━━━━━━━━━━━━\u001b[0m\u001b[37m\u001b[0m \u001b[1m2s\u001b[0m 3ms/step - loss: 5198183936.0000 - mae: 51701.8086 - val_loss: 3865022208.0000 - val_mae: 43029.0273\n",
            "Epoch 40/50\n",
            "\u001b[1m516/516\u001b[0m \u001b[32m━━━━━━━━━━━━━━━━━━━━\u001b[0m\u001b[37m\u001b[0m \u001b[1m2s\u001b[0m 3ms/step - loss: 5348534784.0000 - mae: 52406.6484 - val_loss: 3865519104.0000 - val_mae: 42922.9805\n",
            "Epoch 41/50\n",
            "\u001b[1m516/516\u001b[0m \u001b[32m━━━━━━━━━━━━━━━━━━━━\u001b[0m\u001b[37m\u001b[0m \u001b[1m2s\u001b[0m 3ms/step - loss: 5095776768.0000 - mae: 51585.4023 - val_loss: 3950729728.0000 - val_mae: 43131.1328\n",
            "Epoch 42/50\n",
            "\u001b[1m516/516\u001b[0m \u001b[32m━━━━━━━━━━━━━━━━━━━━\u001b[0m\u001b[37m\u001b[0m \u001b[1m1s\u001b[0m 3ms/step - loss: 5294599680.0000 - mae: 52071.1523 - val_loss: 3860054784.0000 - val_mae: 42714.0430\n",
            "Epoch 43/50\n",
            "\u001b[1m516/516\u001b[0m \u001b[32m━━━━━━━━━━━━━━━━━━━━\u001b[0m\u001b[37m\u001b[0m \u001b[1m2s\u001b[0m 4ms/step - loss: 5232967680.0000 - mae: 52473.0625 - val_loss: 3859747584.0000 - val_mae: 42719.8164\n"
          ]
        }
      ],
      "source": [
        "model = Sequential([\n",
        "    Dense(128, activation='relu', input_shape=(X_train.shape[1],)),\n",
        "    Dense(64, activation='relu'),\n",
        "    Dense(32, activation='relu'),\n",
        "    Dropout(0.3),\n",
        "    Dense(1)\n",
        "])\n",
        "\n",
        "model.compile(optimizer='adam', loss='mean_squared_error', metrics=['mae'])\n",
        "early = EarlyStopping(patience=5, restore_best_weights=True)\n",
        "history = model.fit(X_train, y_train, validation_data=(X_test, y_test), epochs=50, batch_size=32, callbacks=[early])"
      ]
    },
    {
      "cell_type": "code",
      "execution_count": 40,
      "id": "813376c2",
      "metadata": {},
      "outputs": [
        {
          "name": "stdout",
          "output_type": "stream",
          "text": [
            "MAE sekitar 20.87% dari rata-rata harga rumah.\n"
          ]
        }
      ],
      "source": [
        "val_mae = history.history['val_mae'][-1]\n",
        "mae_percent = (val_mae / y_test.mean()) * 100\n",
        "print(f\"MAE sekitar {mae_percent:.2f}% dari rata-rata harga rumah.\")"
      ]
    },
    {
      "cell_type": "code",
      "execution_count": 41,
      "id": "34896475",
      "metadata": {},
      "outputs": [
        {
          "data": {
            "image/png": "[encoded data removed]",
            "text/plain": [
              "<Figure size 1200x500 with 2 Axes>"
            ]
          },
          "metadata": {},
          "output_type": "display_data"
        }
      ],
      "source": [
        "# Plot Loss (MSE)\n",
        "plt.figure(figsize=(12, 5))\n",
        "\n",
        "plt.subplot(1, 2, 1)\n",
        "plt.plot(history.history['loss'], label='Train Loss (MSE)')\n",
        "plt.plot(history.history['val_loss'], label='Validation Loss (MSE)')\n",
        "plt.xlabel('Epoch')\n",
        "plt.ylabel('Loss')\n",
        "plt.title('Training vs Validation Loss')\n",
        "plt.legend()\n",
        "plt.grid(True)\n",
        "\n",
        "# Plot MAE\n",
        "plt.subplot(1, 2, 2)\n",
        "plt.plot(history.history['mae'], label='Train MAE')\n",
        "plt.plot(history.history['val_mae'], label='Validation MAE')\n",
        "plt.xlabel('Epoch')\n",
        "plt.ylabel('Mean Absolute Error')\n",
        "plt.title('Training vs Validation MAE')\n",
        "plt.legend()\n",
        "plt.grid(True)\n",
        "\n",
        "plt.tight_layout()\n",
        "plt.show()\n"
      ]
    },
    {
      "cell_type": "code",
      "execution_count": 42,
      "id": "83fd920f",
      "metadata": {
        "colab": {
          "base_uri": "https://localhost:8080/",
          "height": 211
        },
        "id": "83fd920f",
        "outputId": "1c260ab8-3cbc-4b4d-9d57-a4b5781c1c22"
      },
      "outputs": [
        {
          "name": "stdout",
          "output_type": "stream",
          "text": [
            "Epoch 1/50\n"
          ]
        },
        {
          "name": "stderr",
          "output_type": "stream",
          "text": [
            "d:\\ML\\ML-PredictNumerical\\.venv\\lib\\site-packages\\keras\\src\\layers\\convolutional\\base_conv.py:107: UserWarning: Do not pass an `input_shape`/`input_dim` argument to a layer. When using Sequential models, prefer using an `Input(shape)` object as the first layer in the model instead.\n",
            "  super().__init__(activity_regularizer=activity_regularizer, **kwargs)\n"
          ]
        },
        {
          "name": "stdout",
          "output_type": "stream",
          "text": [
            "\u001b[1m516/516\u001b[0m \u001b[32m━━━━━━━━━━━━━━━━━━━━\u001b[0m\u001b[37m\u001b[0m \u001b[1m5s\u001b[0m 6ms/step - loss: 52992372736.0000 - mae: 200617.9688 - val_loss: 19664707584.0000 - val_mae: 104097.6172\n",
            "Epoch 2/50\n",
            "\u001b[1m516/516\u001b[0m \u001b[32m━━━━━━━━━━━━━━━━━━━━\u001b[0m\u001b[37m\u001b[0m \u001b[1m3s\u001b[0m 5ms/step - loss: 15886158848.0000 - mae: 94453.3438 - val_loss: 10910953472.0000 - val_mae: 84624.4609\n",
            "Epoch 3/50\n",
            "\u001b[1m516/516\u001b[0m \u001b[32m━━━━━━━━━━━━━━━━━━━━\u001b[0m\u001b[37m\u001b[0m \u001b[1m3s\u001b[0m 5ms/step - loss: 10737836032.0000 - mae: 81145.5625 - val_loss: 10244913152.0000 - val_mae: 78095.2344\n",
            "Epoch 4/50\n",
            "\u001b[1m516/516\u001b[0m \u001b[32m━━━━━━━━━━━━━━━━━━━━\u001b[0m\u001b[37m\u001b[0m \u001b[1m2s\u001b[0m 4ms/step - loss: 10853158912.0000 - mae: 80865.1875 - val_loss: 10053977088.0000 - val_mae: 77656.4375\n",
            "Epoch 5/50\n",
            "\u001b[1m516/516\u001b[0m \u001b[32m━━━━━━━━━━━━━━━━━━━━\u001b[0m\u001b[37m\u001b[0m \u001b[1m3s\u001b[0m 5ms/step - loss: 10806898688.0000 - mae: 81080.3125 - val_loss: 9890958336.0000 - val_mae: 77228.1797\n",
            "Epoch 6/50\n",
            "\u001b[1m516/516\u001b[0m \u001b[32m━━━━━━━━━━━━━━━━━━━━\u001b[0m\u001b[37m\u001b[0m \u001b[1m2s\u001b[0m 4ms/step - loss: 10285296640.0000 - mae: 79169.5625 - val_loss: 9816283136.0000 - val_mae: 75871.7422\n",
            "Epoch 7/50\n",
            "\u001b[1m516/516\u001b[0m \u001b[32m━━━━━━━━━━━━━━━━━━━━\u001b[0m\u001b[37m\u001b[0m \u001b[1m2s\u001b[0m 4ms/step - loss: 10237545472.0000 - mae: 78876.7344 - val_loss: 9782596608.0000 - val_mae: 75527.2969\n",
            "Epoch 8/50\n",
            "\u001b[1m516/516\u001b[0m \u001b[32m━━━━━━━━━━━━━━━━━━━━\u001b[0m\u001b[37m\u001b[0m \u001b[1m2s\u001b[0m 4ms/step - loss: 10415447040.0000 - mae: 79567.9297 - val_loss: 9715983360.0000 - val_mae: 75688.3984\n",
            "Epoch 9/50\n",
            "\u001b[1m516/516\u001b[0m \u001b[32m━━━━━━━━━━━━━━━━━━━━\u001b[0m\u001b[37m\u001b[0m \u001b[1m2s\u001b[0m 4ms/step - loss: 10505594880.0000 - mae: 80057.8359 - val_loss: 9603156992.0000 - val_mae: 75516.6797\n",
            "Epoch 10/50\n",
            "\u001b[1m516/516\u001b[0m \u001b[32m━━━━━━━━━━━━━━━━━━━━\u001b[0m\u001b[37m\u001b[0m \u001b[1m2s\u001b[0m 4ms/step - loss: 10323262464.0000 - mae: 79793.8672 - val_loss: 9658038272.0000 - val_mae: 74488.1484\n",
            "Epoch 11/50\n",
            "\u001b[1m516/516\u001b[0m \u001b[32m━━━━━━━━━━━━━━━━━━━━\u001b[0m\u001b[37m\u001b[0m \u001b[1m2s\u001b[0m 4ms/step - loss: 10267067392.0000 - mae: 79071.3672 - val_loss: 9575872512.0000 - val_mae: 75277.6016\n",
            "Epoch 12/50\n",
            "\u001b[1m516/516\u001b[0m \u001b[32m━━━━━━━━━━━━━━━━━━━━\u001b[0m\u001b[37m\u001b[0m \u001b[1m2s\u001b[0m 4ms/step - loss: 10186216448.0000 - mae: 78822.2109 - val_loss: 9633361920.0000 - val_mae: 76026.7188\n",
            "Epoch 13/50\n",
            "\u001b[1m516/516\u001b[0m \u001b[32m━━━━━━━━━━━━━━━━━━━━\u001b[0m\u001b[37m\u001b[0m \u001b[1m2s\u001b[0m 4ms/step - loss: 10484015104.0000 - mae: 79707.3906 - val_loss: 9466041344.0000 - val_mae: 74761.7266\n",
            "Epoch 14/50\n",
            "\u001b[1m516/516\u001b[0m \u001b[32m━━━━━━━━━━━━━━━━━━━━\u001b[0m\u001b[37m\u001b[0m \u001b[1m2s\u001b[0m 4ms/step - loss: 10055975936.0000 - mae: 78208.8828 - val_loss: 9453406208.0000 - val_mae: 73974.0938\n",
            "Epoch 15/50\n",
            "\u001b[1m516/516\u001b[0m \u001b[32m━━━━━━━━━━━━━━━━━━━━\u001b[0m\u001b[37m\u001b[0m \u001b[1m2s\u001b[0m 4ms/step - loss: 10170783744.0000 - mae: 78334.7188 - val_loss: 9481189376.0000 - val_mae: 73888.4141\n",
            "Epoch 16/50\n",
            "\u001b[1m516/516\u001b[0m \u001b[32m━━━━━━━━━━━━━━━━━━━━\u001b[0m\u001b[37m\u001b[0m \u001b[1m2s\u001b[0m 4ms/step - loss: 10080846848.0000 - mae: 78206.1562 - val_loss: 9366705152.0000 - val_mae: 74213.2891\n",
            "Epoch 17/50\n",
            "\u001b[1m516/516\u001b[0m \u001b[32m━━━━━━━━━━━━━━━━━━━━\u001b[0m\u001b[37m\u001b[0m \u001b[1m2s\u001b[0m 4ms/step - loss: 9958871040.0000 - mae: 77788.0078 - val_loss: 9425719296.0000 - val_mae: 73812.0391\n",
            "Epoch 18/50\n",
            "\u001b[1m516/516\u001b[0m \u001b[32m━━━━━━━━━━━━━━━━━━━━\u001b[0m\u001b[37m\u001b[0m \u001b[1m2s\u001b[0m 4ms/step - loss: 9713460224.0000 - mae: 76344.8203 - val_loss: 9420016640.0000 - val_mae: 73310.3125\n",
            "Epoch 19/50\n",
            "\u001b[1m516/516\u001b[0m \u001b[32m━━━━━━━━━━━━━━━━━━━━\u001b[0m\u001b[37m\u001b[0m \u001b[1m2s\u001b[0m 4ms/step - loss: 9985466368.0000 - mae: 77627.8125 - val_loss: 9392473088.0000 - val_mae: 75537.4453\n",
            "Epoch 20/50\n",
            "\u001b[1m516/516\u001b[0m \u001b[32m━━━━━━━━━━━━━━━━━━━━\u001b[0m\u001b[37m\u001b[0m \u001b[1m2s\u001b[0m 4ms/step - loss: 9945375744.0000 - mae: 77410.6484 - val_loss: 9412772864.0000 - val_mae: 73079.1094\n",
            "Epoch 21/50\n",
            "\u001b[1m516/516\u001b[0m \u001b[32m━━━━━━━━━━━━━━━━━━━━\u001b[0m\u001b[37m\u001b[0m \u001b[1m2s\u001b[0m 4ms/step - loss: 9749752832.0000 - mae: 76629.9219 - val_loss: 9352707072.0000 - val_mae: 74023.1719\n",
            "Epoch 22/50\n",
            "\u001b[1m516/516\u001b[0m \u001b[32m━━━━━━━━━━━━━━━━━━━━\u001b[0m\u001b[37m\u001b[0m \u001b[1m2s\u001b[0m 4ms/step - loss: 10256930816.0000 - mae: 78759.3203 - val_loss: 9433610240.0000 - val_mae: 72955.4844\n",
            "Epoch 23/50\n",
            "\u001b[1m516/516\u001b[0m \u001b[32m━━━━━━━━━━━━━━━━━━━━\u001b[0m\u001b[37m\u001b[0m \u001b[1m2s\u001b[0m 4ms/step - loss: 9628085248.0000 - mae: 76218.1484 - val_loss: 9372717056.0000 - val_mae: 72990.8750\n",
            "Epoch 24/50\n",
            "\u001b[1m516/516\u001b[0m \u001b[32m━━━━━━━━━━━━━━━━━━━━\u001b[0m\u001b[37m\u001b[0m \u001b[1m2s\u001b[0m 4ms/step - loss: 9866759168.0000 - mae: 77152.7500 - val_loss: 9381191680.0000 - val_mae: 73653.4453\n",
            "Epoch 25/50\n",
            "\u001b[1m516/516\u001b[0m \u001b[32m━━━━━━━━━━━━━━━━━━━━\u001b[0m\u001b[37m\u001b[0m \u001b[1m2s\u001b[0m 4ms/step - loss: 9612668928.0000 - mae: 76340.9531 - val_loss: 9463150592.0000 - val_mae: 74256.9688\n",
            "Epoch 26/50\n",
            "\u001b[1m516/516\u001b[0m \u001b[32m━━━━━━━━━━━━━━━━━━━━\u001b[0m\u001b[37m\u001b[0m \u001b[1m2s\u001b[0m 4ms/step - loss: 9791200256.0000 - mae: 76843.5781 - val_loss: 9510361088.0000 - val_mae: 74251.4297\n"
          ]
        }
      ],
      "source": [
        "X_train_cnn = X_train.reshape(X_train.shape[0], X_train.shape[1], 1)\n",
        "X_test_cnn = X_test.reshape(X_test.shape[0], X_test.shape[1], 1)\n",
        "\n",
        "cnn_model = Sequential([\n",
        "    Conv1D(64, kernel_size=2, activation='relu', padding='same', input_shape=(X_train.shape[1], 1)),\n",
        "    MaxPooling1D(pool_size=2),\n",
        "    BatchNormalization(),\n",
        "    Conv1D(32, kernel_size=2, activation='relu', padding='same'),\n",
        "    GlobalAveragePooling1D(),\n",
        "    Dense(64, activation='relu'),\n",
        "    Dropout(0.3),\n",
        "    Dense(1)\n",
        "])\n",
        "\n",
        "cnn_model.compile(optimizer='adam', loss='mean_squared_error', metrics=['mae'])\n",
        "early = EarlyStopping(patience=5, restore_best_weights=True)\n",
        "history_cnn = cnn_model.fit(X_train_cnn, y_train, epochs=50, validation_data=(X_test_cnn, y_test), batch_size=32, verbose=1, callbacks=[early])\n"
      ]
    },
    {
      "cell_type": "code",
      "execution_count": 43,
      "id": "69a1a598",
      "metadata": {},
      "outputs": [
        {
          "name": "stdout",
          "output_type": "stream",
          "text": [
            "MAE sekitar 36.27% dari rata-rata harga rumah.\n"
          ]
        }
      ],
      "source": [
        "val_mae = history_cnn.history['val_mae'][-1]\n",
        "mae_percent = (val_mae / y_test.mean()) * 100\n",
        "print(f\"MAE sekitar {mae_percent:.2f}% dari rata-rata harga rumah.\")"
      ]
    },
    {
      "cell_type": "code",
      "execution_count": 44,
      "id": "40305801",
      "metadata": {},
      "outputs": [
        {
          "ename": "AttributeError",
          "evalue": "'History' object has no attribute 'history_cnn'",
          "output_type": "error",
          "traceback": [
            "\u001b[1;31m---------------------------------------------------------------------------\u001b[0m",
            "\u001b[1;31mAttributeError\u001b[0m                            Traceback (most recent call last)",
            "Cell \u001b[1;32mIn[44], line 5\u001b[0m\n\u001b[0;32m      2\u001b[0m plt\u001b[38;5;241m.\u001b[39mfigure(figsize\u001b[38;5;241m=\u001b[39m(\u001b[38;5;241m12\u001b[39m, \u001b[38;5;241m5\u001b[39m))\n\u001b[0;32m      4\u001b[0m plt\u001b[38;5;241m.\u001b[39msubplot(\u001b[38;5;241m1\u001b[39m, \u001b[38;5;241m2\u001b[39m, \u001b[38;5;241m1\u001b[39m)\n\u001b[1;32m----> 5\u001b[0m plt\u001b[38;5;241m.\u001b[39mplot(\u001b[43mhistory\u001b[49m\u001b[38;5;241;43m.\u001b[39;49m\u001b[43mhistory_cnn\u001b[49m[\u001b[38;5;124m'\u001b[39m\u001b[38;5;124mloss\u001b[39m\u001b[38;5;124m'\u001b[39m], label\u001b[38;5;241m=\u001b[39m\u001b[38;5;124m'\u001b[39m\u001b[38;5;124mTrain Loss (MSE)\u001b[39m\u001b[38;5;124m'\u001b[39m)\n\u001b[0;32m      6\u001b[0m plt\u001b[38;5;241m.\u001b[39mplot(history\u001b[38;5;241m.\u001b[39mhistory_cnn[\u001b[38;5;124m'\u001b[39m\u001b[38;5;124mval_loss\u001b[39m\u001b[38;5;124m'\u001b[39m], label\u001b[38;5;241m=\u001b[39m\u001b[38;5;124m'\u001b[39m\u001b[38;5;124mValidation Loss (MSE)\u001b[39m\u001b[38;5;124m'\u001b[39m)\n\u001b[0;32m      7\u001b[0m plt\u001b[38;5;241m.\u001b[39mxlabel(\u001b[38;5;124m'\u001b[39m\u001b[38;5;124mEpoch\u001b[39m\u001b[38;5;124m'\u001b[39m)\n",
            "\u001b[1;31mAttributeError\u001b[0m: 'History' object has no attribute 'history_cnn'"
          ]
        },
        {
          "data": {
            "image/png": "[encoded data removed]",
            "text/plain": [
              "<Figure size 1200x500 with 1 Axes>"
            ]
          },
          "metadata": {},
          "output_type": "display_data"
        }
      ],
      "source": [
        "# Plot Loss (MSE)\n",
        "plt.figure(figsize=(12, 5))\n",
        "\n",
        "plt.subplot(1, 2, 1)\n",
        "plt.plot(history.history_cnn['loss'], label='Train Loss (MSE)')\n",
        "plt.plot(history.history_cnn['val_loss'], label='Validation Loss (MSE)')\n",
        "plt.xlabel('Epoch')\n",
        "plt.ylabel('Loss')\n",
        "plt.title('Training vs Validation Loss')\n",
        "plt.legend()\n",
        "plt.grid(True)\n",
        "\n",
        "# Plot MAE\n",
        "plt.subplot(1, 2, 2)\n",
        "plt.plot(history.history_cnn['mae'], label='Train MAE')\n",
        "plt.plot(history.history_cnn['val_mae'], label='Validation MAE')\n",
        "plt.xlabel('Epoch')\n",
        "plt.ylabel('Mean Absolute Error')\n",
        "plt.title('Training vs Validation MAE')\n",
        "plt.legend()\n",
        "plt.grid(True)\n",
        "\n",
        "plt.tight_layout()\n",
        "plt.show()\n"
      ]
    },
    {
      "cell_type": "markdown",
      "id": "7b60c7ec",
      "metadata": {
        "id": "7b60c7ec"
      },
      "source": [
        "## Predict"
      ]
    },
    {
      "cell_type": "code",
      "execution_count": null,
      "id": "e0c5a956",
      "metadata": {},
      "outputs": [
        {
          "name": "stdout",
          "output_type": "stream",
          "text": [
            "\u001b[1m1/1\u001b[0m \u001b[32m━━━━━━━━━━━━━━━━━━━━\u001b[0m\u001b[37m\u001b[0m \u001b[1m0s\u001b[0m 124ms/step\n",
            "Prediksi harga rumah: $268,015.88\n"
          ]
        }
      ],
      "source": [
        "data_baru = {\n",
        "    'longitude': -122.23,\n",
        "    'latitude': 40.88,\n",
        "    'housing_median_age': 41.0,\n",
        "    'total_rooms': 882.0,\n",
        "    'total_bedrooms': 129.0,\n",
        "    'population': 352.0,\n",
        "    'households': 136.0,\n",
        "    'median_income': 8.3252,\n",
        "    'ocean_proximity': 'NEAR BAY'\n",
        "}\n",
        "data_baru_df = pd.DataFrame([data_baru])\n",
        "\n",
        "encoded_baru = ohe.transform(data_baru_df[[\"ocean_proximity\"]])\n",
        "encoded_baru_df = pd.DataFrame(encoded_baru, columns=ohe.get_feature_names_out([\"ocean_proximity\"]))\n",
        "\n",
        "# 4. Gabungkan semua fitur\n",
        "data_baru_numeric = data_baru_df.drop(\"ocean_proximity\", axis=1)\n",
        "data_baru_final = pd.concat([data_baru_numeric, encoded_baru_df], axis=1)\n",
        "\n",
        "# 5. Standarisasi fitur numerik\n",
        "data_baru_scaled = scaler.transform(data_baru_final)\n",
        "\n",
        "# 6. Prediksi harga\n",
        "prediksi_harga = cnn_model.predict(data_baru_scaled)\n",
        "print(f\"Prediksi harga rumah: ${prediksi_harga[0][0]:,.2f}\")"
      ]
    },
    {
      "cell_type": "code",
      "execution_count": null,
      "id": "729a9e54",
      "metadata": {},
      "outputs": [],
      "source": []
    }
  ],
  "metadata": {
    "colab": {
      "provenance": []
    },
    "kernelspec": {
      "display_name": ".venv",
      "language": "python",
      "name": "python3"
    },
    "language_info": {
      "codemirror_mode": {
        "name": "ipython",
        "version": 3
      },
      "file_extension": ".py",
      "mimetype": "text/x-python",
      "name": "python",
      "nbconvert_exporter": "python",
      "pygments_lexer": "ipython3",
      "version": "3.10.0"
    }
  },
  "nbformat": 4,
  "nbformat_minor": 5
}
