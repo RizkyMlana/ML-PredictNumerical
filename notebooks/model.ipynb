{
  "cells": [
    {
      "cell_type": "markdown",
      "id": "21adf398",
      "metadata": {
        "id": "21adf398"
      },
      "source": [
        "# **Predict Stroke**"
      ]
    },
    {
      "cell_type": "markdown",
      "id": "64df329e",
      "metadata": {
        "id": "64df329e"
      },
      "source": [
        "- Import Library"
      ]
    },
    {
      "cell_type": "code",
      "execution_count": 52,
      "id": "fb8cd3a6",
      "metadata": {
        "id": "fb8cd3a6"
      },
      "outputs": [],
      "source": [
        "import pandas as pd\n",
        "import numpy as np\n",
        "import tensorflow as tf\n",
        "import matplotlib.pyplot as plt\n",
        "from sklearn.model_selection import train_test_split\n",
        "from sklearn.preprocessing import StandardScaler\n",
        "from sklearn.metrics import mean_absolute_error, mean_squared_error, r2_score\n",
        "from tensorflow.keras.models import Sequential\n",
        "from tensorflow.keras.layers import Dense, Conv1D, MaxPooling1D, GlobalAveragePooling1D, Dropout, BatchNormalization\n",
        "from tensorflow.keras.callbacks import EarlyStopping\n",
        "from scipy.stats import skew\n",
        "from sklearn.preprocessing import OneHotEncoder\n",
        "from sklearn.model_selection import train_test_split"
      ]
    },
    {
      "cell_type": "markdown",
      "id": "da69341e",
      "metadata": {
        "id": "da69341e"
      },
      "source": [
        "- Load Data"
      ]
    },
    {
      "cell_type": "code",
      "execution_count": 53,
      "id": "22602dc2",
      "metadata": {
        "id": "22602dc2"
      },
      "outputs": [],
      "source": [
        "df = pd.read_csv('../dataset/housing.csv')"
      ]
    },
    {
      "cell_type": "code",
      "execution_count": 54,
      "id": "a351de0e",
      "metadata": {
        "colab": {
          "base_uri": "https://localhost:8080/",
          "height": 206
        },
        "id": "a351de0e",
        "outputId": "46fc7e70-1e9b-4483-d153-d5e5f657b3c5"
      },
      "outputs": [
        {
          "data": {
            "application/vnd.microsoft.datawrangler.viewer.v0+json": {
              "columns": [
                {
                  "name": "index",
                  "rawType": "int64",
                  "type": "integer"
                },
                {
                  "name": "longitude",
                  "rawType": "float64",
                  "type": "float"
                },
                {
                  "name": "latitude",
                  "rawType": "float64",
                  "type": "float"
                },
                {
                  "name": "housing_median_age",
                  "rawType": "float64",
                  "type": "float"
                },
                {
                  "name": "total_rooms",
                  "rawType": "float64",
                  "type": "float"
                },
                {
                  "name": "total_bedrooms",
                  "rawType": "float64",
                  "type": "float"
                },
                {
                  "name": "population",
                  "rawType": "float64",
                  "type": "float"
                },
                {
                  "name": "households",
                  "rawType": "float64",
                  "type": "float"
                },
                {
                  "name": "median_income",
                  "rawType": "float64",
                  "type": "float"
                },
                {
                  "name": "median_house_value",
                  "rawType": "float64",
                  "type": "float"
                },
                {
                  "name": "ocean_proximity",
                  "rawType": "object",
                  "type": "string"
                }
              ],
              "conversionMethod": "pd.DataFrame",
              "ref": "134e3ede-14fe-4d35-96b9-fc6cf3677f71",
              "rows": [
                [
                  "0",
                  "-122.23",
                  "37.88",
                  "41.0",
                  "880.0",
                  "129.0",
                  "322.0",
                  "126.0",
                  "8.3252",
                  "452600.0",
                  "NEAR BAY"
                ],
                [
                  "1",
                  "-122.22",
                  "37.86",
                  "21.0",
                  "7099.0",
                  "1106.0",
                  "2401.0",
                  "1138.0",
                  "8.3014",
                  "358500.0",
                  "NEAR BAY"
                ],
                [
                  "2",
                  "-122.24",
                  "37.85",
                  "52.0",
                  "1467.0",
                  "190.0",
                  "496.0",
                  "177.0",
                  "7.2574",
                  "352100.0",
                  "NEAR BAY"
                ],
                [
                  "3",
                  "-122.25",
                  "37.85",
                  "52.0",
                  "1274.0",
                  "235.0",
                  "558.0",
                  "219.0",
                  "5.6431",
                  "341300.0",
                  "NEAR BAY"
                ],
                [
                  "4",
                  "-122.25",
                  "37.85",
                  "52.0",
                  "1627.0",
                  "280.0",
                  "565.0",
                  "259.0",
                  "3.8462",
                  "342200.0",
                  "NEAR BAY"
                ]
              ],
              "shape": {
                "columns": 10,
                "rows": 5
              }
            },
            "text/html": [
              "<div>\n",
              "<style scoped>\n",
              "    .dataframe tbody tr th:only-of-type {\n",
              "        vertical-align: middle;\n",
              "    }\n",
              "\n",
              "    .dataframe tbody tr th {\n",
              "        vertical-align: top;\n",
              "    }\n",
              "\n",
              "    .dataframe thead th {\n",
              "        text-align: right;\n",
              "    }\n",
              "</style>\n",
              "<table border=\"1\" class=\"dataframe\">\n",
              "  <thead>\n",
              "    <tr style=\"text-align: right;\">\n",
              "      <th></th>\n",
              "      <th>longitude</th>\n",
              "      <th>latitude</th>\n",
              "      <th>housing_median_age</th>\n",
              "      <th>total_rooms</th>\n",
              "      <th>total_bedrooms</th>\n",
              "      <th>population</th>\n",
              "      <th>households</th>\n",
              "      <th>median_income</th>\n",
              "      <th>median_house_value</th>\n",
              "      <th>ocean_proximity</th>\n",
              "    </tr>\n",
              "  </thead>\n",
              "  <tbody>\n",
              "    <tr>\n",
              "      <th>0</th>\n",
              "      <td>-122.23</td>\n",
              "      <td>37.88</td>\n",
              "      <td>41.0</td>\n",
              "      <td>880.0</td>\n",
              "      <td>129.0</td>\n",
              "      <td>322.0</td>\n",
              "      <td>126.0</td>\n",
              "      <td>8.3252</td>\n",
              "      <td>452600.0</td>\n",
              "      <td>NEAR BAY</td>\n",
              "    </tr>\n",
              "    <tr>\n",
              "      <th>1</th>\n",
              "      <td>-122.22</td>\n",
              "      <td>37.86</td>\n",
              "      <td>21.0</td>\n",
              "      <td>7099.0</td>\n",
              "      <td>1106.0</td>\n",
              "      <td>2401.0</td>\n",
              "      <td>1138.0</td>\n",
              "      <td>8.3014</td>\n",
              "      <td>358500.0</td>\n",
              "      <td>NEAR BAY</td>\n",
              "    </tr>\n",
              "    <tr>\n",
              "      <th>2</th>\n",
              "      <td>-122.24</td>\n",
              "      <td>37.85</td>\n",
              "      <td>52.0</td>\n",
              "      <td>1467.0</td>\n",
              "      <td>190.0</td>\n",
              "      <td>496.0</td>\n",
              "      <td>177.0</td>\n",
              "      <td>7.2574</td>\n",
              "      <td>352100.0</td>\n",
              "      <td>NEAR BAY</td>\n",
              "    </tr>\n",
              "    <tr>\n",
              "      <th>3</th>\n",
              "      <td>-122.25</td>\n",
              "      <td>37.85</td>\n",
              "      <td>52.0</td>\n",
              "      <td>1274.0</td>\n",
              "      <td>235.0</td>\n",
              "      <td>558.0</td>\n",
              "      <td>219.0</td>\n",
              "      <td>5.6431</td>\n",
              "      <td>341300.0</td>\n",
              "      <td>NEAR BAY</td>\n",
              "    </tr>\n",
              "    <tr>\n",
              "      <th>4</th>\n",
              "      <td>-122.25</td>\n",
              "      <td>37.85</td>\n",
              "      <td>52.0</td>\n",
              "      <td>1627.0</td>\n",
              "      <td>280.0</td>\n",
              "      <td>565.0</td>\n",
              "      <td>259.0</td>\n",
              "      <td>3.8462</td>\n",
              "      <td>342200.0</td>\n",
              "      <td>NEAR BAY</td>\n",
              "    </tr>\n",
              "  </tbody>\n",
              "</table>\n",
              "</div>"
            ],
            "text/plain": [
              "   longitude  latitude  housing_median_age  total_rooms  total_bedrooms  \\\n",
              "0    -122.23     37.88                41.0        880.0           129.0   \n",
              "1    -122.22     37.86                21.0       7099.0          1106.0   \n",
              "2    -122.24     37.85                52.0       1467.0           190.0   \n",
              "3    -122.25     37.85                52.0       1274.0           235.0   \n",
              "4    -122.25     37.85                52.0       1627.0           280.0   \n",
              "\n",
              "   population  households  median_income  median_house_value ocean_proximity  \n",
              "0       322.0       126.0         8.3252            452600.0        NEAR BAY  \n",
              "1      2401.0      1138.0         8.3014            358500.0        NEAR BAY  \n",
              "2       496.0       177.0         7.2574            352100.0        NEAR BAY  \n",
              "3       558.0       219.0         5.6431            341300.0        NEAR BAY  \n",
              "4       565.0       259.0         3.8462            342200.0        NEAR BAY  "
            ]
          },
          "execution_count": 54,
          "metadata": {},
          "output_type": "execute_result"
        }
      ],
      "source": [
        "df.head()"
      ]
    },
    {
      "cell_type": "markdown",
      "id": "40103346",
      "metadata": {
        "id": "40103346"
      },
      "source": [
        "## Data Preprocessing"
      ]
    },
    {
      "cell_type": "markdown",
      "id": "f4b4e028",
      "metadata": {
        "id": "f4b4e028"
      },
      "source": [
        "- Handling Missing & Duplicated Values"
      ]
    },
    {
      "cell_type": "code",
      "execution_count": 55,
      "id": "1c7977ed",
      "metadata": {
        "colab": {
          "base_uri": "https://localhost:8080/"
        },
        "id": "1c7977ed",
        "outputId": "911ff2d4-fc52-4a33-9e56-661d88d8143c"
      },
      "outputs": [
        {
          "data": {
            "text/plain": [
              "np.int64(0)"
            ]
          },
          "execution_count": 55,
          "metadata": {},
          "output_type": "execute_result"
        }
      ],
      "source": [
        "df.duplicated().sum()"
      ]
    },
    {
      "cell_type": "code",
      "execution_count": 56,
      "id": "R6pP_ldu8GIy",
      "metadata": {
        "colab": {
          "base_uri": "https://localhost:8080/"
        },
        "id": "R6pP_ldu8GIy",
        "outputId": "75fb2069-4681-4508-80c4-1007beb5eda3"
      },
      "outputs": [
        {
          "name": "stdout",
          "output_type": "stream",
          "text": [
            "<class 'pandas.core.frame.DataFrame'>\n",
            "RangeIndex: 20640 entries, 0 to 20639\n",
            "Data columns (total 10 columns):\n",
            " #   Column              Non-Null Count  Dtype  \n",
            "---  ------              --------------  -----  \n",
            " 0   longitude           20640 non-null  float64\n",
            " 1   latitude            20640 non-null  float64\n",
            " 2   housing_median_age  20640 non-null  float64\n",
            " 3   total_rooms         20640 non-null  float64\n",
            " 4   total_bedrooms      20433 non-null  float64\n",
            " 5   population          20640 non-null  float64\n",
            " 6   households          20640 non-null  float64\n",
            " 7   median_income       20640 non-null  float64\n",
            " 8   median_house_value  20640 non-null  float64\n",
            " 9   ocean_proximity     20640 non-null  object \n",
            "dtypes: float64(9), object(1)\n",
            "memory usage: 1.6+ MB\n"
          ]
        }
      ],
      "source": [
        "df.info()"
      ]
    },
    {
      "cell_type": "code",
      "execution_count": 57,
      "id": "25904148",
      "metadata": {
        "colab": {
          "base_uri": "https://localhost:8080/",
          "height": 398
        },
        "id": "25904148",
        "outputId": "3f149fce-beb5-43f8-d97c-3c1816307fb2"
      },
      "outputs": [
        {
          "data": {
            "text/plain": [
              "longitude               0\n",
              "latitude                0\n",
              "housing_median_age      0\n",
              "total_rooms             0\n",
              "total_bedrooms        207\n",
              "population              0\n",
              "households              0\n",
              "median_income           0\n",
              "median_house_value      0\n",
              "ocean_proximity         0\n",
              "dtype: int64"
            ]
          },
          "execution_count": 57,
          "metadata": {},
          "output_type": "execute_result"
        }
      ],
      "source": [
        "df.isna().sum()"
      ]
    },
    {
      "cell_type": "code",
      "execution_count": 58,
      "id": "9fd2e102",
      "metadata": {},
      "outputs": [
        {
          "data": {
            "text/plain": [
              "longitude               0\n",
              "latitude                0\n",
              "housing_median_age      0\n",
              "total_rooms             0\n",
              "total_bedrooms        207\n",
              "population              0\n",
              "households              0\n",
              "median_income           0\n",
              "median_house_value      0\n",
              "ocean_proximity         0\n",
              "dtype: int64"
            ]
          },
          "execution_count": 58,
          "metadata": {},
          "output_type": "execute_result"
        }
      ],
      "source": [
        "df.isna().sum()"
      ]
    },
    {
      "cell_type": "code",
      "execution_count": 59,
      "id": "ad821367",
      "metadata": {
        "colab": {
          "base_uri": "https://localhost:8080/",
          "height": 300
        },
        "id": "ad821367",
        "outputId": "70881007-5308-459e-f3fd-444e8e3b14df"
      },
      "outputs": [
        {
          "data": {
            "application/vnd.microsoft.datawrangler.viewer.v0+json": {
              "columns": [
                {
                  "name": "index",
                  "rawType": "object",
                  "type": "string"
                },
                {
                  "name": "longitude",
                  "rawType": "float64",
                  "type": "float"
                },
                {
                  "name": "latitude",
                  "rawType": "float64",
                  "type": "float"
                },
                {
                  "name": "housing_median_age",
                  "rawType": "float64",
                  "type": "float"
                },
                {
                  "name": "total_rooms",
                  "rawType": "float64",
                  "type": "float"
                },
                {
                  "name": "total_bedrooms",
                  "rawType": "float64",
                  "type": "float"
                },
                {
                  "name": "population",
                  "rawType": "float64",
                  "type": "float"
                },
                {
                  "name": "households",
                  "rawType": "float64",
                  "type": "float"
                },
                {
                  "name": "median_income",
                  "rawType": "float64",
                  "type": "float"
                },
                {
                  "name": "median_house_value",
                  "rawType": "float64",
                  "type": "float"
                }
              ],
              "conversionMethod": "pd.DataFrame",
              "ref": "6bdbbd4e-ba60-4d30-ac76-2f48ff866dea",
              "rows": [
                [
                  "count",
                  "20640.0",
                  "20640.0",
                  "20640.0",
                  "20640.0",
                  "20433.0",
                  "20640.0",
                  "20640.0",
                  "20640.0",
                  "20640.0"
                ],
                [
                  "mean",
                  "-119.56970445736432",
                  "35.63186143410853",
                  "28.639486434108527",
                  "2635.7630813953488",
                  "537.8705525375618",
                  "1425.4767441860465",
                  "499.5396802325581",
                  "3.8706710029069766",
                  "206855.81690891474"
                ],
                [
                  "std",
                  "2.0035317235025882",
                  "2.1359523974571153",
                  "12.58555761211165",
                  "2181.615251582795",
                  "421.3850700740323",
                  "1132.462121765341",
                  "382.32975283161073",
                  "1.8998217179452688",
                  "115395.61587441387"
                ],
                [
                  "min",
                  "-124.35",
                  "32.54",
                  "1.0",
                  "2.0",
                  "1.0",
                  "3.0",
                  "1.0",
                  "0.4999",
                  "14999.0"
                ],
                [
                  "25%",
                  "-121.8",
                  "33.93",
                  "18.0",
                  "1447.75",
                  "296.0",
                  "787.0",
                  "280.0",
                  "2.5633999999999997",
                  "119600.0"
                ],
                [
                  "50%",
                  "-118.49",
                  "34.26",
                  "29.0",
                  "2127.0",
                  "435.0",
                  "1166.0",
                  "409.0",
                  "3.5347999999999997",
                  "179700.0"
                ],
                [
                  "75%",
                  "-118.01",
                  "37.71",
                  "37.0",
                  "3148.0",
                  "647.0",
                  "1725.0",
                  "605.0",
                  "4.74325",
                  "264725.0"
                ],
                [
                  "max",
                  "-114.31",
                  "41.95",
                  "52.0",
                  "39320.0",
                  "6445.0",
                  "35682.0",
                  "6082.0",
                  "15.0001",
                  "500001.0"
                ]
              ],
              "shape": {
                "columns": 9,
                "rows": 8
              }
            },
            "text/html": [
              "<div>\n",
              "<style scoped>\n",
              "    .dataframe tbody tr th:only-of-type {\n",
              "        vertical-align: middle;\n",
              "    }\n",
              "\n",
              "    .dataframe tbody tr th {\n",
              "        vertical-align: top;\n",
              "    }\n",
              "\n",
              "    .dataframe thead th {\n",
              "        text-align: right;\n",
              "    }\n",
              "</style>\n",
              "<table border=\"1\" class=\"dataframe\">\n",
              "  <thead>\n",
              "    <tr style=\"text-align: right;\">\n",
              "      <th></th>\n",
              "      <th>longitude</th>\n",
              "      <th>latitude</th>\n",
              "      <th>housing_median_age</th>\n",
              "      <th>total_rooms</th>\n",
              "      <th>total_bedrooms</th>\n",
              "      <th>population</th>\n",
              "      <th>households</th>\n",
              "      <th>median_income</th>\n",
              "      <th>median_house_value</th>\n",
              "    </tr>\n",
              "  </thead>\n",
              "  <tbody>\n",
              "    <tr>\n",
              "      <th>count</th>\n",
              "      <td>20640.000000</td>\n",
              "      <td>20640.000000</td>\n",
              "      <td>20640.000000</td>\n",
              "      <td>20640.000000</td>\n",
              "      <td>20433.000000</td>\n",
              "      <td>20640.000000</td>\n",
              "      <td>20640.000000</td>\n",
              "      <td>20640.000000</td>\n",
              "      <td>20640.000000</td>\n",
              "    </tr>\n",
              "    <tr>\n",
              "      <th>mean</th>\n",
              "      <td>-119.569704</td>\n",
              "      <td>35.631861</td>\n",
              "      <td>28.639486</td>\n",
              "      <td>2635.763081</td>\n",
              "      <td>537.870553</td>\n",
              "      <td>1425.476744</td>\n",
              "      <td>499.539680</td>\n",
              "      <td>3.870671</td>\n",
              "      <td>206855.816909</td>\n",
              "    </tr>\n",
              "    <tr>\n",
              "      <th>std</th>\n",
              "      <td>2.003532</td>\n",
              "      <td>2.135952</td>\n",
              "      <td>12.585558</td>\n",
              "      <td>2181.615252</td>\n",
              "      <td>421.385070</td>\n",
              "      <td>1132.462122</td>\n",
              "      <td>382.329753</td>\n",
              "      <td>1.899822</td>\n",
              "      <td>115395.615874</td>\n",
              "    </tr>\n",
              "    <tr>\n",
              "      <th>min</th>\n",
              "      <td>-124.350000</td>\n",
              "      <td>32.540000</td>\n",
              "      <td>1.000000</td>\n",
              "      <td>2.000000</td>\n",
              "      <td>1.000000</td>\n",
              "      <td>3.000000</td>\n",
              "      <td>1.000000</td>\n",
              "      <td>0.499900</td>\n",
              "      <td>14999.000000</td>\n",
              "    </tr>\n",
              "    <tr>\n",
              "      <th>25%</th>\n",
              "      <td>-121.800000</td>\n",
              "      <td>33.930000</td>\n",
              "      <td>18.000000</td>\n",
              "      <td>1447.750000</td>\n",
              "      <td>296.000000</td>\n",
              "      <td>787.000000</td>\n",
              "      <td>280.000000</td>\n",
              "      <td>2.563400</td>\n",
              "      <td>119600.000000</td>\n",
              "    </tr>\n",
              "    <tr>\n",
              "      <th>50%</th>\n",
              "      <td>-118.490000</td>\n",
              "      <td>34.260000</td>\n",
              "      <td>29.000000</td>\n",
              "      <td>2127.000000</td>\n",
              "      <td>435.000000</td>\n",
              "      <td>1166.000000</td>\n",
              "      <td>409.000000</td>\n",
              "      <td>3.534800</td>\n",
              "      <td>179700.000000</td>\n",
              "    </tr>\n",
              "    <tr>\n",
              "      <th>75%</th>\n",
              "      <td>-118.010000</td>\n",
              "      <td>37.710000</td>\n",
              "      <td>37.000000</td>\n",
              "      <td>3148.000000</td>\n",
              "      <td>647.000000</td>\n",
              "      <td>1725.000000</td>\n",
              "      <td>605.000000</td>\n",
              "      <td>4.743250</td>\n",
              "      <td>264725.000000</td>\n",
              "    </tr>\n",
              "    <tr>\n",
              "      <th>max</th>\n",
              "      <td>-114.310000</td>\n",
              "      <td>41.950000</td>\n",
              "      <td>52.000000</td>\n",
              "      <td>39320.000000</td>\n",
              "      <td>6445.000000</td>\n",
              "      <td>35682.000000</td>\n",
              "      <td>6082.000000</td>\n",
              "      <td>15.000100</td>\n",
              "      <td>500001.000000</td>\n",
              "    </tr>\n",
              "  </tbody>\n",
              "</table>\n",
              "</div>"
            ],
            "text/plain": [
              "          longitude      latitude  housing_median_age   total_rooms  \\\n",
              "count  20640.000000  20640.000000        20640.000000  20640.000000   \n",
              "mean    -119.569704     35.631861           28.639486   2635.763081   \n",
              "std        2.003532      2.135952           12.585558   2181.615252   \n",
              "min     -124.350000     32.540000            1.000000      2.000000   \n",
              "25%     -121.800000     33.930000           18.000000   1447.750000   \n",
              "50%     -118.490000     34.260000           29.000000   2127.000000   \n",
              "75%     -118.010000     37.710000           37.000000   3148.000000   \n",
              "max     -114.310000     41.950000           52.000000  39320.000000   \n",
              "\n",
              "       total_bedrooms    population    households  median_income  \\\n",
              "count    20433.000000  20640.000000  20640.000000   20640.000000   \n",
              "mean       537.870553   1425.476744    499.539680       3.870671   \n",
              "std        421.385070   1132.462122    382.329753       1.899822   \n",
              "min          1.000000      3.000000      1.000000       0.499900   \n",
              "25%        296.000000    787.000000    280.000000       2.563400   \n",
              "50%        435.000000   1166.000000    409.000000       3.534800   \n",
              "75%        647.000000   1725.000000    605.000000       4.743250   \n",
              "max       6445.000000  35682.000000   6082.000000      15.000100   \n",
              "\n",
              "       median_house_value  \n",
              "count        20640.000000  \n",
              "mean        206855.816909  \n",
              "std         115395.615874  \n",
              "min          14999.000000  \n",
              "25%         119600.000000  \n",
              "50%         179700.000000  \n",
              "75%         264725.000000  \n",
              "max         500001.000000  "
            ]
          },
          "execution_count": 59,
          "metadata": {},
          "output_type": "execute_result"
        }
      ],
      "source": [
        "df.describe()"
      ]
    },
    {
      "cell_type": "code",
      "execution_count": 60,
      "id": "7942190e",
      "metadata": {
        "colab": {
          "base_uri": "https://localhost:8080/"
        },
        "id": "7942190e",
        "outputId": "2b2ed44f-2dae-429d-96f1-7c70a0a6ee33"
      },
      "outputs": [
        {
          "name": "stdout",
          "output_type": "stream",
          "text": [
            "Kolom 'longitude': 0 outlier\n",
            "Kolom 'latitude': 0 outlier\n",
            "Kolom 'housing_median_age': 0 outlier\n",
            "Kolom 'total_rooms': 1287 outlier\n",
            "Kolom 'total_bedrooms': 1271 outlier\n",
            "Kolom 'population': 1196 outlier\n",
            "Kolom 'households': 1220 outlier\n",
            "Kolom 'median_income': 681 outlier\n",
            "Kolom 'median_house_value': 1071 outlier\n"
          ]
        }
      ],
      "source": [
        "numeric = df.select_dtypes(include=['number']).columns\n",
        "for i in numeric:\n",
        "    Q1 = df[i].quantile(0.25)\n",
        "    Q3 = df[i].quantile(0.75)\n",
        "    IQR = Q3 - Q1\n",
        "    lower = Q1 - 1.5 * IQR\n",
        "    upper = Q3 + 1.5 * IQR\n",
        "\n",
        "    outliers = df[(df[i] < lower) | (df[i] > upper)]\n",
        "    print(f\"Kolom '{i}': {len(outliers)} outlier\")"
      ]
    },
    {
      "cell_type": "code",
      "execution_count": 61,
      "id": "8f77c041",
      "metadata": {},
      "outputs": [],
      "source": [
        "df['total_bedrooms'] = df['total_bedrooms'].fillna(df['total_bedrooms'].median())"
      ]
    },
    {
      "cell_type": "markdown",
      "id": "10ed782d",
      "metadata": {
        "id": "10ed782d"
      },
      "source": [
        "- Outliers Handling"
      ]
    },
    {
      "cell_type": "code",
      "execution_count": 62,
      "id": "cda2ee1a",
      "metadata": {},
      "outputs": [
        {
          "data": {
            "text/plain": [
              "np.float64(206855.81690891474)"
            ]
          },
          "execution_count": 62,
          "metadata": {},
          "output_type": "execute_result"
        }
      ],
      "source": [
        "df['median_house_value'].mean()"
      ]
    },
    {
      "cell_type": "code",
      "execution_count": 63,
      "id": "bbf7a9d2",
      "metadata": {
        "colab": {
          "base_uri": "https://localhost:8080/",
          "height": 272
        },
        "id": "bbf7a9d2",
        "outputId": "20beba9e-7084-4e87-86b9-407a0822e8fb"
      },
      "outputs": [
        {
          "data": {
            "text/plain": [
              "ocean_proximity\n",
              "<1H OCEAN     9136\n",
              "INLAND        6551\n",
              "NEAR OCEAN    2658\n",
              "NEAR BAY      2290\n",
              "ISLAND           5\n",
              "Name: count, dtype: int64"
            ]
          },
          "execution_count": 63,
          "metadata": {},
          "output_type": "execute_result"
        }
      ],
      "source": [
        "df['ocean_proximity'].value_counts()"
      ]
    },
    {
      "cell_type": "code",
      "execution_count": 64,
      "id": "6Jx07llU8py8",
      "metadata": {
        "id": "6Jx07llU8py8"
      },
      "outputs": [],
      "source": [
        "\n",
        "def outliersHandling(series):\n",
        "  Q1 = df[series].quantile(0.25)\n",
        "  Q3 = df[series].quantile(0.75)\n",
        "  IQR = Q3 - Q1\n",
        "  lower_bound = Q1 - 1.5 * IQR\n",
        "  upper_bound = Q3 + 1.5 * IQR\n",
        "  df.loc[df[series] > upper_bound, series] = upper_bound\n",
        "  df.loc[df[series] < lower_bound, series] = lower_bound\n",
        "  return df\n"
      ]
    },
    {
      "cell_type": "code",
      "execution_count": 65,
      "id": "FcsnZV_9ES0O",
      "metadata": {
        "colab": {
          "base_uri": "https://localhost:8080/"
        },
        "id": "FcsnZV_9ES0O",
        "outputId": "01a04855-1d7f-4de0-d584-2e95847d79c1"
      },
      "outputs": [
        {
          "name": "stdout",
          "output_type": "stream",
          "text": [
            "Kolom 'longitude': 0 outlier\n",
            "Kolom 'latitude': 0 outlier\n",
            "Kolom 'housing_median_age': 0 outlier\n",
            "Kolom 'total_rooms': 0 outlier\n",
            "Kolom 'total_bedrooms': 0 outlier\n",
            "Kolom 'population': 0 outlier\n",
            "Kolom 'households': 0 outlier\n",
            "Kolom 'median_income': 0 outlier\n",
            "Kolom 'median_house_value': 0 outlier\n"
          ]
        }
      ],
      "source": [
        "numeric = df.select_dtypes(include=['number']).columns\n",
        "\n",
        "for i in numeric:\n",
        "  df = outliersHandling(i)\n",
        "\n",
        "for i in numeric:\n",
        "    Q1 = df[i].quantile(0.25)\n",
        "    Q3 = df[i].quantile(0.75)\n",
        "    IQR = Q3 - Q1\n",
        "    lower = Q1 - 1.5 * IQR\n",
        "    upper = Q3 + 1.5 * IQR\n",
        "\n",
        "    outliers = df[(df[i] < lower) | (df[i] > upper)]\n",
        "    print(f\"Kolom '{i}': {len(outliers)} outlier\")"
      ]
    },
    {
      "cell_type": "markdown",
      "id": "StgKSRjSFKd2",
      "metadata": {
        "id": "StgKSRjSFKd2"
      },
      "source": [
        "- Feature Engineering"
      ]
    },
    {
      "cell_type": "code",
      "execution_count": 66,
      "id": "1nDAq5NnFGRL",
      "metadata": {
        "id": "1nDAq5NnFGRL"
      },
      "outputs": [],
      "source": [
        "ohe = OneHotEncoder(sparse_output=False)\n",
        "encoded_data = ohe.fit_transform(df[['ocean_proximity']])\n",
        "encoded_df = pd.DataFrame(encoded_data, columns=ohe.get_feature_names_out(['ocean_proximity']))\n",
        "df = pd.concat([df.drop(\"ocean_proximity\", axis=1), encoded_df],axis=1)"
      ]
    },
    {
      "cell_type": "markdown",
      "id": "de373a86",
      "metadata": {},
      "source": [
        "- Data Splitting"
      ]
    },
    {
      "cell_type": "code",
      "execution_count": 67,
      "id": "135acd81",
      "metadata": {},
      "outputs": [],
      "source": [
        "X = df.drop('median_house_value', axis=1)\n",
        "y = df['median_house_value']\n",
        "\n",
        "scaler = StandardScaler()\n",
        "X = scaler.fit_transform(X)\n",
        "\n",
        "X_train, X_test, y_train, y_test = train_test_split(X, y, test_size=0.2, random_state=42)"
      ]
    },
    {
      "cell_type": "markdown",
      "id": "80b4104c",
      "metadata": {
        "id": "80b4104c"
      },
      "source": [
        "## Modelling & Evaluation"
      ]
    },
    {
      "cell_type": "code",
      "execution_count": 68,
      "id": "cec31fb9",
      "metadata": {
        "colab": {
          "base_uri": "https://localhost:8080/",
          "height": 211
        },
        "id": "cec31fb9",
        "outputId": "b38b8df5-0b21-4808-fc0d-494a7db390f6"
      },
      "outputs": [
        {
          "name": "stdout",
          "output_type": "stream",
          "text": [
            "Epoch 1/50\n"
          ]
        },
        {
          "name": "stderr",
          "output_type": "stream",
          "text": [
            "d:\\ML\\ML-PredictNumerical\\.venv\\lib\\site-packages\\keras\\src\\layers\\core\\dense.py:87: UserWarning: Do not pass an `input_shape`/`input_dim` argument to a layer. When using Sequential models, prefer using an `Input(shape)` object as the first layer in the model instead.\n",
            "  super().__init__(activity_regularizer=activity_regularizer, **kwargs)\n"
          ]
        },
        {
          "name": "stdout",
          "output_type": "stream",
          "text": [
            "\u001b[1m516/516\u001b[0m \u001b[32m━━━━━━━━━━━━━━━━━━━━\u001b[0m\u001b[37m\u001b[0m \u001b[1m3s\u001b[0m 3ms/step - loss: 50799525888.0000 - mae: 194670.3125 - val_loss: 8458016768.0000 - val_mae: 69682.0391\n",
            "Epoch 2/50\n",
            "\u001b[1m516/516\u001b[0m \u001b[32m━━━━━━━━━━━━━━━━━━━━\u001b[0m\u001b[37m\u001b[0m \u001b[1m1s\u001b[0m 3ms/step - loss: 8080094720.0000 - mae: 68668.9062 - val_loss: 6027424768.0000 - val_mae: 57368.9414\n",
            "Epoch 3/50\n",
            "\u001b[1m516/516\u001b[0m \u001b[32m━━━━━━━━━━━━━━━━━━━━\u001b[0m\u001b[37m\u001b[0m \u001b[1m2s\u001b[0m 3ms/step - loss: 6241881088.0000 - mae: 58817.4531 - val_loss: 5239020032.0000 - val_mae: 52726.2539\n",
            "Epoch 4/50\n",
            "\u001b[1m516/516\u001b[0m \u001b[32m━━━━━━━━━━━━━━━━━━━━\u001b[0m\u001b[37m\u001b[0m \u001b[1m2s\u001b[0m 3ms/step - loss: 5415463424.0000 - mae: 54271.6445 - val_loss: 4795996160.0000 - val_mae: 50071.4219\n",
            "Epoch 5/50\n",
            "\u001b[1m516/516\u001b[0m \u001b[32m━━━━━━━━━━━━━━━━━━━━\u001b[0m\u001b[37m\u001b[0m \u001b[1m2s\u001b[0m 4ms/step - loss: 5285352448.0000 - mae: 53041.0234 - val_loss: 4545245696.0000 - val_mae: 48071.2109\n",
            "Epoch 6/50\n",
            "\u001b[1m516/516\u001b[0m \u001b[32m━━━━━━━━━━━━━━━━━━━━\u001b[0m\u001b[37m\u001b[0m \u001b[1m2s\u001b[0m 4ms/step - loss: 4877345280.0000 - mae: 50801.2969 - val_loss: 4383399936.0000 - val_mae: 47157.3359\n",
            "Epoch 7/50\n",
            "\u001b[1m516/516\u001b[0m \u001b[32m━━━━━━━━━━━━━━━━━━━━\u001b[0m\u001b[37m\u001b[0m \u001b[1m2s\u001b[0m 4ms/step - loss: 4828836864.0000 - mae: 50287.6719 - val_loss: 4283635200.0000 - val_mae: 46569.4453\n",
            "Epoch 8/50\n",
            "\u001b[1m516/516\u001b[0m \u001b[32m━━━━━━━━━━━━━━━━━━━━\u001b[0m\u001b[37m\u001b[0m \u001b[1m2s\u001b[0m 4ms/step - loss: 4806223872.0000 - mae: 50013.9531 - val_loss: 4220297472.0000 - val_mae: 46251.6875\n",
            "Epoch 9/50\n",
            "\u001b[1m516/516\u001b[0m \u001b[32m━━━━━━━━━━━━━━━━━━━━\u001b[0m\u001b[37m\u001b[0m \u001b[1m2s\u001b[0m 3ms/step - loss: 4660782592.0000 - mae: 49232.6016 - val_loss: 4154635264.0000 - val_mae: 45721.5000\n",
            "Epoch 10/50\n",
            "\u001b[1m516/516\u001b[0m \u001b[32m━━━━━━━━━━━━━━━━━━━━\u001b[0m\u001b[37m\u001b[0m \u001b[1m2s\u001b[0m 4ms/step - loss: 4651978240.0000 - mae: 48827.1484 - val_loss: 4141098752.0000 - val_mae: 45310.2188\n",
            "Epoch 11/50\n",
            "\u001b[1m516/516\u001b[0m \u001b[32m━━━━━━━━━━━━━━━━━━━━\u001b[0m\u001b[37m\u001b[0m \u001b[1m2s\u001b[0m 4ms/step - loss: 4532451840.0000 - mae: 48910.8398 - val_loss: 4113207808.0000 - val_mae: 45047.2578\n",
            "Epoch 12/50\n",
            "\u001b[1m516/516\u001b[0m \u001b[32m━━━━━━━━━━━━━━━━━━━━\u001b[0m\u001b[37m\u001b[0m \u001b[1m2s\u001b[0m 4ms/step - loss: 4628961792.0000 - mae: 48761.0391 - val_loss: 4090071552.0000 - val_mae: 45028.4414\n",
            "Epoch 13/50\n",
            "\u001b[1m516/516\u001b[0m \u001b[32m━━━━━━━━━━━━━━━━━━━━\u001b[0m\u001b[37m\u001b[0m \u001b[1m2s\u001b[0m 4ms/step - loss: 4664155648.0000 - mae: 48383.3398 - val_loss: 4068516608.0000 - val_mae: 44710.5234\n",
            "Epoch 14/50\n",
            "\u001b[1m516/516\u001b[0m \u001b[32m━━━━━━━━━━━━━━━━━━━━\u001b[0m\u001b[37m\u001b[0m \u001b[1m2s\u001b[0m 4ms/step - loss: 4414630400.0000 - mae: 47495.8242 - val_loss: 4050295040.0000 - val_mae: 44725.8242\n",
            "Epoch 15/50\n",
            "\u001b[1m516/516\u001b[0m \u001b[32m━━━━━━━━━━━━━━━━━━━━\u001b[0m\u001b[37m\u001b[0m \u001b[1m2s\u001b[0m 4ms/step - loss: 4353900032.0000 - mae: 47133.5547 - val_loss: 4036754944.0000 - val_mae: 44573.2617\n",
            "Epoch 16/50\n",
            "\u001b[1m516/516\u001b[0m \u001b[32m━━━━━━━━━━━━━━━━━━━━\u001b[0m\u001b[37m\u001b[0m \u001b[1m2s\u001b[0m 4ms/step - loss: 4547467776.0000 - mae: 48477.5117 - val_loss: 4043616768.0000 - val_mae: 44260.7383\n",
            "Epoch 17/50\n",
            "\u001b[1m516/516\u001b[0m \u001b[32m━━━━━━━━━━━━━━━━━━━━\u001b[0m\u001b[37m\u001b[0m \u001b[1m2s\u001b[0m 4ms/step - loss: 4394929152.0000 - mae: 47318.7500 - val_loss: 4009078272.0000 - val_mae: 44225.6055\n",
            "Epoch 18/50\n",
            "\u001b[1m516/516\u001b[0m \u001b[32m━━━━━━━━━━━━━━━━━━━━\u001b[0m\u001b[37m\u001b[0m \u001b[1m2s\u001b[0m 4ms/step - loss: 4385229312.0000 - mae: 47365.9922 - val_loss: 4005264128.0000 - val_mae: 44193.3438\n",
            "Epoch 19/50\n",
            "\u001b[1m516/516\u001b[0m \u001b[32m━━━━━━━━━━━━━━━━━━━━\u001b[0m\u001b[37m\u001b[0m \u001b[1m2s\u001b[0m 4ms/step - loss: 4212162048.0000 - mae: 46526.3633 - val_loss: 3997427200.0000 - val_mae: 44122.6836\n",
            "Epoch 20/50\n",
            "\u001b[1m516/516\u001b[0m \u001b[32m━━━━━━━━━━━━━━━━━━━━\u001b[0m\u001b[37m\u001b[0m \u001b[1m2s\u001b[0m 4ms/step - loss: 4311091200.0000 - mae: 46902.8281 - val_loss: 4000282368.0000 - val_mae: 44026.2344\n",
            "Epoch 21/50\n",
            "\u001b[1m516/516\u001b[0m \u001b[32m━━━━━━━━━━━━━━━━━━━━\u001b[0m\u001b[37m\u001b[0m \u001b[1m2s\u001b[0m 4ms/step - loss: 4410547200.0000 - mae: 47480.7500 - val_loss: 3972979968.0000 - val_mae: 43970.7383\n",
            "Epoch 22/50\n",
            "\u001b[1m516/516\u001b[0m \u001b[32m━━━━━━━━━━━━━━━━━━━━\u001b[0m\u001b[37m\u001b[0m \u001b[1m2s\u001b[0m 4ms/step - loss: 4286166016.0000 - mae: 46894.7148 - val_loss: 3979149568.0000 - val_mae: 43744.8828\n",
            "Epoch 23/50\n",
            "\u001b[1m516/516\u001b[0m \u001b[32m━━━━━━━━━━━━━━━━━━━━\u001b[0m\u001b[37m\u001b[0m \u001b[1m2s\u001b[0m 4ms/step - loss: 4274753536.0000 - mae: 46669.7812 - val_loss: 3947737088.0000 - val_mae: 43770.1367\n",
            "Epoch 24/50\n",
            "\u001b[1m516/516\u001b[0m \u001b[32m━━━━━━━━━━━━━━━━━━━━\u001b[0m\u001b[37m\u001b[0m \u001b[1m2s\u001b[0m 4ms/step - loss: 4422699008.0000 - mae: 47725.2344 - val_loss: 3970179072.0000 - val_mae: 43518.5156\n",
            "Epoch 25/50\n",
            "\u001b[1m516/516\u001b[0m \u001b[32m━━━━━━━━━━━━━━━━━━━━\u001b[0m\u001b[37m\u001b[0m \u001b[1m2s\u001b[0m 4ms/step - loss: 4356697088.0000 - mae: 47181.0742 - val_loss: 3932569344.0000 - val_mae: 43499.0000\n",
            "Epoch 26/50\n",
            "\u001b[1m516/516\u001b[0m \u001b[32m━━━━━━━━━━━━━━━━━━━━\u001b[0m\u001b[37m\u001b[0m \u001b[1m2s\u001b[0m 4ms/step - loss: 4384728064.0000 - mae: 46785.7070 - val_loss: 3909861376.0000 - val_mae: 43469.0742\n",
            "Epoch 27/50\n",
            "\u001b[1m516/516\u001b[0m \u001b[32m━━━━━━━━━━━━━━━━━━━━\u001b[0m\u001b[37m\u001b[0m \u001b[1m3s\u001b[0m 4ms/step - loss: 4349565952.0000 - mae: 47055.0664 - val_loss: 3903080960.0000 - val_mae: 43543.8164\n",
            "Epoch 28/50\n",
            "\u001b[1m516/516\u001b[0m \u001b[32m━━━━━━━━━━━━━━━━━━━━\u001b[0m\u001b[37m\u001b[0m \u001b[1m2s\u001b[0m 4ms/step - loss: 4316228096.0000 - mae: 46522.1562 - val_loss: 3887006464.0000 - val_mae: 43212.3320\n",
            "Epoch 29/50\n",
            "\u001b[1m516/516\u001b[0m \u001b[32m━━━━━━━━━━━━━━━━━━━━\u001b[0m\u001b[37m\u001b[0m \u001b[1m2s\u001b[0m 4ms/step - loss: 4243176448.0000 - mae: 46417.6914 - val_loss: 3872500480.0000 - val_mae: 43356.4414\n",
            "Epoch 30/50\n",
            "\u001b[1m516/516\u001b[0m \u001b[32m━━━━━━━━━━━━━━━━━━━━\u001b[0m\u001b[37m\u001b[0m \u001b[1m2s\u001b[0m 5ms/step - loss: 4178949632.0000 - mae: 46330.7539 - val_loss: 3844914688.0000 - val_mae: 43329.0703\n",
            "Epoch 31/50\n",
            "\u001b[1m516/516\u001b[0m \u001b[32m━━━━━━━━━━━━━━━━━━━━\u001b[0m\u001b[37m\u001b[0m \u001b[1m2s\u001b[0m 4ms/step - loss: 4218641152.0000 - mae: 46431.5430 - val_loss: 3878866432.0000 - val_mae: 43200.9062\n",
            "Epoch 32/50\n",
            "\u001b[1m516/516\u001b[0m \u001b[32m━━━━━━━━━━━━━━━━━━━━\u001b[0m\u001b[37m\u001b[0m \u001b[1m2s\u001b[0m 4ms/step - loss: 4144393216.0000 - mae: 45961.3633 - val_loss: 3830619648.0000 - val_mae: 43200.1250\n",
            "Epoch 33/50\n",
            "\u001b[1m516/516\u001b[0m \u001b[32m━━━━━━━━━━━━━━━━━━━━\u001b[0m\u001b[37m\u001b[0m \u001b[1m2s\u001b[0m 4ms/step - loss: 4302004736.0000 - mae: 46754.9453 - val_loss: 3837029120.0000 - val_mae: 42915.8867\n",
            "Epoch 34/50\n",
            "\u001b[1m516/516\u001b[0m \u001b[32m━━━━━━━━━━━━━━━━━━━━\u001b[0m\u001b[37m\u001b[0m \u001b[1m2s\u001b[0m 4ms/step - loss: 4129598720.0000 - mae: 46388.3594 - val_loss: 3827395584.0000 - val_mae: 43027.2266\n",
            "Epoch 35/50\n",
            "\u001b[1m516/516\u001b[0m \u001b[32m━━━━━━━━━━━━━━━━━━━━\u001b[0m\u001b[37m\u001b[0m \u001b[1m2s\u001b[0m 4ms/step - loss: 4187828992.0000 - mae: 45905.7266 - val_loss: 3796265984.0000 - val_mae: 43209.3828\n",
            "Epoch 36/50\n",
            "\u001b[1m516/516\u001b[0m \u001b[32m━━━━━━━━━━━━━━━━━━━━\u001b[0m\u001b[37m\u001b[0m \u001b[1m2s\u001b[0m 4ms/step - loss: 4106723328.0000 - mae: 45641.4062 - val_loss: 3798391808.0000 - val_mae: 42785.9844\n",
            "Epoch 37/50\n",
            "\u001b[1m516/516\u001b[0m \u001b[32m━━━━━━━━━━━━━━━━━━━━\u001b[0m\u001b[37m\u001b[0m \u001b[1m2s\u001b[0m 4ms/step - loss: 4139479040.0000 - mae: 46055.1094 - val_loss: 3795258624.0000 - val_mae: 42739.7734\n",
            "Epoch 38/50\n",
            "\u001b[1m516/516\u001b[0m \u001b[32m━━━━━━━━━━━━━━━━━━━━\u001b[0m\u001b[37m\u001b[0m \u001b[1m2s\u001b[0m 4ms/step - loss: 4291249664.0000 - mae: 46481.5430 - val_loss: 3768919296.0000 - val_mae: 42697.9180\n",
            "Epoch 39/50\n",
            "\u001b[1m516/516\u001b[0m \u001b[32m━━━━━━━━━━━━━━━━━━━━\u001b[0m\u001b[37m\u001b[0m \u001b[1m2s\u001b[0m 4ms/step - loss: 4121938688.0000 - mae: 45970.4609 - val_loss: 3793083648.0000 - val_mae: 42602.2500\n",
            "Epoch 40/50\n",
            "\u001b[1m516/516\u001b[0m \u001b[32m━━━━━━━━━━━━━━━━━━━━\u001b[0m\u001b[37m\u001b[0m \u001b[1m2s\u001b[0m 4ms/step - loss: 4136441344.0000 - mae: 45892.9336 - val_loss: 3776789760.0000 - val_mae: 42814.1992\n",
            "Epoch 41/50\n",
            "\u001b[1m516/516\u001b[0m \u001b[32m━━━━━━━━━━━━━━━━━━━━\u001b[0m\u001b[37m\u001b[0m \u001b[1m2s\u001b[0m 4ms/step - loss: 4066631680.0000 - mae: 45311.5898 - val_loss: 3754138368.0000 - val_mae: 42631.2891\n",
            "Epoch 42/50\n",
            "\u001b[1m516/516\u001b[0m \u001b[32m━━━━━━━━━━━━━━━━━━━━\u001b[0m\u001b[37m\u001b[0m \u001b[1m2s\u001b[0m 4ms/step - loss: 4210089472.0000 - mae: 46197.1797 - val_loss: 3819947008.0000 - val_mae: 42493.8281\n",
            "Epoch 43/50\n",
            "\u001b[1m516/516\u001b[0m \u001b[32m━━━━━━━━━━━━━━━━━━━━\u001b[0m\u001b[37m\u001b[0m \u001b[1m2s\u001b[0m 4ms/step - loss: 4026108160.0000 - mae: 45294.2461 - val_loss: 3731155456.0000 - val_mae: 42681.5195\n",
            "Epoch 44/50\n",
            "\u001b[1m516/516\u001b[0m \u001b[32m━━━━━━━━━━━━━━━━━━━━\u001b[0m\u001b[37m\u001b[0m \u001b[1m2s\u001b[0m 4ms/step - loss: 4016424192.0000 - mae: 45254.9609 - val_loss: 3728861184.0000 - val_mae: 42535.5117\n",
            "Epoch 45/50\n",
            "\u001b[1m516/516\u001b[0m \u001b[32m━━━━━━━━━━━━━━━━━━━━\u001b[0m\u001b[37m\u001b[0m \u001b[1m2s\u001b[0m 4ms/step - loss: 4151061760.0000 - mae: 45494.7852 - val_loss: 3784729088.0000 - val_mae: 42350.8828\n",
            "Epoch 46/50\n",
            "\u001b[1m516/516\u001b[0m \u001b[32m━━━━━━━━━━━━━━━━━━━━\u001b[0m\u001b[37m\u001b[0m \u001b[1m2s\u001b[0m 3ms/step - loss: 4237898752.0000 - mae: 46097.9883 - val_loss: 3756538880.0000 - val_mae: 42300.3008\n",
            "Epoch 47/50\n",
            "\u001b[1m516/516\u001b[0m \u001b[32m━━━━━━━━━━━━━━━━━━━━\u001b[0m\u001b[37m\u001b[0m \u001b[1m2s\u001b[0m 4ms/step - loss: 3986191872.0000 - mae: 45410.9375 - val_loss: 3781099008.0000 - val_mae: 42302.1875\n",
            "Epoch 48/50\n",
            "\u001b[1m516/516\u001b[0m \u001b[32m━━━━━━━━━━━━━━━━━━━━\u001b[0m\u001b[37m\u001b[0m \u001b[1m2s\u001b[0m 4ms/step - loss: 4237534720.0000 - mae: 46002.5898 - val_loss: 3719857920.0000 - val_mae: 42327.2109\n",
            "Epoch 49/50\n",
            "\u001b[1m516/516\u001b[0m \u001b[32m━━━━━━━━━━━━━━━━━━━━\u001b[0m\u001b[37m\u001b[0m \u001b[1m2s\u001b[0m 4ms/step - loss: 4142489344.0000 - mae: 45954.6367 - val_loss: 3699155200.0000 - val_mae: 42173.3594\n",
            "Epoch 50/50\n",
            "\u001b[1m516/516\u001b[0m \u001b[32m━━━━━━━━━━━━━━━━━━━━\u001b[0m\u001b[37m\u001b[0m \u001b[1m2s\u001b[0m 4ms/step - loss: 4079630592.0000 - mae: 45387.5625 - val_loss: 3704331264.0000 - val_mae: 42024.8672\n"
          ]
        }
      ],
      "source": [
        "model = Sequential([\n",
        "    Dense(128, activation='relu', input_shape=(X_train.shape[1],)),\n",
        "    Dense(64, activation='relu'),\n",
        "    Dense(32, activation='relu'),\n",
        "    Dropout(0.2),\n",
        "    Dense(1)\n",
        "])\n",
        "\n",
        "model.compile(optimizer='adam', loss='mean_squared_error', metrics=['mae'])\n",
        "early = EarlyStopping(patience=5, restore_best_weights=True)\n",
        "history = model.fit(X_train, y_train, validation_data=(X_test, y_test), epochs=50, batch_size=32, callbacks=[early])"
      ]
    },
    {
      "cell_type": "code",
      "execution_count": 69,
      "id": "813376c2",
      "metadata": {},
      "outputs": [
        {
          "name": "stdout",
          "output_type": "stream",
          "text": [
            "MAE sekitar 20.53% dari rata-rata harga rumah.\n"
          ]
        }
      ],
      "source": [
        "val_mae = history.history['val_mae'][-1]\n",
        "mae_percent = (val_mae / y_test.mean()) * 100\n",
        "print(f\"MAE sekitar {mae_percent:.2f}% dari rata-rata harga rumah.\")"
      ]
    },
    {
      "cell_type": "code",
      "execution_count": 70,
      "id": "34896475",
      "metadata": {},
      "outputs": [
        {
          "data": {
            "image/png": "[encoded data removed]",
            "text/plain": [
              "<Figure size 1200x500 with 2 Axes>"
            ]
          },
          "metadata": {},
          "output_type": "display_data"
        }
      ],
      "source": [
        "# Plot Loss (MSE)\n",
        "plt.figure(figsize=(12, 5))\n",
        "\n",
        "plt.subplot(1, 2, 1)\n",
        "plt.plot(history.history['loss'], label='Train Loss (MSE)')\n",
        "plt.plot(history.history['val_loss'], label='Validation Loss (MSE)')\n",
        "plt.xlabel('Epoch')\n",
        "plt.ylabel('Loss')\n",
        "plt.title('Training vs Validation Loss')\n",
        "plt.legend()\n",
        "plt.grid(True)\n",
        "\n",
        "# Plot MAE\n",
        "plt.subplot(1, 2, 2)\n",
        "plt.plot(history.history['mae'], label='Train MAE')\n",
        "plt.plot(history.history['val_mae'], label='Validation MAE')\n",
        "plt.xlabel('Epoch')\n",
        "plt.ylabel('Mean Absolute Error')\n",
        "plt.title('Training vs Validation MAE')\n",
        "plt.legend()\n",
        "plt.grid(True)\n",
        "\n",
        "plt.tight_layout()\n",
        "plt.show()\n"
      ]
    },
    {
      "cell_type": "code",
      "execution_count": 71,
      "id": "83fd920f",
      "metadata": {
        "colab": {
          "base_uri": "https://localhost:8080/",
          "height": 211
        },
        "id": "83fd920f",
        "outputId": "1c260ab8-3cbc-4b4d-9d57-a4b5781c1c22"
      },
      "outputs": [
        {
          "name": "stdout",
          "output_type": "stream",
          "text": [
            "Epoch 1/50\n"
          ]
        },
        {
          "name": "stderr",
          "output_type": "stream",
          "text": [
            "d:\\ML\\ML-PredictNumerical\\.venv\\lib\\site-packages\\keras\\src\\layers\\convolutional\\base_conv.py:107: UserWarning: Do not pass an `input_shape`/`input_dim` argument to a layer. When using Sequential models, prefer using an `Input(shape)` object as the first layer in the model instead.\n",
            "  super().__init__(activity_regularizer=activity_regularizer, **kwargs)\n"
          ]
        },
        {
          "name": "stdout",
          "output_type": "stream",
          "text": [
            "\u001b[1m516/516\u001b[0m \u001b[32m━━━━━━━━━━━━━━━━━━━━\u001b[0m\u001b[37m\u001b[0m \u001b[1m6s\u001b[0m 8ms/step - loss: 54614220800.0000 - mae: 203819.9062 - val_loss: 23315197952.0000 - val_mae: 111359.4062\n",
            "Epoch 2/50\n",
            "\u001b[1m516/516\u001b[0m \u001b[32m━━━━━━━━━━━━━━━━━━━━\u001b[0m\u001b[37m\u001b[0m \u001b[1m4s\u001b[0m 7ms/step - loss: 19903131648.0000 - mae: 104296.8750 - val_loss: 16081180672.0000 - val_mae: 92485.9766\n",
            "Epoch 3/50\n",
            "\u001b[1m516/516\u001b[0m \u001b[32m━━━━━━━━━━━━━━━━━━━━\u001b[0m\u001b[37m\u001b[0m \u001b[1m4s\u001b[0m 7ms/step - loss: 13945624576.0000 - mae: 91164.3125 - val_loss: 16635169792.0000 - val_mae: 84818.0391\n",
            "Epoch 4/50\n",
            "\u001b[1m516/516\u001b[0m \u001b[32m━━━━━━━━━━━━━━━━━━━━\u001b[0m\u001b[37m\u001b[0m \u001b[1m4s\u001b[0m 7ms/step - loss: 12286201856.0000 - mae: 85340.0859 - val_loss: 16822900736.0000 - val_mae: 83318.5078\n",
            "Epoch 5/50\n",
            "\u001b[1m516/516\u001b[0m \u001b[32m━━━━━━━━━━━━━━━━━━━━\u001b[0m\u001b[37m\u001b[0m \u001b[1m4s\u001b[0m 7ms/step - loss: 11773466624.0000 - mae: 83791.5469 - val_loss: 16392225792.0000 - val_mae: 81007.7344\n",
            "Epoch 6/50\n",
            "\u001b[1m516/516\u001b[0m \u001b[32m━━━━━━━━━━━━━━━━━━━━\u001b[0m\u001b[37m\u001b[0m \u001b[1m4s\u001b[0m 7ms/step - loss: 11680123904.0000 - mae: 83078.1406 - val_loss: 15858395136.0000 - val_mae: 78912.2969\n",
            "Epoch 7/50\n",
            "\u001b[1m516/516\u001b[0m \u001b[32m━━━━━━━━━━━━━━━━━━━━\u001b[0m\u001b[37m\u001b[0m \u001b[1m4s\u001b[0m 7ms/step - loss: 11213398016.0000 - mae: 81534.5859 - val_loss: 15439412224.0000 - val_mae: 79504.5312\n",
            "Epoch 8/50\n",
            "\u001b[1m516/516\u001b[0m \u001b[32m━━━━━━━━━━━━━━━━━━━━\u001b[0m\u001b[37m\u001b[0m \u001b[1m4s\u001b[0m 8ms/step - loss: 11057728512.0000 - mae: 81306.9531 - val_loss: 15728891904.0000 - val_mae: 80783.8438\n",
            "Epoch 9/50\n",
            "\u001b[1m516/516\u001b[0m \u001b[32m━━━━━━━━━━━━━━━━━━━━\u001b[0m\u001b[37m\u001b[0m \u001b[1m4s\u001b[0m 8ms/step - loss: 10970273792.0000 - mae: 80833.6953 - val_loss: 15128635392.0000 - val_mae: 77193.6250\n",
            "Epoch 10/50\n",
            "\u001b[1m516/516\u001b[0m \u001b[32m━━━━━━━━━━━━━━━━━━━━\u001b[0m\u001b[37m\u001b[0m \u001b[1m4s\u001b[0m 7ms/step - loss: 10910416896.0000 - mae: 80132.1562 - val_loss: 15503214592.0000 - val_mae: 79169.7969\n",
            "Epoch 11/50\n",
            "\u001b[1m516/516\u001b[0m \u001b[32m━━━━━━━━━━━━━━━━━━━━\u001b[0m\u001b[37m\u001b[0m \u001b[1m4s\u001b[0m 7ms/step - loss: 10541140992.0000 - mae: 78817.5859 - val_loss: 15653876736.0000 - val_mae: 74701.5781\n",
            "Epoch 12/50\n",
            "\u001b[1m516/516\u001b[0m \u001b[32m━━━━━━━━━━━━━━━━━━━━\u001b[0m\u001b[37m\u001b[0m \u001b[1m4s\u001b[0m 7ms/step - loss: 10661908480.0000 - mae: 79470.8516 - val_loss: 14952668160.0000 - val_mae: 76345.8906\n",
            "Epoch 13/50\n",
            "\u001b[1m516/516\u001b[0m \u001b[32m━━━━━━━━━━━━━━━━━━━━\u001b[0m\u001b[37m\u001b[0m \u001b[1m4s\u001b[0m 7ms/step - loss: 10632136704.0000 - mae: 79178.9844 - val_loss: 15054537728.0000 - val_mae: 75102.7734\n",
            "Epoch 14/50\n",
            "\u001b[1m516/516\u001b[0m \u001b[32m━━━━━━━━━━━━━━━━━━━━\u001b[0m\u001b[37m\u001b[0m \u001b[1m4s\u001b[0m 7ms/step - loss: 10356379648.0000 - mae: 78180.8906 - val_loss: 15168693248.0000 - val_mae: 78085.9297\n",
            "Epoch 15/50\n",
            "\u001b[1m516/516\u001b[0m \u001b[32m━━━━━━━━━━━━━━━━━━━━\u001b[0m\u001b[37m\u001b[0m \u001b[1m4s\u001b[0m 7ms/step - loss: 10514668544.0000 - mae: 78458.8359 - val_loss: 15251676160.0000 - val_mae: 78962.8594\n",
            "Epoch 16/50\n",
            "\u001b[1m516/516\u001b[0m \u001b[32m━━━━━━━━━━━━━━━━━━━━\u001b[0m\u001b[37m\u001b[0m \u001b[1m4s\u001b[0m 7ms/step - loss: 10331686912.0000 - mae: 77959.7344 - val_loss: 14963772416.0000 - val_mae: 77417.5078\n",
            "Epoch 17/50\n",
            "\u001b[1m516/516\u001b[0m \u001b[32m━━━━━━━━━━━━━━━━━━━━\u001b[0m\u001b[37m\u001b[0m \u001b[1m4s\u001b[0m 8ms/step - loss: 10350431232.0000 - mae: 78380.7109 - val_loss: 14900543488.0000 - val_mae: 75501.6641\n",
            "Epoch 18/50\n",
            "\u001b[1m516/516\u001b[0m \u001b[32m━━━━━━━━━━━━━━━━━━━━\u001b[0m\u001b[37m\u001b[0m \u001b[1m4s\u001b[0m 7ms/step - loss: 10086400000.0000 - mae: 77052.5781 - val_loss: 14928617472.0000 - val_mae: 77141.5938\n",
            "Epoch 19/50\n",
            "\u001b[1m516/516\u001b[0m \u001b[32m━━━━━━━━━━━━━━━━━━━━\u001b[0m\u001b[37m\u001b[0m \u001b[1m4s\u001b[0m 7ms/step - loss: 10126497792.0000 - mae: 76751.0859 - val_loss: 14983385088.0000 - val_mae: 72844.1875\n",
            "Epoch 20/50\n",
            "\u001b[1m516/516\u001b[0m \u001b[32m━━━━━━━━━━━━━━━━━━━━\u001b[0m\u001b[37m\u001b[0m \u001b[1m4s\u001b[0m 7ms/step - loss: 10009830400.0000 - mae: 76172.7969 - val_loss: 16040906752.0000 - val_mae: 72668.5078\n",
            "Epoch 21/50\n",
            "\u001b[1m516/516\u001b[0m \u001b[32m━━━━━━━━━━━━━━━━━━━━\u001b[0m\u001b[37m\u001b[0m \u001b[1m3s\u001b[0m 7ms/step - loss: 9923591168.0000 - mae: 76196.1797 - val_loss: 15983413248.0000 - val_mae: 84363.4219\n",
            "Epoch 22/50\n",
            "\u001b[1m516/516\u001b[0m \u001b[32m━━━━━━━━━━━━━━━━━━━━\u001b[0m\u001b[37m\u001b[0m \u001b[1m3s\u001b[0m 6ms/step - loss: 10122863616.0000 - mae: 77025.5312 - val_loss: 14711134208.0000 - val_mae: 76826.2031\n",
            "Epoch 23/50\n",
            "\u001b[1m516/516\u001b[0m \u001b[32m━━━━━━━━━━━━━━━━━━━━\u001b[0m\u001b[37m\u001b[0m \u001b[1m3s\u001b[0m 6ms/step - loss: 10103053312.0000 - mae: 76744.8906 - val_loss: 14534395904.0000 - val_mae: 76060.2734\n",
            "Epoch 24/50\n",
            "\u001b[1m516/516\u001b[0m \u001b[32m━━━━━━━━━━━━━━━━━━━━\u001b[0m\u001b[37m\u001b[0m \u001b[1m3s\u001b[0m 7ms/step - loss: 9932239872.0000 - mae: 76371.8984 - val_loss: 14834993152.0000 - val_mae: 71574.1484\n",
            "Epoch 25/50\n",
            "\u001b[1m516/516\u001b[0m \u001b[32m━━━━━━━━━━━━━━━━━━━━\u001b[0m\u001b[37m\u001b[0m \u001b[1m4s\u001b[0m 7ms/step - loss: 9692478464.0000 - mae: 75219.6172 - val_loss: 14330055680.0000 - val_mae: 74681.8516\n",
            "Epoch 26/50\n",
            "\u001b[1m516/516\u001b[0m \u001b[32m━━━━━━━━━━━━━━━━━━━━\u001b[0m\u001b[37m\u001b[0m \u001b[1m4s\u001b[0m 7ms/step - loss: 9892406272.0000 - mae: 75748.7422 - val_loss: 14282915840.0000 - val_mae: 74321.8438\n",
            "Epoch 27/50\n",
            "\u001b[1m516/516\u001b[0m \u001b[32m━━━━━━━━━━━━━━━━━━━━\u001b[0m\u001b[37m\u001b[0m \u001b[1m4s\u001b[0m 7ms/step - loss: 9511315456.0000 - mae: 74189.5312 - val_loss: 14923819008.0000 - val_mae: 80139.2734\n",
            "Epoch 28/50\n",
            "\u001b[1m516/516\u001b[0m \u001b[32m━━━━━━━━━━━━━━━━━━━━\u001b[0m\u001b[37m\u001b[0m \u001b[1m4s\u001b[0m 8ms/step - loss: 9611572224.0000 - mae: 74235.1484 - val_loss: 14315465728.0000 - val_mae: 72442.0391\n",
            "Epoch 29/50\n",
            "\u001b[1m516/516\u001b[0m \u001b[32m━━━━━━━━━━━━━━━━━━━━\u001b[0m\u001b[37m\u001b[0m \u001b[1m4s\u001b[0m 8ms/step - loss: 9526512640.0000 - mae: 74133.1172 - val_loss: 14656360448.0000 - val_mae: 71013.2266\n",
            "Epoch 30/50\n",
            "\u001b[1m516/516\u001b[0m \u001b[32m━━━━━━━━━━━━━━━━━━━━\u001b[0m\u001b[37m\u001b[0m \u001b[1m4s\u001b[0m 8ms/step - loss: 9554201600.0000 - mae: 74791.3906 - val_loss: 15079087104.0000 - val_mae: 82630.5781\n",
            "Epoch 31/50\n",
            "\u001b[1m516/516\u001b[0m \u001b[32m━━━━━━━━━━━━━━━━━━━━\u001b[0m\u001b[37m\u001b[0m \u001b[1m4s\u001b[0m 7ms/step - loss: 9627987968.0000 - mae: 75316.3984 - val_loss: 14295275520.0000 - val_mae: 75999.3828\n"
          ]
        }
      ],
      "source": [
        "X_train_cnn = X_train.reshape(X_train.shape[0], X_train.shape[1], 1)\n",
        "X_test_cnn = X_test.reshape(X_test.shape[0], X_test.shape[1], 1)\n",
        "\n",
        "cnn_model = Sequential([\n",
        "    Conv1D(64, kernel_size=2, activation='relu', padding='same', input_shape=(X_train.shape[1], 1)),\n",
        "    MaxPooling1D(pool_size=2),\n",
        "    BatchNormalization(),\n",
        "    Conv1D(32, kernel_size=2, activation='relu', padding='same'),\n",
        "    GlobalAveragePooling1D(),\n",
        "    Dense(64, activation='relu'),\n",
        "    Dropout(0.3),\n",
        "    Dense(1)\n",
        "])\n",
        "\n",
        "cnn_model.compile(optimizer='adam', loss='mean_squared_error', metrics=['mae'])\n",
        "early = EarlyStopping(patience=5, restore_best_weights=True)\n",
        "history_cnn = cnn_model.fit(X_train_cnn, y_train, epochs=50, validation_data=(X_test_cnn, y_test), batch_size=32, verbose=1, callbacks=[early])\n"
      ]
    },
    {
      "cell_type": "code",
      "execution_count": 72,
      "id": "69a1a598",
      "metadata": {},
      "outputs": [
        {
          "name": "stdout",
          "output_type": "stream",
          "text": [
            "MAE sekitar 37.13% dari rata-rata harga rumah.\n"
          ]
        }
      ],
      "source": [
        "val_mae = history_cnn.history['val_mae'][-1]\n",
        "mae_percent = (val_mae / y_test.mean()) * 100\n",
        "print(f\"MAE sekitar {mae_percent:.2f}% dari rata-rata harga rumah.\")"
      ]
    },
    {
      "cell_type": "code",
      "execution_count": 73,
      "id": "40305801",
      "metadata": {},
      "outputs": [
        {
          "data": {
            "image/png": "[encoded data removed]",
            "text/plain": [
              "<Figure size 1200x500 with 2 Axes>"
            ]
          },
          "metadata": {},
          "output_type": "display_data"
        }
      ],
      "source": [
        "# Plot Loss (MSE)\n",
        "plt.figure(figsize=(12, 5))\n",
        "\n",
        "plt.subplot(1, 2, 1)\n",
        "plt.plot(history_cnn.history['loss'], label='Train Loss (MSE)')\n",
        "plt.plot(history_cnn.history['val_loss'], label='Validation Loss (MSE)')\n",
        "plt.xlabel('Epoch')\n",
        "plt.ylabel('Loss')\n",
        "plt.title('Training vs Validation Loss')\n",
        "plt.legend()\n",
        "plt.grid(True)\n",
        "\n",
        "# Plot MAE\n",
        "plt.subplot(1, 2, 2)\n",
        "plt.plot(history_cnn.history['mae'], label='Train MAE')\n",
        "plt.plot(history_cnn.history['val_mae'], label='Validation MAE')\n",
        "plt.xlabel('Epoch')\n",
        "plt.ylabel('Mean Absolute Error')\n",
        "plt.title('Training vs Validation MAE')\n",
        "plt.legend()\n",
        "plt.grid(True)\n",
        "\n",
        "plt.tight_layout()\n",
        "plt.show()\n"
      ]
    },
    {
      "cell_type": "markdown",
      "id": "7b60c7ec",
      "metadata": {
        "id": "7b60c7ec"
      },
      "source": [
        "## Predict"
      ]
    },
    {
      "cell_type": "code",
      "execution_count": 74,
      "id": "e0c5a956",
      "metadata": {},
      "outputs": [
        {
          "name": "stdout",
          "output_type": "stream",
          "text": [
            "\u001b[1m1/1\u001b[0m \u001b[32m━━━━━━━━━━━━━━━━━━━━\u001b[0m\u001b[37m\u001b[0m \u001b[1m0s\u001b[0m 158ms/step\n",
            "Prediksi harga rumah: $233,825.48\n"
          ]
        }
      ],
      "source": [
        "data_baru = {\n",
        "    'longitude': -122.23,\n",
        "    'latitude': 40.88,\n",
        "    'housing_median_age': 41.0,\n",
        "    'total_rooms': 882.0,\n",
        "    'total_bedrooms': 129.0,\n",
        "    'population': 352.0,\n",
        "    'households': 136.0,\n",
        "    'median_income': 8.3252,\n",
        "    'ocean_proximity': 'NEAR BAY'\n",
        "}\n",
        "data_baru_df = pd.DataFrame([data_baru])\n",
        "\n",
        "encoded_baru = ohe.transform(data_baru_df[[\"ocean_proximity\"]])\n",
        "encoded_baru_df = pd.DataFrame(encoded_baru, columns=ohe.get_feature_names_out([\"ocean_proximity\"]))\n",
        "\n",
        "# 4. Gabungkan semua fitur\n",
        "data_baru_numeric = data_baru_df.drop(\"ocean_proximity\", axis=1)\n",
        "data_baru_final = pd.concat([data_baru_numeric, encoded_baru_df], axis=1)\n",
        "\n",
        "# 5. Standarisasi fitur numerik\n",
        "data_baru_scaled = scaler.transform(data_baru_final)\n",
        "\n",
        "# 6. Prediksi harga\n",
        "prediksi_harga = cnn_model.predict(data_baru_scaled)\n",
        "print(f\"Prediksi harga rumah: ${prediksi_harga[0][0]:,.2f}\")"
      ]
    },
    {
      "cell_type": "code",
      "execution_count": null,
      "id": "729a9e54",
      "metadata": {},
      "outputs": [],
      "source": []
    }
  ],
  "metadata": {
    "colab": {
      "provenance": []
    },
    "kernelspec": {
      "display_name": ".venv",
      "language": "python",
      "name": "python3"
    },
    "language_info": {
      "codemirror_mode": {
        "name": "ipython",
        "version": 3
      },
      "file_extension": ".py",
      "mimetype": "text/x-python",
      "name": "python",
      "nbconvert_exporter": "python",
      "pygments_lexer": "ipython3",
      "version": "3.10.0"
    }
  },
  "nbformat": 4,
  "nbformat_minor": 5
}
